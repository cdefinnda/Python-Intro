{
  "cells": [
    {
      "cell_type": "markdown",
      "source": [
        "# 💻 Google Colab Notebook Environment"
      ],
      "metadata": {
        "id": "odL4ElZJN6oz"
      }
    },
    {
      "cell_type": "markdown",
      "source": [
        "## Save a Copy of the Notebook to your Drive"
      ],
      "metadata": {
        "id": "Bc76NzYZwU0b"
      }
    },
    {
      "cell_type": "markdown",
      "source": [
        "When you first open a new Google Colab Notebook, **the first thing you should do is to click the button `Copy to Drive` in the Notebook Toolbar above** (next to the `+ Text` button). This will create a copy of the notebook entitled `Copy of [Original Title]` in a new tab. The default file location of this copy is typically in a folder in your Google Drive called \"Colab Notebooks\".\n",
        "\n",
        "If that option doesn't appear for you, you can always click on `File` → `Save a copy in Drive`.\n",
        "\n",
        "Once you have this copy of the Colab Notebook in your Drive, you should feel free to rename the notebook and/or relocate it."
      ],
      "metadata": {
        "id": "lXv8G-IJsXSp"
      }
    },
    {
      "cell_type": "markdown",
      "source": [
        "## Google Colab Basics"
      ],
      "metadata": {
        "id": "WeeM73g0wfHB"
      }
    },
    {
      "cell_type": "markdown",
      "source": [
        "Google Colab is an interactive coding environment that runs in your browser and is powered by Google. You can combine **code** (Python) and **text** (markdown explanations) in a single document. Below are some common tasks for navigating Google Colab:\n",
        "\n",
        "- **Select a cell**: Single click on any cell to select it.\n",
        "- **De-select any cell**: Press `esc` to deselect from all cells.\n",
        "- **Add a new cell**: Use the `+ Code` or `+ Text` buttons that appear when you hover between cells. Alternatively, you can use keyboard shortcuts: `⌘ + M`, then `B` (add below) or `A` (add above)\n",
        "- **Delete a cell**: Press `⌘/Ctrl + M + D` to click the 🗑️ button.\n",
        "- **Undo**: Press `⌘/Ctrl + M + Z` or `⌘/Ctrl + Shift + Z` to undo a cell action.\n",
        "- **Redo**: Press `⌘/Ctrl + M + Z` or `⌘/Ctrl + Shift + Z` to redo a cell action.\n",
        "- **Run a cell**: Click the cell and press `Shift + Enter` or click the ▶️ button.\n",
        "- **Clear all outputs**: Click `Edit` → `Clear all outputs` (Note that this does not clear the variables that are already saved)\n",
        "- **Interrupt run**: If your code is running without any signs of stopping, you may want to interrupt the run so that you can troubleshoot what might be going wront. There are three ways to do this:\n",
        "  - Click on the ⏹️ button (previously the ▶️ button).\n",
        "  - Click `Runtime` → `Interrupt execution`\n",
        "  - Press `⌘/Ctrl + M + I`\n",
        "\n",
        "For more shortcuts see click on `Tools` → `Keyboard shortcuts`.\n",
        "\n",
        "Basic text cell formatting will be covered below, but a more comprehensive guide to markdown can be found here: [Markdown Cheatsheet (Github)](https://github.com/adam-p/markdown-here/wiki/Markdown-Cheatsheet)"
      ],
      "metadata": {
        "id": "Nfqu4FZgPsSC"
      }
    },
    {
      "cell_type": "markdown",
      "source": [
        "## Toggling AI Assistance"
      ],
      "metadata": {
        "id": "X93ULjk5wjKD"
      }
    },
    {
      "cell_type": "markdown",
      "source": [
        "Google Colab provides AI Assistance for writing code as it's default setting. However, to develop your coding skills, I encourage you to turn off AI Assistance when working on your assignments. **To turn off AI Assistance**, follow these steps:\n",
        "1. Click on `Tools` → `Settings`.\n",
        "2. Navigate to the `AI Assistance` tab.\n",
        "3. **Uncheck** `Show AI-powered inline completions`.\n",
        "4. Keep `Consented to use generative AI features` unchecked.\n",
        "5. **Check** `Hide generative AI features`.\n",
        "4. Click `Close`."
      ],
      "metadata": {
        "id": "KbmfGBT2H6dj"
      }
    },
    {
      "cell_type": "markdown",
      "source": [
        "# ✍️ Editing Text Cells with Markdown"
      ],
      "metadata": {
        "id": "Tdwiv5I9T4lS"
      }
    },
    {
      "cell_type": "markdown",
      "source": [
        "👋 Double-click this cell to see Markdown can be used for formatting text cells.\n",
        "\n",
        "Text cells use **Markdown**, a lightweight formatting language for adding:\n",
        "- Section headings\n",
        "- Bullet points\n",
        "  - Sub-bullet points\n",
        "- **Bold** / *italic* / `code`\n",
        "- $Equations$\n",
        "- Tables"
      ],
      "metadata": {
        "id": "npks-ORnTyM6"
      }
    },
    {
      "cell_type": "markdown",
      "source": [
        "## Headings\n",
        "Headings can be created by adding `#` before the heading title:\n",
        "```markdown\n",
        "# Main Heading\n",
        "## Subheading\n",
        "### Smaller Subheading\n",
        "```\n",
        "Note that headings are used to create sections that can hide cells beneath the heading by clicking the 🔽 button next to the heading."
      ],
      "metadata": {
        "id": "BMWfn2EkSgVS"
      }
    },
    {
      "cell_type": "markdown",
      "source": [
        "## Lists\n",
        "\n",
        "- Bullet point with `-`\n",
        "  - Sub-bullet point with `-`\n",
        "    - Sub-sub-bullet point with `-`\n",
        "* Bullet point with `*`\n",
        "  * Sub-bullet point with `*`\n",
        "    * Sub-sub-bullet point with `*`\n",
        "\n",
        "1. Numbered list\n",
        "2. Numbered list continued"
      ],
      "metadata": {
        "id": "zL6dwEI4Wzge"
      }
    },
    {
      "cell_type": "markdown",
      "source": [
        "## Text formatting\n",
        "\n",
        "**bold**\n",
        "\n",
        "*italic*\n",
        "\n",
        "`code`\n",
        "\n",
        "```\n",
        "# code block with no coloration\n",
        "```\n",
        "\n",
        "```markdown\n",
        "# code block with markdown coloration\n",
        "```\n",
        "\n",
        "```python\n",
        "# code block with python coloration\n",
        "```\n",
        "\n",
        "Markdown is meant to for simple text formatting. For more advanced text formatting we have to bring in other languages like HTML to change text color:\n",
        "* <font color='red'>Red text</font>\n",
        "* <font color='blue'>Blue text</font>\n",
        "* <font color='#00CED1'>Turquoise text</font>\n",
        "\n",
        "Default colors include: red, blue, green, orange, purple, brown, black, gray, pink, teal, gold, lime, and navy. However, Hex color codes can also be used to achieve any text color desired.\n"
      ],
      "metadata": {
        "id": "o7wMYwYcX3PD"
      }
    },
    {
      "cell_type": "markdown",
      "source": [
        "## Math Formatting\n",
        "\n",
        "Equations can be embedded in-line (e.g., $y=mx+b$) or as their own block:\n",
        "\n",
        "$$\n",
        "y=mx+b\n",
        "$$\n",
        "\n",
        "Within the `$` `$` symbols, Markdown will recognize a new language known as LaTeX. Here is some common LaTeX formatting to know:\n",
        "* Symbols: $\\alpha, \\omega, \\varepsilon$\n",
        "* Subscripts / Superscripts: $a^{(b+c)}$, $d_{e}$\n",
        "* Fractions: $\\frac{a}{b}$, $\\frac{\\partial x}{\\partial y}$\n",
        "* Relationships: $a \\ge b$, $c \\approx d$, $x \\rightarrow \\infty$\n",
        "* Operations: $a \\times b$, $c \\cdot d$, $\\sum_{i=1}^{n} f(x_{i})$, $\\int_{a}^{b} f(x)$\n",
        "* Size Formatting: $\\big($, $\\Big)$, $\\bigg[$, $\\Bigg]$\n",
        "\n",
        "A more comprehensive guide to Math LaTeX can be found here: [LaTeX/Mathematics (Wikibooks)](https://en.wikibooks.org/wiki/LaTeX/Mathematics)"
      ],
      "metadata": {
        "id": "ZC5iNTyhZL-9"
      }
    },
    {
      "cell_type": "markdown",
      "source": [
        "## Tables\n",
        "\n",
        "Tables are surprisingly challenging to code and format in Markdown. I actually don't even try to code tables myself. Instead, I'll go to [tablesgenerator.com/markdown_tables](https://www.tablesgenerator.com/markdown_tables) where I can format a table using their GUI. Then I'll click the `⚙️ Generate` button below the table and copy/paste the table in my Markdown cell:\n",
        "\n",
        "|   Features   | Item 1 | Item 2 | Item 3 |\n",
        "|:------------:|:------:|:------:|:------:|\n",
        "| Feature A    |   1A   |   2A   |   3A   |\n",
        "| Feature B    |   1B   |   2B   |   3B   |\n",
        "| Feature C    |   1C   |   2C   |   3C   |\n",
        "\n",
        "**Important Note about Tables**: If you use a mixture of `space`s and `tab`s, the table will still display in Google Colab, but it will incorrectly render as you convert your Colab Notebook into a PDF. Unfortunately, tablegenerator.com will use `space`s, but insert a `tab` at the end of each cell on the table. Therefore, you would either need to manually change these `tab`s to `space`s or you can ask an LLM chatbot to help you correctly format your table."
      ],
      "metadata": {
        "id": "8B13kVWo5ZXA"
      }
    },
    {
      "cell_type": "markdown",
      "source": [
        "### 🫵 Give it a try!\n",
        "Double-click the text cell below this one and give it a subheading that will nest under the heading above (hint: you will need more than 2 #'s). Call this subheading 'The Quadratic Equation' and use Math LaTeX to write out the quadratic equation. Beneath your quadratic equation, create a bulleted list where you define a, b, and c as equaling 2, 3, and 5 respectively.\n",
        "\n",
        "The following Math LaTex symbols/formats may be useful: `$\\pm$`, `$\\sqrt{x}$`"
      ],
      "metadata": {
        "id": "KqIKrgexl89X"
      }
    },
    {
      "cell_type": "markdown",
      "source": [],
      "metadata": {
        "id": "FUFdO_37rBmu"
      }
    },
    {
      "cell_type": "markdown",
      "source": [
        "### 👈 If you're stuck, click the 🔽 button on the left for hints."
      ],
      "metadata": {
        "id": "42Qhvpitp-L_"
      }
    },
    {
      "cell_type": "markdown",
      "source": [
        "#### 🤔 Hint #1"
      ],
      "metadata": {
        "id": "ZGEypgbfqoZg"
      }
    },
    {
      "cell_type": "markdown",
      "source": [
        "To create a subheading that nests beneath the cell above, you will need to include at least three #'s (###) before your heading title:\n",
        "\n",
        "##### The Quadratic Equation\n",
        "\n",
        "**Note**: I'm using five #'s so that the the subheading title will nested within the `#### Hint 1` subheading, whereas you would only need four #'s."
      ],
      "metadata": {
        "id": "eOcYir59rmF9"
      }
    },
    {
      "cell_type": "markdown",
      "source": [
        "#### 😅 Hint #2"
      ],
      "metadata": {
        "id": "_cPY2zm0rDsI"
      }
    },
    {
      "cell_type": "markdown",
      "source": [
        "Use `$$` to initiate a centered block of Math LaTeX and use `\\frac{}{}` to create a fraction:\n",
        "\n",
        "##### The Quadratic Equation\n",
        "$$\n",
        "x=\\frac{-b}{2a}\n",
        "$$"
      ],
      "metadata": {
        "id": "9SoMkf7mrFzP"
      }
    },
    {
      "cell_type": "markdown",
      "source": [
        "#### 🥲 Hint #3"
      ],
      "metadata": {
        "id": "ZGFpEVfmnh2C"
      }
    },
    {
      "cell_type": "markdown",
      "source": [
        "Incorporate special characters/operations from Math LaTeX:\n",
        "\n",
        "##### The Quadratic Equation\n",
        "$$\n",
        "x=\\frac{-b \\pm \\sqrt{b^2-4ac}}{2a}\n",
        "$$\n",
        "\n",
        "\n",
        "Then use `-` or `*` to create a bulleted list beneath your equation. Be sure to use `$` to include in-line Math LaTeX equations:\n",
        "\n",
        "##### The Quadratic Equation\n",
        "$$\n",
        "x=\\frac{-b \\pm \\sqrt{b^2-4ac}}{2a}\n",
        "$$\n",
        "* $a=2$\n",
        "*"
      ],
      "metadata": {
        "id": "_33qfuyVnrPF"
      }
    },
    {
      "cell_type": "markdown",
      "source": [
        "#### 🥳 Check your solution!"
      ],
      "metadata": {
        "id": "3rjS7nqipqih"
      }
    },
    {
      "cell_type": "markdown",
      "source": [
        "##### The Quadratic Equation\n",
        "$$\n",
        "x=\\frac{-b \\pm \\sqrt{b^2-4ac}}{2a}\n",
        "$$\n",
        "* $a=2$\n",
        "* $b=3$\n",
        "* $c=5$"
      ],
      "metadata": {
        "id": "ThWbJW8jptsJ"
      }
    },
    {
      "cell_type": "markdown",
      "source": [
        "### 💪 Extra Practice\n",
        "\n",
        "Be sure to create a text cell below each exercise below. You can do this multiple ways:\n",
        "1. Hovering your cursor between cells until the `+ code` and `+ text` buttons appear, and then click the `+ text` button.\n",
        "2. Click the `+ Text` button in the ribbon above (whether this is an option may be depend on the device you are using or how large your window is). Be sure that you have the cell above where you want the text cell to go selected before doing this.\n",
        "3. Click `Insert` then `Text Cell`. Again, be sure that you have the cell above where you want the text cell to go selected before doing this."
      ],
      "metadata": {
        "id": "01V8c0MZqxSg"
      }
    },
    {
      "cell_type": "markdown",
      "source": [
        "#### 💪 Make your own math equation\n",
        "\n",
        "* Write your own mathematical equation that uses various operators and Greek symbols (see [here](https://en.wikibooks.org/wiki/LaTeX/Mathematics#List_of_mathematical_symbols) for some examples).\n",
        "* If you want to challenge yourself, try writing an expression that uses integrals ($\\int$) or summations ($\\sum$) (see [here](https://www.overleaf.com/learn/latex/Integrals%2C_sums_and_limits) for guidance).\n",
        "* If you *really* want to challenge yourself, try writing a matrix equation (see [here](https://www.overleaf.com/learn/latex/Matrices) for guidance)."
      ],
      "metadata": {
        "id": "VbncbP2VsAgd"
      }
    },
    {
      "cell_type": "markdown",
      "source": [
        "#### 💪 Change the color of your font\n",
        "* Write a short paragraph about all the things you've seen today. For each <font color='red'>noun</font>, give it a color.\n",
        "* In addition to the default colors (e.g., red, blue, green, orange, purple), try using HEX codes to make custom colors (try using this [HEX Code Generator](https://www.w3schools.com/colors/colors_hexadecimal.asp))."
      ],
      "metadata": {
        "id": "gHpNky_esDm8"
      }
    },
    {
      "cell_type": "markdown",
      "source": [
        "#### 💪 Make a table\n",
        "* Go to [tablesgenerator.com/markdown_tables](https://www.tablesgenerator.com/markdown_tables) to customize your table.\n",
        "* Try using [ChatGPT](https://chatgpt.com/) to make further modifications to your table."
      ],
      "metadata": {
        "id": "Bw1oe2-7untj"
      }
    },
    {
      "cell_type": "markdown",
      "source": [
        "# 💾 Saving Google Colab Notebook as PDF"
      ],
      "metadata": {
        "id": "7AKtx2r0RcGA"
      }
    },
    {
      "cell_type": "markdown",
      "source": [
        "If you try to directly print Google Colab notebooks to PDF, the formatting will likely become misconfigured (e.g., text cutoff, overlapping text, incomplete document). Therefore, I recommend the following approach for printing your notebook to PDF (**Note**: this is the format I expect to see your homework in):\n",
        "\n",
        "0. Make sure you've run all of your code cells and you don't have any cells hidden by uncollapse section headings.\n",
        "1. Click on `file` → `Download` → `Download .ipynb`\n",
        "2. Download the file (e.g. \"L01_Sp25.ipynb\") onto your computer.\n",
        "3. Click on the 📁 icon on the vertical bar on the lefthand side of your browser window (although the filepath is hidden, this is the \"content\" folder).\n",
        "4. Drag your downloaded notebook (\"L01_Sp25.ipynb\") into this content folder.\n",
        "5. Run the following line of code to convert your uploaded notebook (\"L01_Sp25.ipynb\") into an HTML file (\"L01_Sp25.html\"). Be sure to adjust the filename in the code below if your uploaded notebook has a differnt filename."
      ],
      "metadata": {
        "id": "MU9-mGUnRyd_"
      }
    },
    {
      "cell_type": "code",
      "source": [
        "!jupyter nbconvert --to html --template classic /content/L01_Sp25.ipynb"
      ],
      "metadata": {
        "id": "g9g54euYRj5g",
        "colab": {
          "base_uri": "https://localhost:8080/"
        },
        "outputId": "465bf564-09b7-497f-ccb4-cd0119104560"
      },
      "execution_count": null,
      "outputs": [
        {
          "output_type": "stream",
          "name": "stdout",
          "text": [
            "[NbConvertApp] Converting notebook /content/L01_Sp25.ipynb to html\n",
            "[NbConvertApp] Writing 462011 bytes to /content/L01_Sp25.html\n"
          ]
        }
      ]
    },
    {
      "cell_type": "markdown",
      "source": [
        "6. Running the above code will save the new HTML file (\"L01_Sp25.html\") in the same location as the uploaded notebook file (i.e., in the \"content\" folder).\n",
        "7. Be sure to check for rendering issues. Common issues include: (i) creating a table with a mix of spaces and tabs; (ii) using in-line mode (`$`...`$`) for LaTeX Math formatting instead of display mode (`$$`...`$$`) when creating larger matrix equations (e.g., `\\begin{bmatrix}...\\end{bmartix}`)\n",
        "8. Click on ⠇ icon that appears when your cursor hovers over your new HTML file (\"L01_Sp25.html\") and click `Download`.\n",
        "9. Open the downloaded HTML file (\"L01_Sp25.html\") using your browser.\n",
        "10. Click `File`  → `Print` (or `⌘/Ctrl + P`) to print the opened HTML file as a PDF file (\"L01_Sp25.pdf\").\n"
      ],
      "metadata": {
        "id": "IU7fTh_rWTW6"
      }
    }
  ],
  "metadata": {
    "hide_input": false,
    "kernelspec": {
      "display_name": "Python 3 (ipykernel)",
      "language": "python",
      "name": "python3"
    },
    "language_info": {
      "codemirror_mode": {
        "name": "ipython",
        "version": 3
      },
      "file_extension": ".py",
      "mimetype": "text/x-python",
      "name": "python",
      "nbconvert_exporter": "python",
      "pygments_lexer": "ipython3",
      "version": "3.12.8"
    },
    "latex_envs": {
      "LaTeX_envs_menu_present": true,
      "autoclose": false,
      "autocomplete": true,
      "bibliofile": "biblio.bib",
      "cite_by": "apalike",
      "current_citInitial": 1,
      "eqLabelWithNumbers": true,
      "eqNumInitial": 1,
      "hotkeys": {
        "equation": "Ctrl-E",
        "itemize": "Ctrl-I"
      },
      "labels_anchors": false,
      "latex_user_defs": false,
      "report_style_numbering": false,
      "user_envs_cfg": false
    },
    "toc": {
      "base_numbering": 1,
      "nav_menu": {},
      "number_sections": true,
      "sideBar": true,
      "skip_h1_title": false,
      "title_cell": "Table of Contents",
      "title_sidebar": "Contents",
      "toc_cell": false,
      "toc_position": {},
      "toc_section_display": true,
      "toc_window_display": false
    },
    "varInspector": {
      "cols": {
        "lenName": "40",
        "lenType": 16,
        "lenVar": "100"
      },
      "kernels_config": {
        "python": {
          "delete_cmd_postfix": "",
          "delete_cmd_prefix": "del ",
          "library": "var_list.py",
          "varRefreshCmd": "print(var_dic_list())"
        },
        "r": {
          "delete_cmd_postfix": ") ",
          "delete_cmd_prefix": "rm(",
          "library": "var_list.r",
          "varRefreshCmd": "cat(var_dic_list()) "
        }
      },
      "types_to_exclude": [
        "module",
        "function",
        "builtin_function_or_method",
        "instance",
        "_Feature"
      ],
      "window_display": false
    },
    "colab": {
      "provenance": [],
      "collapsed_sections": [
        "odL4ElZJN6oz",
        "Tdwiv5I9T4lS",
        "42Qhvpitp-L_",
        "ZGEypgbfqoZg",
        "_cPY2zm0rDsI",
        "ZGFpEVfmnh2C",
        "3rjS7nqipqih",
        "7AKtx2r0RcGA"
      ]
    }
  },
  "nbformat": 4,
  "nbformat_minor": 0
}