{
  "cells": [
    {
      "cell_type": "markdown",
      "source": [
        "# 🔢 Numerical Python: NumPy (np)"
      ],
      "metadata": {
        "id": "P8Poa0Ia8dLl"
      }
    },
    {
      "cell_type": "markdown",
      "source": [
        "An extremely useful aspect of Python is the ability to import and use libraries. A library in Python is a collection of pre-written code (functions, classes, modules) that someone else has already created.\n",
        "\n",
        "NumPy is a popular library that helps a lot when it comes to running basic mathematically operations."
      ],
      "metadata": {
        "id": "5J1_0hZwa1Nt"
      }
    },
    {
      "cell_type": "code",
      "source": [
        "%reset -f\n",
        "# ^Similar to variables, '%reset' will also reset any libraries that you have imported.\n",
        "\n",
        "# Import library (after '%reset')\n",
        "import numpy as np    # If we want to call a numpy function, we can do this\n",
        "                      # using the shorthand np that we defined.\n",
        "                      # Example: 'np.function_name()'"
      ],
      "metadata": {
        "id": "A4uCQ-q5burB"
      },
      "execution_count": null,
      "outputs": []
    },
    {
      "cell_type": "markdown",
      "source": [
        "## Basic Math Operations"
      ],
      "metadata": {
        "id": "RLKbQJ9fxi1t"
      }
    },
    {
      "cell_type": "markdown",
      "source": [
        "**Python** recognizes many arithmetic operations that are quick and easy to use:\n",
        "* Addition: `+`\n",
        "* Subtraction: `-`\n",
        "* Multiplication: `*`\n",
        "* Division: `/`\n",
        "* Floor Division: `//` (division, but rounds down to the nearest integer)\n",
        "* Modulo: `%` (provides the remainder from division)\n",
        "* Power: `**` (Note: Matlab uses `^` instead)\n",
        "\n",
        "Additionally, Python has many built-in functions for various mathematical operations:\n",
        "* `sum(l)`: Returns the sum of the elements in list `l`.\n",
        "* `min(l)`: Returns the minimum value of the elements in list `l`.\n",
        "* `max(l)`: Returns the maximum value of the elements in list `l`.\n",
        "* `len(l)`: Returns the length or number of elements in list `l`.\n",
        "* `range(n)`: Creates a sequence of integers from `0` to `n-1` with a step size of `1`.\n",
        "  * Remember that Python goes up to, but doesn't include, the final index, which is why `range(n)` goes to `n-1`.\n",
        "  * Note that returns a sequence, which is not a list or array.\n",
        "  * You can also specify `start` (Default = 0) and `step` (Default = 1) when using this function: `range(start,n,step)`.\n",
        "* `round(n, ndigits)`: Rounds the number `n` to the number of digits specified by `ndigits`.\n",
        "\n",
        "Due to Pythons versatility, you'll also find that many of these functions will also work with strings and other variable types. **NumPy** was designed specifically to work with numbers, so the equivalent functions (e.g., `np.sum(l)`, `np.min(l)`, `np.max(l)`, `np.size(l)`, `np.arange(start,stop,step)`, `np.round(l)`)—as well as many other functions—run much more efficiently than their Python counterparts."
      ],
      "metadata": {
        "id": "f1ps8IjJzl5P"
      }
    },
    {
      "cell_type": "markdown",
      "source": [
        "### 💪 Practice: Understanding the `np.round()` Function\n",
        "In the textbox below the code cell, explain what the function `np.round()` does and how it works.\n",
        "* Try it for different values of `n`\n",
        "* Try it for different values of `ndigits`\n",
        "* What happens when `ndigits` has a negative value?"
      ],
      "metadata": {
        "id": "raQTPLu85O-l"
      }
    },
    {
      "cell_type": "code",
      "source": [
        "# Test out some of the operations and functions described above:\n",
        "n = (14**3)/17\n",
        "ndigits = 2\n",
        "\n",
        "print(n)\n",
        "print(np.round(n,ndigits))"
      ],
      "metadata": {
        "id": "yNtaJU-04haL"
      },
      "execution_count": null,
      "outputs": []
    },
    {
      "cell_type": "markdown",
      "source": [
        "👋 Double-click here for your response."
      ],
      "metadata": {
        "id": "5Se666h4it8U"
      }
    },
    {
      "cell_type": "markdown",
      "source": [
        "## Defining Arrays/Matricies"
      ],
      "metadata": {
        "id": "T46jAmSmfTk9"
      }
    },
    {
      "cell_type": "markdown",
      "source": [
        "Where the efficiency of NumPy's functions comes in handy is when you're dealing with large sets of data, known as arrays. Arrays are similar to lists, however, they store numerical information in a manner that is optimized for mathematical operations. Therefore, we will primarily be using arrays (as opposed to lists).\n",
        "\n",
        "\n",
        "We can use the function `np.array()` to convert a list into an array, as long as all the elements are the same type (typically `int` or `float`). If you have a mixture of `int` and `float` variables in your array, NumPy will default all elements to the `float` variable type."
      ],
      "metadata": {
        "id": "2Hd_DOS0haaO"
      }
    },
    {
      "cell_type": "code",
      "source": [
        "# Create a 1-D array\n",
        "l = [1, 2, 3.]\n",
        "a = np.array(l)\n",
        "\n",
        "print(l)\n",
        "print(type(l)) # List\n",
        "\n",
        "print(a)\n",
        "print(type(a)) # NumPy array, not a list"
      ],
      "metadata": {
        "id": "ddnNjxXFgS1R"
      },
      "execution_count": null,
      "outputs": []
    },
    {
      "cell_type": "markdown",
      "source": [
        "This same function (`np.array()`) can also create multi-dimensional arrays (e.g., 2D Matrix)."
      ],
      "metadata": {
        "id": "GEGj1CUth7db"
      }
    },
    {
      "cell_type": "code",
      "source": [
        "# Create a 2-D matrix\n",
        "M = np.array([[1.1, 1.2, 1.3],[2.1, 2.2, 2.3],[3.1, 3.2, 3.3],[4.1, 4.2, 4.3]])\n",
        "print(M)"
      ],
      "metadata": {
        "id": "O0zYpyMUh5kS"
      },
      "execution_count": null,
      "outputs": []
    },
    {
      "cell_type": "markdown",
      "source": [
        "## Indexing & Slicing Matricies"
      ],
      "metadata": {
        "id": "UfuWb2N2fXXl"
      }
    },
    {
      "cell_type": "markdown",
      "source": [
        "Matrix indexing follows the convention [`row`, `column`]\n",
        "\n",
        "🧠 A trick for remembering this is that when making a list, you usually write your numbers going downwards first (by row):\n",
        "1. Item 1\n",
        "2. Item 2\n",
        "3. Item 3\n",
        "4. ...\n",
        "\n",
        "Then if you needed to make a second list, you could write this list next to your original list (by column). And so on.\n",
        "\n",
        "Therefore (using Python's notation for counting by starting at 0), if you have an $n \\times m$ matrix `M`, and you want the second row (`n = 1`) and the third column (`m = 2`), the index would be `M[1,2]`. This index goes down first (row) and then goes out (column)."
      ],
      "metadata": {
        "id": "fPaHkT2ySCWo"
      }
    },
    {
      "cell_type": "code",
      "source": [
        "# Print orignal matrix\n",
        "print(M)\n",
        "print(\"\\n\")   # This creates a space between M and M[1,2]\n",
        "\n",
        "#Print index for n=1, m=2 (Remember that Python counting starts as 0)\n",
        "print(M[1,2])"
      ],
      "metadata": {
        "id": "ZyT7ZLPcTZzu"
      },
      "execution_count": null,
      "outputs": []
    },
    {
      "cell_type": "markdown",
      "source": [
        "Slicing works the same as it did for lists/arrays, except now you need to consider rows and columns separately. The convention `[start:stop:step]` still holds, but is now `M[row_start:row_stop:row_step , col_start:col_stop:col_step]`. Remember that `stop` for slicing goes up to but does not include that index."
      ],
      "metadata": {
        "id": "ZmVFieNVT3Va"
      }
    },
    {
      "cell_type": "code",
      "source": [
        "# Examples of slicing with a matrix\n",
        "print(M[1:])              # Row 2 (index = 1) to end. All columns included because it is not specified\n",
        "print('\\n')               # This line `\\n` adds a space between printed Matricies\n",
        "\n",
        "print(M[:,1:])            # Column 2 (index = 1) to end. Notice that we need `:` to signify that all rows are included.\n",
        "print('\\n')\n",
        "\n",
        "print(M[-1:1:-1,::-1])    # Final Column (index = -1) up to but not including Row 2 (index = 2) with steps of -1\n",
        "                          # All Rows, but reversed."
      ],
      "metadata": {
        "id": "CfHCP2cHT-MW"
      },
      "execution_count": null,
      "outputs": []
    },
    {
      "cell_type": "markdown",
      "source": [
        "Just like with lists/arrays, elements of a matrix can be redefined."
      ],
      "metadata": {
        "id": "EeSGdmHaXDRP"
      }
    },
    {
      "cell_type": "code",
      "source": [
        "# Print original matrix\n",
        "print('Original Matrix: \\n', M)\n",
        "print('\\n')\n",
        "\n",
        "# Redefine value in row 2, column 2\n",
        "M[1,1] = 100\n",
        "\n",
        "# Print revised matrix\n",
        "print('Revised Matrix: \\n', M)"
      ],
      "metadata": {
        "id": "NCKuDZPlXMEz"
      },
      "execution_count": null,
      "outputs": []
    },
    {
      "cell_type": "markdown",
      "source": [
        "### 💪 Practice: Slicing Matricies\n",
        "Use the `np.array()` function to create a $4 \\times 6$ matrix comprised of whatever values you want. Try printing the following slices of this matrix:\n",
        "* The element in the 2nd row, 4th column.\n",
        "* The 3rd row only.\n",
        "* The 5th column only.\n",
        "* The 1st and 4th rows, but backwards and excluding the first and second columns."
      ],
      "metadata": {
        "id": "dQru2_FBILoG"
      }
    },
    {
      "cell_type": "code",
      "source": [],
      "metadata": {
        "id": "PhExzyelJxy8"
      },
      "execution_count": null,
      "outputs": []
    },
    {
      "cell_type": "markdown",
      "source": [
        "## Common Functions for Array/Matrix Operations"
      ],
      "metadata": {
        "id": "ELu7yXlFfZ6Z"
      }
    },
    {
      "cell_type": "markdown",
      "source": [
        "**NumPy is able to tell you properties about your array (`a`) or matrix (`M`) by using attributes**. Unlike functions, these can be called upon by adding `.attribute` to the end of your array or matrix (e.g., `a.size`, `M.shape`)\n",
        "* `.shape`: Returns a tuple of the array/matrix dimensions.\n",
        "  * `.shape[0]`: Returns the number of elements in the first dimension of the array/matrix (e.g., length of a 1D array, number of rows of a 2D matrix)\n",
        "  * `.shape[1]`: Returns the number of elements in the second dimension of the array/matrix (e.g., number of columns of a 2D matrix)\n",
        "  * `.shape[n]`: Note that you can have an n-dimensional array, and so this will give the number of elements in the `n-1` dimension of the array.\n",
        "* `.size`: Returns the total number of elements.\n",
        "* `.dtype`: Returns the data type of the elements.\n",
        "* `.T`: Returns the transpose (switches rows and columns) of the matrix."
      ],
      "metadata": {
        "id": "ws2G3jZZQZbj"
      }
    },
    {
      "cell_type": "code",
      "source": [
        "# Create and Print M\n",
        "M = np.array([[1.1, 1.2, 1.3],[2.1, 2.2, 2.3],[3.1, 3.2, 3.3],[4.1, 4.2, 4.3]])\n",
        "print(M)\n",
        "print('\\n')\n",
        "\n",
        "# Print Various Attributes of M\n",
        "print('Dimensions of M:',M.shape)\n",
        "print('# of Rows:',M.shape[0])\n",
        "print('# of Columns:',M.shape[1])\n",
        "print('# of Elements:',M.size)\n",
        "print('Data Type of M:', M.dtype)"
      ],
      "metadata": {
        "id": "-oNlH_ZPTV4-"
      },
      "execution_count": null,
      "outputs": []
    },
    {
      "cell_type": "markdown",
      "source": [
        "**NumPy also has functions that make it easy to create arrays/matricies**.\n",
        "* `np.zeros(n)`: Returns an array that's length `n` consisting of all `0`'s.\n",
        "  * This same function can make a $n \\times m$ martix: `np.zeros((n,m))`. The input must be a tuple: `(n,m)`.\n",
        "  * Alternatively, you could also use `np.zeros_like(M)`, which produces a matrix of `0`'s in the same shape as matrix `M`.\n",
        "  * This is especially useful if you need to create the structure of an array that you fill in later.\n",
        "* `np.ones(n)`: Returns an array that's length `n` consisting of all `1`'s.\n",
        "  * This same function can make a $n \\times m$ martix: `np.ones((n,m))`. The input must be a tuple: `(n,m)`.\n",
        "  * Alternatively, you could also use `np.ones_like(M)`, which produces a matrix of `1`'s in the same shape as matrix `M`.\n",
        "  * This is especially useful if you need to create an array that all has the same number (e.g., `2*ones(n)` gives you an array consisinting all of `2`'s).\n",
        "* `np.eye(n)`: Returns an $n \\times n$ identity matrix (i.e., `1`'s in the diagonal of the matrix starting from the upper left corner).\n",
        "* `np.arange(n)`: Creates an array from `0` to `n-1` with a step size of `1`.\n",
        "  * Remember that Python (and NumPy) goes up to, but doesn't include, the final index, which is why `np.arange(n)` goes to `n-1`.\n",
        "  * Unlike `range(n), this produces an array that you can do math with.\n",
        "  * You can also specify `start` (Default = 0) and `step` (Default = 1) when using this function: `np.arange(start,n,step)`.\n",
        "* `np.linspace(start,stop,n)`: Returns an array of length `n` that goes from `start` to `stop` so that all `n` elements are evenly-spaced.\n",
        "  * By default `n = 50` unless otherwise speficified.\n",
        "  * Note that `np.linspace(start,stop)` goes up to, and includes, `stop` (unlike most other Python/NumPy functions).\n",
        "* `np.logspace(start,stop,n,base=10)`: Returns an array of length `n` that goes from `base**start` to `base**stop` so that all `n` elements between `start` and `stop` are evenly spaced.\n",
        "  * By default `n = 50` unless otherwise speficified.\n",
        "  * By default `base = 10` unless otherwise speficified. Note to change `base`, you need to put `base = b`, where `b` is the alternative base number that you want.\n",
        "  * If you want `np.logspace(start,stop,n)` to give you an array that increases by the power of 10 (e.g., 1, 10, 100, 1000 ...), you would need to use the following form: `np.logspace(0,stop,stop+1)`.\n",
        "* `np.diag([a,b,c],k=0)`: Returns a $n \\times n$ matrix, where `n` is the length of the array represented by `[a,b,c]`.\n",
        "  * `k = 0` means that the elements of the array `[a,b,c]` will be placed directly on the diagonal of the matrix.\n",
        "  * `k = 1` means that the elements of the array `[a,b,c]` will be placed +1 above the diagonal. Note that this increases the size of the matrix to $(n+|k|) \\times (n+|k|)$.\n",
        "  * `k = -2` means that the elements of the array `[a,b,c]` will be placed -2 below the diagonal. Note that this increases the size of the matrix to $(n+|k|) \\times (n+|k|)$."
      ],
      "metadata": {
        "id": "8op7mmohKusk"
      }
    },
    {
      "cell_type": "markdown",
      "source": [
        "### 💪 Practice: Make a 1D Array\n",
        "Create an array that goes from `3` to `33` with a step size of `3`."
      ],
      "metadata": {
        "id": "yYq73JC_oGki"
      }
    },
    {
      "cell_type": "code",
      "source": [
        "np.arange(3,34,3)"
      ],
      "metadata": {
        "id": "66XiyJSiWmvN"
      },
      "execution_count": null,
      "outputs": []
    },
    {
      "cell_type": "markdown",
      "source": [
        "### 💪 Practice: Make a Quick Matrix\n",
        "\n",
        "Create a $5 \\times 5$ matrix where all the elements are `5`'s."
      ],
      "metadata": {
        "id": "jaEKnunrnQ8B"
      }
    },
    {
      "cell_type": "code",
      "source": [],
      "metadata": {
        "id": "S6ftCG1_opyq"
      },
      "execution_count": null,
      "outputs": []
    },
    {
      "cell_type": "markdown",
      "source": [
        "### 💪 Practice: Create a Diagonal Matrix\n",
        "\n",
        "Create a $4 \\times 4$ matrix where all the diagonal elements are `4`'s, the above diagonal elements are `5`'s, and the below diagonal elements are `3`'s. **Note**: Use the `np.diag()` function to create three separate $4 \\times 4$ Matrices. Then try combining these matricies by adding them together."
      ],
      "metadata": {
        "id": "9ag6mO1WpOQG"
      }
    },
    {
      "cell_type": "code",
      "source": [],
      "metadata": {
        "id": "7Beg2ndpp8TR"
      },
      "execution_count": null,
      "outputs": []
    },
    {
      "cell_type": "markdown",
      "source": [
        "# 👾 Matrix Math"
      ],
      "metadata": {
        "id": "XuIELRGC1BFV"
      }
    },
    {
      "cell_type": "markdown",
      "source": [
        "All kinds of data can be stored in matricies (later on we'll call these \"DataFrames\"). Therefore, **matrix math** is important because it allows us to implement operations on data stored in matricies so that we can process our data and conduct various data analyses.\n",
        "\n",
        "Matrix math is also essential for linear algebra, which is generally the most computationally efficient way to solve systems of coupled equations. Note that Python/NumPy uses a slightly different notation for matrix operations than Matlab."
      ],
      "metadata": {
        "id": "mCCR7o49VjFv"
      }
    },
    {
      "cell_type": "markdown",
      "source": [
        "## Matrix Methods"
      ],
      "metadata": {
        "id": "fcZaeAyxhg8P"
      }
    },
    {
      "cell_type": "markdown",
      "source": [
        "Some initial methods and functions that are useful include:\n",
        "* `.sum()`: Returns the sum of the values in the array/matrix.\n",
        "* `.min()`: Returns the minimum value in the array/matrix.\n",
        "* `.max()`: Returns the maximum value in the array/matrix.\n",
        "* `.mean()`: Reutrns the average value in the array/matrix.\n",
        "\n",
        "For each of the methods above, you can specify in the parentheses if you want to implement the method across all the rows in a column (e.g., `.sum(axis=0)`) or across all the columns in a row (e.g., `.sum(axis=1)`).\n",
        "\n",
        "💡 A trick for remembering this is that `0` is typically associated with the bottom of something, and so `axis=0` means that doing an operation down (↓) the columns (i.e., applying it to all the rows in each column). Meanwhile, the number `1` looks like a column, which means that `axis=1` is creating a column to the right of our matrix because its doing an operation across (→) the rows (i.e., applying it to all the columns in each row)."
      ],
      "metadata": {
        "id": "EiUhHWqYaqQW"
      }
    },
    {
      "cell_type": "code",
      "source": [
        "%reset -f\n",
        "import numpy as np\n",
        "\n",
        "# Define Matrix M\n",
        "M = np.array([[1,2,3],[4,5,6]])\n",
        "\n",
        "# Example of using .sum()\n",
        "M_sum = M.sum()\n",
        "M_sum_by_col = M.sum(axis=0)\n",
        "M_sum_by_row = M.sum(axis=1)\n",
        "\n",
        "#Printing our Results\n",
        "print(\"Original Matrix:\\n\",M)\n",
        "print('\\n')\n",
        "\n",
        "print(\"Total Sum:\",M_sum)\n",
        "print('\\n')\n",
        "\n",
        "print(\"Sum by Column:\",M_sum_by_col)\n",
        "print('\\n')\n",
        "\n",
        "print(\"Sum by Row:\",M_sum_by_row)"
      ],
      "metadata": {
        "id": "6ZQFOp_21C9s"
      },
      "execution_count": null,
      "outputs": []
    },
    {
      "cell_type": "code",
      "source": [
        "# Matrix Summation\n",
        "print('Original Matrix')\n",
        "print(M,'\\n')\n",
        "\n",
        "print('Sum over entire matrix')\n",
        "print(M.sum())          # sum over all values\n",
        "print(np.sum(M))        # sum over all values\n",
        "print('\\n')\n",
        "\n",
        "print('Sum of second row onward')\n",
        "print(M[1:,:].sum())     # sum first two rows\n",
        "print(np.sum(M[1:,:]))   # sum first two rows"
      ],
      "metadata": {
        "id": "vo1yhpaiYOmH"
      },
      "execution_count": null,
      "outputs": []
    },
    {
      "cell_type": "markdown",
      "source": [
        "### 💪 Practice: Matrix Methods\n",
        "Given the matrix `M0` use the various methods we have discussed to do the following:\n",
        "* Print the minimum value of each row.\n",
        "* Print the maximum value of each column.\n",
        "* Slice `M0` and take the average of the four elements in the bottom right corner of the matrix."
      ],
      "metadata": {
        "id": "1tFMy_0afj2B"
      }
    },
    {
      "cell_type": "code",
      "source": [
        "M0 = np.array([[8,2,3,12],[7,11,5,9],[4,10,1,6]])\n",
        "print(M0)\n"
      ],
      "metadata": {
        "id": "72FFV_Gvfvur"
      },
      "execution_count": null,
      "outputs": []
    },
    {
      "cell_type": "markdown",
      "source": [
        "## Matrix Operations"
      ],
      "metadata": {
        "id": "MsoPRFOBhjz3"
      }
    },
    {
      "cell_type": "markdown",
      "source": [
        "By default, NumPy will usually implement matrix operations on an **element-wise basis**, meaning that if you are multiplying two matricies of the same size together (using the `*` symbol), elements of the same index will be multiplied together:\n",
        "\n",
        "$$\n",
        "\\begin{bmatrix}\n",
        "a_{11} & a_{12}\\\\\n",
        "a_{21} & a_{22}\n",
        "\\end{bmatrix}\n",
        "*\n",
        "\\begin{bmatrix}\n",
        "b_{11} & b_{12}\\\\\n",
        "b_{21} & b_{22}\n",
        "\\end{bmatrix}\n",
        "=\n",
        "\\begin{bmatrix}\n",
        "a_{11}b_{11} & a_{12}b_{12}\\\\\n",
        "a_{21}b_{21} & a_{22}b_{22}\n",
        "\\end{bmatrix}\n",
        "$$\n",
        "\n",
        "This element-wise operation is not only true for multiplication (`A * B`), but also:\n",
        "* Addition: `A + B`\n",
        "* Subtraction: `A - B`\n",
        "* Scalar Multiplication: `2*A`\n",
        "* Multiplication: `A * B`\n",
        "* Division: `A / B`\n",
        "* Raising to a Power: `A**2`"
      ],
      "metadata": {
        "id": "_ouFqf1Qhq0t"
      }
    },
    {
      "cell_type": "code",
      "source": [
        "# Scalar Multiplication (to Create m1 and m2)\n",
        "m1 = 2*np.ones((3,3))     # 3x3 matrix of 1s\n",
        "m2 = 4*np.ones((3,3))     # Multiplying a matrix by a scalar\n",
        "print('m1 = \\n',m1)\n",
        "print('\\n')\n",
        "print('m2 = \\n',m2)"
      ],
      "metadata": {
        "id": "DpYuOlr5wwdw"
      },
      "execution_count": null,
      "outputs": []
    },
    {
      "cell_type": "code",
      "source": [
        "# Addition & Subtraction\n",
        "print(m1 + m2) # elementwise addition\n",
        "print('\\n')\n",
        "print(m2 - m1) # elementwise subtraction"
      ],
      "metadata": {
        "id": "KV4RUGCtmSP-"
      },
      "execution_count": null,
      "outputs": []
    },
    {
      "cell_type": "code",
      "source": [
        "# Multiplication & Division\n",
        "print(m1 * m2) # elementwise multiplication (In Matlab: \"m1.*m2\")\n",
        "print('\\n')\n",
        "print(m1 / m2) # elementwise division (In Matlab: \"m1./m2\")"
      ],
      "metadata": {
        "id": "XDwuuVIUw0WU"
      },
      "execution_count": null,
      "outputs": []
    },
    {
      "cell_type": "code",
      "source": [
        "# Raising to a Power\n",
        "print(m2 ** 2) # elementwise power (In Matlab: \"m2.^2\")"
      ],
      "metadata": {
        "id": "-glAkqtYxBu9"
      },
      "execution_count": null,
      "outputs": []
    },
    {
      "cell_type": "markdown",
      "source": [
        "### 🫵 Give it a try!\n",
        "Practice some of the Matrix Math you have learned by first creating a $4 \\times 4$ matrix called `A`, where the diagonal consists of `5`'s, the above diagonal (`+1`) consists of `9`'s, the below diagonal (`-1`) consists of `4`'s, and the remaining elements are `2`'s.\n",
        "* Then create a vector `a` by multiplying element-wise the first two columns of `A` and subtract element-wise the third column of `A`.\n",
        "* Finally, create a variable `b` that takes the sum of `a` and divides by the average of the fourth column of `A`."
      ],
      "metadata": {
        "id": "lvlbG4sInIP-"
      }
    },
    {
      "cell_type": "code",
      "source": [],
      "metadata": {
        "id": "6M5YAgHsqw59"
      },
      "execution_count": null,
      "outputs": []
    },
    {
      "cell_type": "markdown",
      "source": [
        "### 👈 If you're stuck, click the 🔽 button on the left for hints."
      ],
      "metadata": {
        "id": "bwiz9qfZqWup"
      }
    },
    {
      "cell_type": "markdown",
      "source": [
        "#### 🤔 Hint #1"
      ],
      "metadata": {
        "id": "2ppAAkYYqcpk"
      }
    },
    {
      "cell_type": "code",
      "source": [
        "# Recall how we can construct diagonal matricies with the np.diag() function\n",
        "# This is typically done by constructing individual diagonal matricies and adding them together.\n",
        "A_diag = np.diag(5*np.ones(4),k=0)\n",
        "A_above = np.diag(9*np.ones(3),k=1)\n",
        "A_below = # Use the above code as an example.\n",
        "\n",
        "# This last one is hard, but you basically keep doing the same thing:\n",
        "A_background = np.diag(2*np.ones(2),k=2)+np.diag(2*np.ones(2),k=-2)+np.diag(2*np.ones(1),k=3)+np.diag(2*np.ones(1),k=-3)\n",
        "\n",
        "# Now how would you bring all of these together to get A?"
      ],
      "metadata": {
        "id": "ZIoq9VUFqitl"
      },
      "execution_count": null,
      "outputs": []
    },
    {
      "cell_type": "markdown",
      "source": [
        "#### 😅 Hint #2"
      ],
      "metadata": {
        "id": "1Ew0b8gsqjB8"
      }
    },
    {
      "cell_type": "code",
      "source": [
        "A[:,0] # This will get you the first column of A. Recall Python indexing begins at 0.\n",
        "A[:,1] # This will get you the second column of A.\n",
        "# Just like variables you can add/subtract/multiply these element-wise\n",
        "A[:,0]*A[:,1]\n",
        "\n",
        "# Now you need to incorporate the third column of A"
      ],
      "metadata": {
        "id": "YXHhBXOzqmJs"
      },
      "execution_count": null,
      "outputs": []
    },
    {
      "cell_type": "markdown",
      "source": [
        "#### 🥲 Hint #3"
      ],
      "metadata": {
        "id": "h5XGhvXOqmfU"
      }
    },
    {
      "cell_type": "code",
      "source": [
        "# Now we can use methods to sum and take the average:\n",
        "b1 = a.sum()\n",
        "b2 = A[:,3].mean()\n",
        "# Now you just need to divide these two to get b."
      ],
      "metadata": {
        "id": "xCW-v1-YqpSe"
      },
      "execution_count": null,
      "outputs": []
    },
    {
      "cell_type": "markdown",
      "source": [
        "#### 🥳 Check your solution!"
      ],
      "metadata": {
        "id": "cmo6VgvCqpol"
      }
    },
    {
      "cell_type": "code",
      "source": [
        "# Create Matrix A\n",
        "A_diag = np.diag(5*np.ones(4),k=0)\n",
        "A_above = np.diag(9*np.ones(3),k=1)\n",
        "A_below = np.diag(4*np.ones(3),k=-1)\n",
        "A_background = np.diag(2*np.ones(2),k=2)+np.diag(2*np.ones(2),k=-2)+np.diag(2*np.ones(1),k=3)+np.diag(2*np.ones(1),k=-3)\n",
        "A = A_diag + A_above + A_below + A_background\n",
        "\n",
        "# Use matrix math and slicing to get vector a.\n",
        "a = (A[:,0]*A[:,1])-A[:,2]\n",
        "\n",
        "# Use methods and matrix math to get the final result b.\n",
        "b = a.sum() / A[:,3].mean()"
      ],
      "metadata": {
        "id": "RCfnXo72qt50"
      },
      "execution_count": null,
      "outputs": []
    },
    {
      "cell_type": "markdown",
      "source": [
        "## Linear Algebra"
      ],
      "metadata": {
        "id": "H_rSOCCcnb63"
      }
    },
    {
      "cell_type": "markdown",
      "source": [
        "Matrix math is also essential for linear algebra. Linear Algebra is a branch of mathematics that deals with vectors (1D Arrays), matricies (2D Arrays), and solving systems of linear equations. A system of linear equations is a set of two or more equations that work together to describe a situation with multiple unknowns — like prices, quantities, or measurements.\n",
        "\n",
        "Each equation shows how the unknowns (like $x$, $y$, or $z$) are related linearly — meaning:\n",
        "* The unknowns (or variables) are not squared, multiplied together, or inside functions like sine or square root (e.g., $2x^2-5yz$ is not linear).\n",
        "* They appear just as they are, multiplied by numbers, and then added or subtracted from one another (e.g., $3x+4y-8z=20$ is linear).\n",
        "\n",
        "To help contextualize this, imagine a friend is selling cookies, cupcakes, and pastries at a Bake Sale. On Day 1, they sold 3 cookies, 2 cupcakes, and 1 pastry for a total of \\$20. On Day 2, they sold 2 cookies, 1 cupcake, and 3 pastries for a total of \\$19. And on Day 3, they sold 1 cookie, 3 cupcakes, and 2 pastries for a total of \\$22. If you wanted to figure out the price of cookies ($x$), cupcakes ($y$), and pastries ($z$) respectively, you could set up a system of linear equations for each day:\n",
        "\n",
        "$$\n",
        "3x+2y+1z = 20\n",
        "$$\n",
        "\n",
        "$$\n",
        "2x+1y+3z = 19\n",
        "$$\n",
        "\n",
        "$$\n",
        "1x+3y+2z = 22\n",
        "$$\n",
        "\n",
        "You could solve this by substitution or adding/subtracting equations, but that can be a lot of work. Linear algebra gives us general tools that allows us to solve this—and even more complicated—systems of linear equations."
      ],
      "metadata": {
        "id": "JP9jONxmyDg2"
      }
    },
    {
      "cell_type": "markdown",
      "source": [
        "If we were to generalize our example from above, a system of linear equations could look like:\n",
        "\n",
        "$$\n",
        "a_{11}x_1+a_{12}x_2+a_{13}x_3 = b_1\n",
        "$$\n",
        "\n",
        "$$\n",
        "a_{21}x_1+a_{22}x_2+a_{23}x_3 = b_2\n",
        "$$\n",
        "\n",
        "$$\n",
        "a_{31}x_1+a_{32}x_2+a_{33}x_3 = b_3\n",
        "$$\n",
        "\n",
        "Reorganizing this sytem of equations as matrix equations gives us:\n",
        "$$\n",
        "\\begin{bmatrix}\n",
        "a_{11} & a_{12} & a_{13} \\\\\n",
        "a_{21} & a_{22} & a_{23} \\\\\n",
        "a_{31} & a_{32} & a_{33}\n",
        "\\end{bmatrix}\n",
        "\\begin{bmatrix}\n",
        "x_1 \\\\\n",
        "x_2 \\\\\n",
        "x_3\n",
        "\\end{bmatrix}\n",
        "=\n",
        "\\begin{bmatrix}\n",
        "b_1 \\\\\n",
        "b_2 \\\\\n",
        "b_3\n",
        "\\end{bmatrix}\n",
        "$$\n",
        "\n",
        "In linear algebra, we will simplify the above matrix equation as:\n",
        "$$\n",
        "\\textbf{A} \\textbf{x} = \\textbf{b}\n",
        "$$\n",
        "\n",
        "Where $\\textbf{A}$ is the coefficient matrix, $\\textbf{x}$ is the variable vector, and $\\textbf{b}$ is the solution vector. Note that capital letters typically indicate matricies ($\\textbf{A}$) and lowercase letters typically indicate vectors ($\\textbf{x}$, $\\textbf{b}$), and the **bold font** indicates that we are dealing with array (e.g., 1D vectors and 2D matrices).\n",
        "\n",
        "Most of linear algebra is solving this equation ($\\textbf{Ax}=\\textbf{b}$) and using other mathematical techniques to learn more about our system that is described by these equations. Although we discussed a somewhat trivial example of determining prices of bake sale goods, linear algebra allows us to do some incredible things, like optimize water availability in connected reservoir networks, reduce traffic congestion during rush hour, ensure the structural stability of buildings, model pollution transportat, and track the spread of disease."
      ],
      "metadata": {
        "id": "AFaPoiLjqcuP"
      }
    },
    {
      "cell_type": "markdown",
      "source": [
        "## Important Functions for Linear Algebra"
      ],
      "metadata": {
        "id": "CLpDIfmKyLw1"
      }
    },
    {
      "cell_type": "markdown",
      "source": [
        "The **Dot Product** takes two vectors and gives back a single number by multiplying element-wise and summing up the product:\n",
        "\n",
        "$$\\textbf{a}=[2,3], \\textbf{b}=[4,5]$$\n",
        "\n",
        "$$\\textbf{a} \\cdot \\textbf{b} = (2 \\cdot 4)+(3 \\cdot 5) =23$$"
      ],
      "metadata": {
        "id": "BejSI06gnmel"
      }
    },
    {
      "cell_type": "code",
      "source": [
        "%reset -f\n",
        "import numpy as np\n",
        "\n",
        "# Define Parameters\n",
        "a = np.array([2, 3])\n",
        "b = np.array([4, 5])\n",
        "\n",
        "result = np.dot(a, b)   # Dot Product (In Matlab: \"dot(a,b)\" or \"a'*b\")\n",
        "\n",
        "# Print the Dot Product\n",
        "print(result)"
      ],
      "metadata": {
        "id": "E5qZCTu9yjZp"
      },
      "execution_count": null,
      "outputs": []
    },
    {
      "cell_type": "markdown",
      "source": [
        "**Matrix Multiplication** is like systemmatically doing the dot product for rows of an initial matrix (`A`) and columns of a secondary matrix (`B`), thereby producing a third matrix that has the same number of rows as `A` and the same number of columns as `B`.\n",
        "\n",
        "$$\n",
        "A=\n",
        "\\begin{bmatrix}\n",
        "1 & 2 & 3\\\\\n",
        "4 & 5 & 6\n",
        "\\end{bmatrix}\n",
        ",\n",
        "\\ B=\n",
        "\\begin{bmatrix}\n",
        "7 & 8\\\\\n",
        "9 & 10\\\\\n",
        "11 & 12\n",
        "\\end{bmatrix}\n",
        "$$\n",
        "\n",
        "The top-left element is from the dot product of the first row of `A` and the first column of `B`:\n",
        "$$(1 \\cdot 7)+(2 \\cdot 9)+(3 \\cdot 11) = 58$$\n",
        "\n",
        "The top-right element is from the dot product of the first row of `A` and the second column of `B`:\n",
        "$$(1 \\cdot 8)+(2 \\cdot 10)+(3 \\cdot 12) = 64$$\n",
        "\n",
        "The bottom-left element is from the dot product of the second row of `A` and the first column of `B`:\n",
        "$$(4 \\cdot 7)+(5 \\cdot 9)+(6 \\cdot 11) = 139$$\n",
        "\n",
        "The bottom-right element is from the dot product of the second row of `A` and the second column of `B`:\n",
        "$$(4 \\cdot 8)+(5 \\cdot 10)+(6 \\cdot 12) = 154$$\n",
        "\n",
        "The result from this matrix multiplicaiton is:\n",
        "$$\n",
        "\\begin{bmatrix}\n",
        "56 & 64\\\\\n",
        "139 & 154\n",
        "\\end{bmatrix}\n",
        "$$"
      ],
      "metadata": {
        "id": "Ca3Zbm6Cyj0-"
      }
    },
    {
      "cell_type": "code",
      "source": [
        "A = np.array([[1, 2, 3],\n",
        "              [4, 5, 6]])\n",
        "\n",
        "B = np.array([[7, 8],\n",
        "              [9, 10],\n",
        "              [11, 12]])\n",
        "\n",
        "result = A @ B    # Matrix Multiplication (In Matlab: \"A*B\")\n",
        "                  # Note that np.dot(A, B) gives you the same result.\n",
        "print(result)"
      ],
      "metadata": {
        "id": "n1gJ19okw3ws"
      },
      "execution_count": null,
      "outputs": []
    },
    {
      "cell_type": "markdown",
      "source": [
        "Other important linear algebra functions include:\n",
        "* `np.linalg.solve(A,b)`: Solve the system of equations `Ax = b`.\n",
        "* `np.linalg.inv(A)`: Takes the inverse of matrix `A`.\n",
        "* `np.linalg.det(A)`: Determines whether the matrix `A` is invertible.\n",
        "* `np.linalg.eig(A)`: Determines the dynamic behavior of the system of equations described by `A`.\n",
        "* `np.linalg.norm(A)`: Determines the length, distance, error associated with `A`.\n",
        "\n",
        "However, it is good to program these functions yourself in order to understand how they work before relying on them."
      ],
      "metadata": {
        "id": "7BeADqi1Dwp9"
      }
    },
    {
      "cell_type": "markdown",
      "source": [
        "# 📊 Data Visualization: Matplotlib.PyPlot (plt)"
      ],
      "metadata": {
        "id": "kM1UnsQd8lEo"
      }
    },
    {
      "cell_type": "markdown",
      "source": [
        "`matplotlib.pyplot` is a popular Python module used to create a wide variety of plots and visualizations, making it easy to understand and present data. In this section, you'll learn how to use its simple, MATLAB-like functions to quickly build and customize your own plots.\n",
        "\n",
        "Just like with `numpy`, we need to import this library before we can use it:"
      ],
      "metadata": {
        "id": "pRyxsXbnjpyJ"
      }
    },
    {
      "cell_type": "code",
      "source": [
        "#pip install matplotlib\t# This is often unnecessary because matplotlib\n",
        "# is pre-installed in the Google Colab environment.\n",
        "\n",
        "import matplotlib.pyplot as plt"
      ],
      "metadata": {
        "id": "g2J0WemmJxFB"
      },
      "execution_count": null,
      "outputs": []
    },
    {
      "cell_type": "markdown",
      "source": [
        "## Basic Structure of a Plot"
      ],
      "metadata": {
        "id": "eT6JTEJ8KDnX"
      }
    },
    {
      "cell_type": "markdown",
      "source": [
        "Before you can make a plot, you first need **data** — usually in the form of two variables: one for the x-axis and one for the y-axis. These variables must be organized in the same way, meaning they should have the **same number of elements** (for example, two arrays that both have 5 values each). Once your data is ready, you can create a simple line plot using `plt.plot(x, y)`."
      ],
      "metadata": {
        "id": "ZD9Qi1BnKF55"
      }
    },
    {
      "cell_type": "code",
      "source": [
        "# Plotting the squared relationship between x (independent) and y (dependent).\n",
        "x = [1, 2, 3, 4, 5]\n",
        "y = [1, 4, 9, 16, 25]\n",
        "\n",
        "plt.plot(x, y)  # Create a simple line plot by default."
      ],
      "metadata": {
        "id": "z4zV6bsfKL3I"
      },
      "execution_count": null,
      "outputs": []
    },
    {
      "cell_type": "markdown",
      "source": [
        "Notice that just using `plt.plot(x,y)` gives some extra information about the plot that you might not want (i.e., `[<matplotlib.lines.Line2D at 0x7aa13961a010>]`). To avoid this, you can use `plt.show()` after all of your plotting code to suppress this output."
      ],
      "metadata": {
        "id": "BRxVzanasY77"
      }
    },
    {
      "cell_type": "code",
      "source": [
        "# Plotting the squared relationship between x (independent) and y (dependent).\n",
        "x = [1, 2, 3, 4, 5]\n",
        "y = [1, 4, 9, 16, 25]\n",
        "\n",
        "plt.plot(x, y)  # Create a simple line plot by default.\n",
        "plt.show()"
      ],
      "metadata": {
        "id": "KpgFk9gfsUwG"
      },
      "execution_count": null,
      "outputs": []
    },
    {
      "cell_type": "markdown",
      "source": [
        "## Customizing Plots"
      ],
      "metadata": {
        "id": "VxN67ggpNTMp"
      }
    },
    {
      "cell_type": "markdown",
      "source": [
        "After plotting the data, you can customize the plot using some of the following basic functions:\n",
        "* `plt.title(\"Plot Title\")`: Adds a title to the plot.\n",
        "* `plt.xlabel(\"x-axis label\")`: Adds a label to the x-axis.\n",
        "* `plt.ylabel(\"y-axis label\")`: Adds a label to the y-axis.\n",
        "* `plt.legend()`: Adds a legend (used when you set label= in plot commands).\n",
        "* `plt.show()`: Displays the plot window (especially important outside notebooks)."
      ],
      "metadata": {
        "id": "GfnmrOtgoxrr"
      }
    },
    {
      "cell_type": "code",
      "source": [
        "plt.plot(x, y)  # Create a simple line plot by default.\n",
        "\n",
        "plt.title(\"Basic Plot\")  # Add a title\n",
        "plt.xlabel(\"X-axis\")  # Label the x-axis\n",
        "plt.ylabel(\"Y-axis\")  # Label the y-axis\n",
        "plt.show()  \t  # Display the plot. Google Colab will plot this, even without.\n",
        "                # plt.show(), but may be necessary in other coding environments."
      ],
      "metadata": {
        "id": "qQHqLj4Mo1NV"
      },
      "execution_count": null,
      "outputs": []
    },
    {
      "cell_type": "markdown",
      "source": [
        "In addition to these basic customizations, you can also customize:\n",
        "* `plt.xlim([xmin, xmax])`: Sets the limits of the x-axis.\n",
        "* `plt.ylim([ymin, ymax])`: Sets the limits of the y-axis.\n",
        "* `plt.legend(loc=\"best\")`: Adds a legend to the plot, using labels you defined with `label=` in your plot commands. The loc parameter controls the legend's location (e.g., `\"upper left\"`, `\"lower right\"`, `\"best\"` automatically picks a good spot).\n",
        "* `plt.grid()`: Adds gridlines to make the plot easier to read.\n",
        "* `plt.figure(figsize=(8, 6), dpi=300)`: Creates a new figure with a specified size in inches (`figsize`) and resolution in dots per inch (`dpi`). The default `dpi` is `100`, but increasing it (e.g., to `300`) makes saved images sharper and better for printing."
      ],
      "metadata": {
        "id": "RsMjps1Trlq4"
      }
    },
    {
      "cell_type": "code",
      "source": [
        "# Customizing Axes Limits\n",
        "x = [1, 2, 3, 4, 5]\n",
        "y = [1, 4, 9, 16, 25]\n",
        "\n",
        "plt.plot(x, y)\n",
        "plt.xlim(0, 6) # Setting x-axis limit.\n",
        "plt.ylim(0, 30) # Setting y-axis limit.\n",
        "plt.title(\"Custom Axis Limits\")\n",
        "plt.show()"
      ],
      "metadata": {
        "id": "iUFbQizXQStD"
      },
      "execution_count": null,
      "outputs": []
    },
    {
      "cell_type": "code",
      "source": [
        "# Customizing the Legend\n",
        "x_squared = [1, 2, 3, 4, 5]\n",
        "y_squared = [1, 4, 9, 16, 25]\n",
        "\n",
        "x_linear = [1, 2, 3, 4, 5]\n",
        "y_linear = [1, 2, 3, 4, 5]\n",
        "\n",
        "plt.plot(x_squared, y_squared, label=\"y = x$^2$\")\n",
        "plt.plot(x_linear, y_linear, label=\"y = x\")\n",
        "plt.legend(loc=\"best\")  \t# Add legend in the upper-left corner\n",
        "plt.show()\n",
        "          \t\t\t\t              # There's also:\n",
        "\t\t\t\t\t                      #  0 or 'best', 1 or 'upper right',\n",
        "                                #  2 or 'upper left', 3 or 'lower left',\n",
        "                                #  4 or 'lower right', 5 or 'right',\n",
        "                                #  6 or 'center left', 7 or 'center right',\n",
        "                                #  8 or 'lower center', 9 or 'upper center',\n",
        "                                #  and 10 or 'center'"
      ],
      "metadata": {
        "id": "d8TUFMq-QYrO"
      },
      "execution_count": null,
      "outputs": []
    },
    {
      "cell_type": "code",
      "source": [
        "# Adding Gridlines\n",
        "x = [1, 2, 3, 4, 5]\n",
        "y = [1, 4, 9, 16, 25]\n",
        "\n",
        "plt.plot(x,y)\n",
        "plt.grid()  # Add gridlines\n",
        "plt.show()"
      ],
      "metadata": {
        "id": "NqUNNPjLNiVT"
      },
      "execution_count": null,
      "outputs": []
    },
    {
      "cell_type": "code",
      "source": [
        "# Changing Figure Size\n",
        "plt.figure(figsize=(8, 6), dpi=300)\t# figsize=(8, 6): Sets figure size to 8\n",
        "                                    # inches wide by 6 inches tall.\n",
        "\n",
        "                                    # dpi=300: Increases the default\n",
        "                                    # resolution from 100 dots per inch to\n",
        "                                    # 300 dots per inch.\n",
        "x = [1, 2, 3, 4, 5]\n",
        "y = [1, 4, 9, 16, 25]\n",
        "plt.plot(x, y)\n",
        "plt.title(\"Figure with Custom Size\")\n",
        "plt.grid()\n",
        "plt.show()"
      ],
      "metadata": {
        "id": "YtciTbj3QHkB"
      },
      "execution_count": null,
      "outputs": []
    },
    {
      "cell_type": "markdown",
      "source": [
        "Lastly, we can also customize the `linestyle` (the pattern of the line), the `color` (color of the line and markers), and `marker` (adding markers at each of your data points). These customizations are done in the `plt.plot()` function itself, after you have specified `x` and `y` (and your `label`)."
      ],
      "metadata": {
        "id": "JWUa7jCAG2UE"
      }
    },
    {
      "cell_type": "code",
      "source": [
        "# Changing Line Style, Color, Marker\n",
        "x = [1, 2, 3, 4, 5]\n",
        "y = [1, 4, 9, 16, 25]\n",
        "plt.plot(x,y, linestyle=\"--\", color=\"red\", marker=\"o\")\n",
        "plt.title(\"Custom Line Style\")\n",
        "plt.grid()\n",
        "plt.show()"
      ],
      "metadata": {
        "id": "7UOYvNMvNlsr"
      },
      "execution_count": null,
      "outputs": []
    },
    {
      "cell_type": "markdown",
      "source": [
        "**Table of Common Line Styles, Colors, and Marker Types**\n",
        "\n",
        "|   **Line Style**    |      **Color**       |     **Markers**     |\n",
        "|:-------------------:|:--------------------:|:-------------------:|\n",
        "| Solid Line: '-'     | Blue: 'b', 'blue'    | Point: '.'          |\n",
        "| Dashed Line: '--'   | Green: 'g', 'green'  | Circle: 'o'         |\n",
        "| Dash-Dot Line: '-.' | Red: 'r', 'red'      | X: 'x'              |\n",
        "| No Line: 'None', ' '| Cyan: 'c', 'cyan'    | Plus: '+'           |\n",
        "|                     | Magenta: 'm', 'magenta' | Triangle: '^'    |\n",
        "|                     | Yellow: 'y', 'yellow'   | Down Triangle: 'v'|\n",
        "|                     | Black: 'k', 'black'     | Right Triangle: '>'|\n",
        "|                     | White: 'w', 'white'     | Left Triangle: '<' |\n",
        "|                     |                         | Diamond: 'd'       |\n",
        "|                     |                         | Pentagon: 'p'      |\n",
        "|                     |                         | Hexagon: 'h'       |\n",
        "|                     |                         | Star: '*'          |\n",
        "\n",
        "\n",
        "For more guidance on colors, check out this [website](https://matplotlib.org/stable/users/explain/colors/colors.html#sphx-glr-users-explain-colors-colors-py)."
      ],
      "metadata": {
        "id": "wEX0PkpPN4sK"
      }
    },
    {
      "cell_type": "markdown",
      "source": [
        "### 🫵 Give it a try!\n",
        "Create a line plot for `x_squared = [1, 2, 3, 4, 5]` and `y_squared = [1, 4, 9, 16, 25]`; and `x_cubed = [1, 2, 3, 4, 5]` and `y_cubed = [1, 8, 27, 64, 125]`. Be sure to:\n",
        "* Set your `figsize` to `(8, 6)` and `dpi` to `200`\n",
        "* Provide a title (\"Comparison Plot\") and axes labels (\"X Values\" and \"Y Values\")\n",
        "* Label your plots $x^2$ and $x^3$ respectively\n",
        "* Set limits to your x-axis: `0` to `5`\n",
        "* Set limits to your y-axis: `0` to `130`\n",
        "* Add grid lines and put it in the `upper right` corner.\n",
        "* Add a legend\n",
        "* Give the `squared` plot: Blue Diamond markers, with Dashed Lines\n",
        "* Give the `cubed` plot: Cyan Star markers, with Dash-Dot Lines"
      ],
      "metadata": {
        "id": "t4SNf9E0vntf"
      }
    },
    {
      "cell_type": "code",
      "source": [
        "# Define the data you want to plot:\n",
        "x_squared = [1, 2, 3, 4, 5]\n",
        "y_squared = [1, 4, 9, 16, 25]\n",
        "x_cubed = [1, 2, 3, 4, 5]\n",
        "y_cubed = [1, 8, 27, 64, 125]\n"
      ],
      "metadata": {
        "id": "JJGiw2-szTtu"
      },
      "execution_count": null,
      "outputs": []
    },
    {
      "cell_type": "markdown",
      "source": [
        "### 👈 If you're stuck, click the 🔽 button on the left for hints."
      ],
      "metadata": {
        "id": "2MfLCWL5zTD7"
      }
    },
    {
      "cell_type": "markdown",
      "source": [
        "#### 🤔 Hint #1"
      ],
      "metadata": {
        "id": "xl941jLyzqNV"
      }
    },
    {
      "cell_type": "code",
      "source": [
        "# Define the data you want to plot:\n",
        "x_squared = [1, 2, 3, 4, 5]\n",
        "y_squared = [1, 3, 5, 7, 20]      # Be sure to adjust this.\n",
        "x_cubed = [1, 2, 3, 4, 5]\n",
        "y_cubed = [1, 20, 50, 75, 130]    # Be sure to adjust this.\n",
        "\n",
        "# Also recall how to add labels:\n",
        "plt.plot(x_squared, y_squared, label=\"label 1\")   # Be sure to adjust this.\n",
        "plt.plot(x_cubed, y_cubed, label=\"label 2\")       # Be sure to adjust this.\n",
        "plt.show()"
      ],
      "metadata": {
        "id": "peG-VDXozro_"
      },
      "execution_count": null,
      "outputs": []
    },
    {
      "cell_type": "markdown",
      "source": [
        "#### 😅 Hint #2"
      ],
      "metadata": {
        "id": "_0ow8e_gzxT_"
      }
    },
    {
      "cell_type": "code",
      "source": [
        "# Remember how to set figsize and dpi\n",
        "plt.figure(figsize=(2, 4), dpi=100)   # Be sure to adjust this.\n",
        "\n",
        "# Remember how to set limits to your x-axis and y-axis\n",
        "plt.xlim(0,10)    # Be sure to adjust this.\n",
        "plt.ylim(0,300)   # Be sure to adjust this.\n",
        "\n",
        "# Remember how to add gridlines and a legend.\n",
        "plt.grid()\n",
        "plt.legend()\n",
        "\n",
        "# Be sure to incorporate this into your other code."
      ],
      "metadata": {
        "id": "TIZ2vn13zvwq"
      },
      "execution_count": null,
      "outputs": []
    },
    {
      "cell_type": "markdown",
      "source": [
        "#### 🥲 Hint #3"
      ],
      "metadata": {
        "id": "67gAijhezzkh"
      }
    },
    {
      "cell_type": "code",
      "source": [
        "# Remeber how to customize your marker and lines:\n",
        "plt.plot(x_squared, y_squared, linestyle=\"--\", color=\"red\", marker=\"o\")   # Be sure to adjust this.\n",
        "plt.plot(x_cubed, y_cubed, linestyle=\"--\", color=\"red\", marker=\"o\")       # Be sure to adjust this."
      ],
      "metadata": {
        "id": "KbRlhS5az5U7"
      },
      "execution_count": null,
      "outputs": []
    },
    {
      "cell_type": "markdown",
      "source": [
        "#### 🥳 Check your solution!"
      ],
      "metadata": {
        "id": "uT92PQd8zrL0"
      }
    },
    {
      "cell_type": "code",
      "source": [
        "# Define the data you want to plot:\n",
        "x_squared = [1, 2, 3, 4, 5]\n",
        "y_squared = [1, 4, 9, 16, 25]\n",
        "x_cubed = [1, 2, 3, 4, 5]\n",
        "y_cubed = [1, 8, 27, 64, 125]\n",
        "\n",
        "# Recall how to add labels:\n",
        "plt.plot(x_squared, y_squared, label=\"$x^2$\", linestyle=\"--\", color=\"blue\", marker=\"d\")\n",
        "plt.plot(x_cubed, y_cubed, label=\"$x^3$\", linestyle=\"-.\", color=\"cyan\", marker=\"*\")\n",
        "plt.title(\"Comparison Plot\")\n",
        "plt.xlabel(\"X Values\")\n",
        "plt.ylabel(\"Y Values\")\n",
        "plt.grid()\n",
        "plt.legend(loc=\"upper left\")\n",
        "\n",
        "plt.show()"
      ],
      "metadata": {
        "id": "r_Z0QSh80PJw"
      },
      "execution_count": null,
      "outputs": []
    },
    {
      "cell_type": "markdown",
      "source": [
        "### 💪 Extra Practice: Scatter Plot of a Math Equation\n",
        "Use `NumPy` to plot `50` data points of $x \\in [-3, 3]$ for $y = x^3 - 3x$ as a scatter plot."
      ],
      "metadata": {
        "id": "1PcuvX9A7Ks4"
      }
    },
    {
      "cell_type": "code",
      "source": [],
      "metadata": {
        "id": "IjDZgxpD7LWi"
      },
      "execution_count": null,
      "outputs": []
    },
    {
      "cell_type": "markdown",
      "source": [
        "## Common Plot Types"
      ],
      "metadata": {
        "id": "CPXe-aSYK2_7"
      }
    },
    {
      "cell_type": "markdown",
      "source": [
        "We've already covered line plots, but there a number of different plot types that we could also use, including:\n",
        "* **Scatter Plots**: `plt.scatter(x, y)`: creates a plot of individual data points, useful for showing relationships, patterns, or clusters between two variables.\n",
        "\n",
        "* **Bar Charts**: `plt.bar(x, height)`: displays rectangular bars to compare quantities across different categories; the length of each bar represents its value.\n",
        "\n",
        "* **Horizontal Bar Charts**: `plt.barh(y, width)`: creates bars that extend horizontally instead of vertically. This is useful when category names are long, or when you want to emphasize comparison across categories in a horizontal layout.\n",
        "\n",
        "* **Pie Charts**: `plt.pie(sizes, labels=...)`: shows parts of a whole as slices of a circle, useful for illustrating proportion or percentage breakdowns."
      ],
      "metadata": {
        "id": "aH3oydaRA_Wb"
      }
    },
    {
      "cell_type": "code",
      "source": [
        "# X-Y Scatter Plot\n",
        "plt.scatter([0, 1, 2, 3], [0, 1, 4, 9], label=\"y = x$^2$\")\n",
        "plt.scatter([0, 1, 2, 3], [0, 1, 2, 3], label=\"y = x\")\n",
        "plt.title(\"Line Plot Example\")\n",
        "plt.xlabel(\"X-axis\")\n",
        "plt.ylabel(\"Y-axis\")\n",
        "plt.legend()  # Add a legend\n",
        "plt.grid()\n",
        "plt.show()"
      ],
      "metadata": {
        "id": "BYAcfSrdLB5-"
      },
      "execution_count": null,
      "outputs": []
    },
    {
      "cell_type": "code",
      "source": [
        "# Bar Chart\n",
        "categories = [\"A\", \"B\", \"C\"]\n",
        "values = [3, 7, 5]\n",
        "\n",
        "plt.bar(categories, values, color=\"skyblue\")\n",
        "plt.title(\"Bar Plot Example\")\n",
        "plt.xlabel(\"Categories\")\n",
        "plt.ylabel(\"Values\")\n",
        "plt.grid()\n",
        "plt.show()"
      ],
      "metadata": {
        "id": "jq21KFx2LR7Y"
      },
      "execution_count": null,
      "outputs": []
    },
    {
      "cell_type": "code",
      "source": [
        "# Horizontal Bar Plot\n",
        "categories = [\"A\", \"B\", \"C\"]\n",
        "values = [3, 7, 5]\n",
        "\n",
        "plt.barh(categories, values, color=\"skyblue\")\n",
        "plt.title(\"Horizontal Bar Plot Example\")\n",
        "plt.xlabel(\"Values\")\n",
        "plt.ylabel(\"Categories\")\n",
        "plt.grid()\n",
        "plt.show()"
      ],
      "metadata": {
        "id": "HNnjfglgF6yE"
      },
      "execution_count": null,
      "outputs": []
    },
    {
      "cell_type": "code",
      "source": [
        "# Pie Chart\n",
        "categories = [\"A\", \"B\", \"C\"]\n",
        "values = [3, 7, 5]\n",
        "\n",
        "plt.pie(values, labels=categories)\n",
        "plt.title(\"Pie Chart Example\")\n",
        "plt.show()"
      ],
      "metadata": {
        "id": "DnEVn0lmDwOD"
      },
      "execution_count": null,
      "outputs": []
    },
    {
      "cell_type": "markdown",
      "source": [
        "### 💪 Practice: Create your own Bar Chart\n",
        "Imagine we are counting the number of samples obtained in different boroughs of New York City. The breakdown of samples are:\n",
        "* Manhattan: 52\n",
        "* Brooklyn: 43\n",
        "* Queens: 11\n",
        "* The Bronx: 34\n",
        "* Staten Island: 21\n",
        "\n",
        "Create a bar chart that visualizes the number of samples taken for each borough."
      ],
      "metadata": {
        "id": "tNrU-ITRv9eP"
      }
    },
    {
      "cell_type": "code",
      "source": [],
      "metadata": {
        "id": "TU8l8m3sv_Rf"
      },
      "execution_count": null,
      "outputs": []
    },
    {
      "cell_type": "markdown",
      "source": [
        "## Multiple Plots"
      ],
      "metadata": {
        "id": "8h7jjh-pLcA7"
      }
    },
    {
      "cell_type": "markdown",
      "source": [
        "When you want to create separate figures, you can use `plt.figure()` to create or switch between different figure windows, allowing you to work on separate plots independently without affecting each other.\n",
        "\n",
        "The syntax is `plt.figure(number)`, where: `number`: The figure identifier (e.g., 1, 2, 3, ...). You can use this number to create a new figure or activate an existing one.\n",
        "\n",
        "In the example below, `plt.figure(1)` creates or activates Figure 1 and draws a line plot, while `plt.figure(2)` creates or activates Figure 2 and draws a scatter plot. Both figures are then displayed together when `plt.show()` is called."
      ],
      "metadata": {
        "id": "YX5ZQRlCr3Sn"
      }
    },
    {
      "cell_type": "code",
      "source": [
        "# First figure\n",
        "plt.figure(1) # Notice the 1 in plt.figure(1)\n",
        "plt.plot([1, 2, 3], [1, 4, 9])\n",
        "plt.title(\"Figure 1\")\n",
        "plt.grid()\n",
        "\n",
        "# Second figure\n",
        "plt.figure(2) # Notice the 2 in plt.figure(2)\n",
        "plt.scatter([1, 2, 3], [1, 2, 3])\n",
        "plt.title(\"Figure 2\")\n",
        "plt.grid()\n",
        "\n",
        "plt.show()"
      ],
      "metadata": {
        "id": "7RCO-bH7M7mC"
      },
      "execution_count": null,
      "outputs": []
    },
    {
      "cell_type": "markdown",
      "source": [
        "Sometimes you may want to show several plots side by side or in a single figure to compare data more easily. Using functions like `plt.subplot()` or creating multiple figure and axis objects, you can organize multiple plots in rows and columns within one figure, allowing you to clearly highlight similarities or differences between datasets.\n",
        "\n",
        "The syntax of is `plt.subplot(nrows, ncols, index)`, where:\n",
        "* nrows: Number of rows in the grid.\n",
        "* ncols: Number of columns in the grid.\n",
        "* index: Position of the current plot (counted left to right, top to bottom, starting at 1).\n",
        "\n"
      ],
      "metadata": {
        "id": "s9xFHV13NLiX"
      }
    },
    {
      "cell_type": "code",
      "source": [
        "# Simple Subplots\n",
        "plt.subplot(1, 2, 1)  # 1 row, 2 columns, 1st plot\n",
        "plt.plot([1, 2, 3], [1, 4, 9])\n",
        "plt.title(\"Plot 1\")\n",
        "plt.grid()\n",
        "\n",
        "plt.subplot(1, 2, 2)  # 1 row, 2 columns, 2nd plot\n",
        "plt.plot([1, 2, 3], [1, 2, 3])\n",
        "plt.title(\"Plot 2\")\n",
        "plt.grid()\n",
        "\n",
        "plt.tight_layout()  # Adjust spacing (tight)\n",
        "\n",
        "# For manual control over spacing, you can adjust using the following:\n",
        "#plt.subplots_adjust(left=0.1, right=0.9, top=0.9, bottom=0.1, wspace=0.3, hspace=0.4)\n",
        "      # ^left, right: Left and right margins as a fraction of the figure width.\n",
        "      # ^top , bottom: Top and bottom margins as a fraction of the figure height.\n",
        "      # ^wspace: Width spacing between subplots (default is 0.2).\n",
        "      # ^hspace: Height spacing between subplots (default is 0.2).\n",
        "\n",
        "plt.show()"
      ],
      "metadata": {
        "id": "vCYHSB4hLdpw"
      },
      "execution_count": null,
      "outputs": []
    },
    {
      "cell_type": "markdown",
      "source": [
        "When you use `plt.subplots()`, you can set it equal to `fig` (which refers to the entire figure or canvas that holds the subplots, axes, titles, legend, etc.) and `axes` (which refers to individual subplots inside the fiture). Separating `fig` and `axes` makes editing these various objects much easier."
      ],
      "metadata": {
        "id": "ioUwkR3OmUHW"
      }
    },
    {
      "cell_type": "code",
      "source": [
        "# Advanced Subplots\n",
        "fig, axes = plt.subplots(2, 2, figsize=(8, 6))\n",
        "\n",
        "axes[0, 0].plot([1, 2, 3], [1, 4, 9])\n",
        "axes[0, 0].set_title(\"Plot 1\")\n",
        "axes[0, 0].grid()\n",
        "\n",
        "axes[0, 1].bar([\"A\", \"B\", \"C\"], [3, 7, 5])\n",
        "axes[0, 1].set_title(\"Plot 2\")\n",
        "axes[0, 1].grid()\n",
        "\n",
        "axes[1, 0].scatter([1, 2, 3], [1, 4, 9])\n",
        "axes[1, 0].set_title(\"Plot 3\")\n",
        "axes[1, 0].grid()\n",
        "\n",
        "axes[1, 1].pie([3, 7, 5],labels=[\"A\", \"B\", \"C\"])\n",
        "axes[1, 1].set_title(\"Plot 4\")\n",
        "axes[1, 1].grid()\n",
        "\n",
        "plt.tight_layout()\n",
        "plt.show()"
      ],
      "metadata": {
        "id": "QLEKeDOIMlkn"
      },
      "execution_count": null,
      "outputs": []
    },
    {
      "cell_type": "markdown",
      "source": [
        "There are many nuances to plotting data using Matplotlib. For a more comprehensive guide see [Matplotlib Tutorial (GeeksforGeeks)](https://www.geeksforgeeks.org/matplotlib-tutorial/)."
      ],
      "metadata": {
        "id": "0tXjH2sccJQW"
      }
    },
    {
      "cell_type": "markdown",
      "source": [
        "### 💪 Practice: Create 4 Side-By-Side Plots\n",
        "Plot the following equations for $x \\in [-5, 5]$ in $2 \\times 2$ Subplots:\n",
        "* $y=x$\n",
        "* $y=x^2$\n",
        "* $y=x^3$\n",
        "* $y=x^4$\n",
        "\n",
        "Be sure to label the entire plot \"Comparison of Plots\" and individual subplot titles with the equation names."
      ],
      "metadata": {
        "id": "0P3xAEZL0wkb"
      }
    },
    {
      "cell_type": "code",
      "source": [],
      "metadata": {
        "id": "-6jCmlOG1gqH"
      },
      "execution_count": null,
      "outputs": []
    },
    {
      "cell_type": "markdown",
      "source": [
        "# 🧮 Statistics"
      ],
      "metadata": {
        "id": "DLWTvcfpCYJp"
      }
    },
    {
      "cell_type": "markdown",
      "source": [
        "Real-world datasets are often large or noisy. Statistics offers us a variety of tools to help us understand these datasets and identify correlations and trends. NumPy has a number of built-in functions that can help describe these datasets:\n",
        "* `np.mean(data)`: Returns the average value of the array by adding up all the elements and dividing by the number of elements.\n",
        "* `np.sort(data)`: Sorts the array in ascending order (lowest to highest value).\n",
        "* `np.median(data)`: Returns the median value of an array by ordering the elements from lowest to highest and returning the value of the element that is at the midpoint in this series (if the dataset has an even number of elements, the median value will be an average of the two elements at the midpoint in the ordered series).\n",
        "* `np.min(data)`: Returns the minimum value of the array.\n",
        "* `np.max(data)`: Returns the maximum value of the array."
      ],
      "metadata": {
        "id": "ks5ckjk_2bt3"
      }
    },
    {
      "cell_type": "markdown",
      "source": [
        "### 🤝 Characterizing Water Usage with Basic Statistics\n",
        "\n",
        "Here's an example that uses these functions to characterize water usage of various households in a neighborhood.\n",
        "\n",
        "* Average Water Usage: $\\frac{90+92+88+89+500+91+87}{7}=148.14$ L/day"
      ],
      "metadata": {
        "id": "vc_MDzFjBStN"
      }
    },
    {
      "cell_type": "code",
      "source": [
        "%reset -f\n",
        "import numpy as np\n",
        "\n",
        "water_usage = np.array([90, 92, 88, 89, 500, 91, 87]) # Units: Liters/Day\n",
        "\n",
        "# Average Water Usage\n",
        "print(f\"Average Water Usage: {np.mean(water_usage):0.2f} L/day\")"
      ],
      "metadata": {
        "id": "E9Muo5axuSY2"
      },
      "execution_count": null,
      "outputs": []
    },
    {
      "cell_type": "markdown",
      "source": [
        "Water Usage (Ordered Lowest to Highest): 87, 88, 89, 90, 91, 92, 500\n",
        "* Median (or midpoint of the ordered series): 90"
      ],
      "metadata": {
        "id": "j5EYw7JCDo8L"
      }
    },
    {
      "cell_type": "code",
      "source": [
        "# Sorted in Ascending Order:\n",
        "print(np.sort(water_usage))\n",
        "\n",
        "# Median Water Usage\n",
        "print(f\"Average Water Usage: {np.median(water_usage)} L/day\")"
      ],
      "metadata": {
        "id": "KDSegd4_-wAL"
      },
      "execution_count": null,
      "outputs": []
    },
    {
      "cell_type": "code",
      "source": [
        "# Minimum Water Usage\n",
        "min_water_usage = np.min(water_usage)\n",
        "print(f\"Minimum Water Usage: {min_water_usage} L/day\")\n",
        "\n",
        "# Maximum Water Usage\n",
        "max_water_usage = np.max(water_usage)\n",
        "print(f\"Maximum Water Usage: {max_water_usage} L/day\")"
      ],
      "metadata": {
        "id": "4PN6a8XTB82y"
      },
      "execution_count": null,
      "outputs": []
    },
    {
      "cell_type": "markdown",
      "source": [
        "### 🫵 Give it a try!\n",
        "Perform various `NumPy` functions to perform statistical analyses on a set of grades. These analyses should include:\n",
        "* Lowest Grade\n",
        "* Highest Grade\n",
        "* Average Grade\n",
        "* Median Grade\n",
        "\n",
        "Print these values in a clear way (e.g., \"The lowest grade is ...\")"
      ],
      "metadata": {
        "id": "oUqGnKT1R5eq"
      }
    },
    {
      "cell_type": "code",
      "source": [
        "import numpy as np\n",
        "\n",
        "grades = [88, 61, 72, 99, 80, 92, 77, 78, 67, 95]\n",
        "\n",
        "# Continue your code here..."
      ],
      "metadata": {
        "id": "2bChZLpoSifY"
      },
      "execution_count": null,
      "outputs": []
    },
    {
      "cell_type": "markdown",
      "source": [
        "### 👈 If you're stuck, click the 🔽 button on the left for hints."
      ],
      "metadata": {
        "id": "wKcy_0LUZyls"
      }
    },
    {
      "cell_type": "markdown",
      "source": [
        "#### 🤔 Hint #1"
      ],
      "metadata": {
        "id": "8BtdtuDiaVCx"
      }
    },
    {
      "cell_type": "code",
      "source": [
        "# Remember the functions for np.min(), np.max()\n",
        "np.min(grades)\n",
        "np.max(grades)"
      ],
      "metadata": {
        "id": "DmFZ3eaRTNs_"
      },
      "execution_count": null,
      "outputs": []
    },
    {
      "cell_type": "markdown",
      "source": [
        "#### 😅 Hint #2"
      ],
      "metadata": {
        "id": "zT9rQXjmahR1"
      }
    },
    {
      "cell_type": "code",
      "source": [
        "# Remember the other functions for np.mean(), np.median()\n",
        "np.mean(grades)\n",
        "np.median(grades)"
      ],
      "metadata": {
        "id": "6yrP-9CAW9wp"
      },
      "execution_count": null,
      "outputs": []
    },
    {
      "cell_type": "markdown",
      "source": [
        "#### 🥲 Hint #3"
      ],
      "metadata": {
        "id": "gbqjSJTOalzy"
      }
    },
    {
      "cell_type": "code",
      "source": [
        "# Print values clearly\n",
        "avg_grade = np.mean(grades)\n",
        "\n",
        "print(f\"The average grade is {avg_grade}.\")"
      ],
      "metadata": {
        "id": "N-TBAE1vXIH4"
      },
      "execution_count": null,
      "outputs": []
    },
    {
      "cell_type": "markdown",
      "source": [
        "#### 🥳 Check your solution!"
      ],
      "metadata": {
        "id": "5i6yLonAapFD"
      }
    },
    {
      "cell_type": "code",
      "source": [
        "# Import Libraries\n",
        "import numpy as np\n",
        "\n",
        "# Grades\n",
        "grades = [88, 61, 72, 99, 80, 92, 77, 78, 67, 95]\n",
        "\n",
        "# Statistical Analyses\n",
        "low_grade = np.min(grades)\n",
        "high_grade = np.max(grades)\n",
        "avg_grade = np.mean(grades)\n",
        "median_grade = np.median(grades)\n",
        "\n",
        "# Print Statistical Analyses\n",
        "print(f\"The lowest grade is {low_grade}.\")\n",
        "print(f\"The highest grade is {high_grade}.\")\n",
        "print(f\"The average grade is {avg_grade}.\")\n",
        "print(f\"The median grade is {median_grade}.\")"
      ],
      "metadata": {
        "id": "1gmW8bqNasJ6"
      },
      "execution_count": null,
      "outputs": []
    },
    {
      "cell_type": "markdown",
      "source": [
        "### 💪 Extra Practice: Characterize Electricity Usage\n",
        "\n",
        "Use the NumPy functions `np.mean()`, `np.sort()`, `np.median()`, `np.min()`, and `np.max()` to characterize the following data about electricity usage of various households in a neighborhood."
      ],
      "metadata": {
        "id": "ceImGNEEFATk"
      }
    },
    {
      "cell_type": "code",
      "source": [
        "%reset -f\n",
        "import numpy as np\n",
        "\n",
        "elec_usage = np.array([28.4, 31.2, 29.5, 30.7, 27.9, 32.1, 28.6, 30.3, 29.8, 31.0,\n",
        "                       30.1, 29.3, 30.9, 27.8, 32.4, 28.7, 0.0, 29.6, 31.3, 30.0])\n",
        "\n",
        "# Continue your code here..."
      ],
      "metadata": {
        "id": "sxnmxIVKFlYM"
      },
      "execution_count": null,
      "outputs": []
    },
    {
      "cell_type": "markdown",
      "source": [
        "## Analyzing Data Distributions"
      ],
      "metadata": {
        "id": "cCpruObTuLs1"
      }
    },
    {
      "cell_type": "markdown",
      "source": [
        "As we begin to deal with larger datasets, trends/behavior in the data will begin to emerge. Oftentimes, we will describe these characteristics as a distribution — showing which values are more or less common in a dataset. Understanding distributions helps us make sense of patterns like averages, variability, and outliers, which are essential when analyzing real-world data.\n",
        "\n",
        "* `np.std(data)`: Returns the standard deviation, which measures how spread out the values are from the mean.\n",
        "* `np.var(data)`: Returns the variance, which is the average of the squared differences of the data elements from the mean. The variance is often calculated in the process of calculating the standard deviation (which is the square root of the variance). Variance provides similar information as the standard deviation about the spread of the data, but is less commonly presented in statistical analyses.\n",
        "* `np.percentile(data,q)`: Returns the value below which a given percentage `q` (between 0 and 100) of the data falls (e.g., 90th percentile)\n",
        "* `np.quantile(data, q)`: Returns the value below which a given fraction `q` (between 0 and 1) of the data falls (i.e., same as percentile, but uses decimals instead of percentage).\n",
        "* `np.histogram(data,bins)`: Returns a tuple of two arrays: the counts of values in each bin and the bin edges used to divide the data."
      ],
      "metadata": {
        "id": "Y-rfb7aWuN4b"
      }
    },
    {
      "cell_type": "markdown",
      "source": [
        "### 🤝 Understanding Class Grades using Distributions\n",
        "\n",
        "Analyzing a class's grades on a quiz can help us understand how to use some of these functions. We'll use `np.mean()` and `np.std` to initially characterize the performance of the class. Then we will use `np.percentile()`, `np.quantile()` to identify performance thresholds — such as the 1st quartile, median, or top 10% — and understand how individuals compare to the rest of the class. Lastly, we will assign grades using `np.histogram()` and plot the performance of the class."
      ],
      "metadata": {
        "id": "c-d9iQMNLMR5"
      }
    },
    {
      "cell_type": "code",
      "source": [
        "%reset -f\n",
        "import numpy as np\n",
        "\n",
        "grades = np.array([\n",
        "    55, 60, 62, 65, 67, 68, 70, 72, 73, 75, 76, 78, 80, 82, 83, 85, 87, 88, 89,\n",
        "    90, 91, 93, 95, 98, 100])\n",
        "\n",
        "# Basic Statistics\n",
        "print(f\"Average Score: {np.mean(grades):0.2f}\")\n",
        "print(f\"Standard Deviation: +/- {np.std(grades):0.2f}\")"
      ],
      "metadata": {
        "id": "z158fQ91MYpG"
      },
      "execution_count": null,
      "outputs": []
    },
    {
      "cell_type": "markdown",
      "source": [
        ">* The average score on the exam was 79.28 / 100 points.\n",
        "* The standard deviation tells us that \"most\" (68%) of the scores fall within +/- 12.17 points of the average."
      ],
      "metadata": {
        "id": "-Mgvfh1fRXNz"
      }
    },
    {
      "cell_type": "code",
      "source": [
        "# Percentiles\n",
        "print(f\"25th Percentile (Q1): {np.percentile(grades, 25)}\")\n",
        "print(f\"50th Percentile (Median / Q2): {np.percentile(grades, 50)}\")\n",
        "print(f\"90th Percentile: {np.percentile(grades, 90)}\")\n",
        "print(\"\\n\")\n",
        "\n",
        "# Quantiles (equivalent way to express same idea, but with decimals)\n",
        "print(f\"1st Quartile (Quantile 0.25): {np.quantile(grades, 0.25)}\")\n",
        "print(f\"Median (Quantile 0.5): {np.quantile(grades, 0.5)}\")\n",
        "print(f\"10th Decile (Quantile 0.90): {np.quantile(grades, 0.90)}\")\n"
      ],
      "metadata": {
        "id": "GiUSzSTUSBZU"
      },
      "execution_count": null,
      "outputs": []
    },
    {
      "cell_type": "markdown",
      "source": [
        ">* The above outputs demonstrate that `np.percentile()` and `np.quantile()` function basically the same.\n",
        "* The output from the 25th Percentile/Quantile tells us the score that 25% of the students scored below.\n",
        "* The output from the Median Percentile/Quantile tells us the score that 50% of the students scored below.\n",
        "* The output from the 75th Percentile/Quantile tells us the score that 75% of the students scored below."
      ],
      "metadata": {
        "id": "o0ANB5OJTizv"
      }
    },
    {
      "cell_type": "code",
      "source": [
        "import numpy as np\n",
        "import matplotlib.pyplot as plt\n",
        "\n",
        "# Define bins (cutoffs for F, D, C, B, A)\n",
        "bins = [0, 60, 70, 80, 90, 100]\n",
        "labels = ['F', 'D', 'C', 'B', 'A']\n",
        "\n",
        "# Get histogram counts\n",
        "counts, bin_edges = np.histogram(grades, bins=bins)\n",
        "\n",
        "# Plot the histogram\n",
        "plt.bar(labels, counts)\n",
        "plt.title('Class Grade Distribution')\n",
        "plt.xlabel('Letter Grade')\n",
        "plt.ylabel('Number of Students')\n",
        "plt.show()\n"
      ],
      "metadata": {
        "id": "MucO-gvLYcxJ"
      },
      "execution_count": null,
      "outputs": []
    },
    {
      "cell_type": "markdown",
      "source": [
        ">* The above bar plot helps us visualize the distribution of grades and how they fall into the bins that we defined (`A`, `B`, `C`, `D`, and `F`)."
      ],
      "metadata": {
        "id": "MYWovHiLZwwA"
      }
    },
    {
      "cell_type": "code",
      "source": [
        "# Alternatively, you could plot using `plt.hist`\n",
        "plt.hist(grades, bins=[0, 60, 70, 80, 90, 100])\n",
        "plt.title(\"Class Grade Distribution\")\n",
        "plt.xlabel(\"Score Range\")\n",
        "plt.ylabel(\"Number of Students\")\n",
        "plt.show()"
      ],
      "metadata": {
        "id": "SDIUCNoOZBOk"
      },
      "execution_count": null,
      "outputs": []
    },
    {
      "cell_type": "markdown",
      "source": [
        ">The above plot uses `plt.hist(data,bins)`, where `data` are the values of the grades we want to plot on the histogram and `bins` are an array with our bin edges. Note that the default histogram plot plots the score range on the x-axis, which is why it looks different from the previous bar plot."
      ],
      "metadata": {
        "id": "J6eQkkxHZTWc"
      }
    },
    {
      "cell_type": "markdown",
      "source": [
        "### 🫵 Give it a try!\n",
        "\n",
        "The data below, rainfall, describes the daily rainfall amounts (in millimeters) recorded in a city over the course of a month.\n",
        "\n",
        "* Use `np.mean()` and `np.std()` to initially characterize the rainfall data.\n",
        "* Use `np.percentile()` (or `np.quantile()`) to identify important thresholds, such as the median rainfall or the top 10% of rainiest days.\n",
        "* Create a histogram to visualize the distribution of daily rainfall amounts for the city."
      ],
      "metadata": {
        "id": "9CghG91GfM1u"
      }
    },
    {
      "cell_type": "code",
      "source": [
        "# Import Libraries\n",
        "import numpy as np\n",
        "import matplotlib.pyplot as plt\n",
        "\n",
        "# Example daily rainfall amounts (in mm) over a month\n",
        "rainfall = np.array([0, 5, 12, 0, 20, 18, 0, 0,\n",
        "                     2, 25, 10, 0, 8, 15, 5, 0,\n",
        "                     30, 0, 0, 22, 14, 0, 0, 17,\n",
        "                     12, 0, 0, 9, 3, 0])\n",
        "\n",
        "# Continue code here..."
      ],
      "metadata": {
        "id": "S0MalKYXgZhi"
      },
      "execution_count": null,
      "outputs": []
    },
    {
      "cell_type": "markdown",
      "source": [
        "### 👈 If you're stuck, click the 🔽 button on the left for hints."
      ],
      "metadata": {
        "id": "45rBldV_fze7"
      }
    },
    {
      "cell_type": "markdown",
      "source": [
        "#### 🤔 Hint #1"
      ],
      "metadata": {
        "id": "4i8c4C2Xf0iq"
      }
    },
    {
      "cell_type": "code",
      "source": [
        "# Recall the functions for obtaining mean and standard deviation\n",
        "mean_rain = np.mean(rainfall)\n",
        "std_rain = np.std(rainfall)"
      ],
      "metadata": {
        "id": "m7bOkZoNf7bh"
      },
      "execution_count": null,
      "outputs": []
    },
    {
      "cell_type": "markdown",
      "source": [
        "#### 😅 Hint #2"
      ],
      "metadata": {
        "id": "KmxIIIjMf84x"
      }
    },
    {
      "cell_type": "code",
      "source": [
        "# Recall the functions for obtaining the median and top 10% threshold\n",
        "median_rain = np.percentile(rainfall, 50)\n",
        "top_10_threshold = np.percentile(rainfall, 90)"
      ],
      "metadata": {
        "id": "xZQWFeJ8f9qf"
      },
      "execution_count": null,
      "outputs": []
    },
    {
      "cell_type": "markdown",
      "source": [
        "#### 🥲 Hint #3"
      ],
      "metadata": {
        "id": "HnCgBfrSf72k"
      }
    },
    {
      "cell_type": "code",
      "source": [
        "# Recall how to create a histogram\n",
        "plt.hist(rainfall, bins=8, color='cornflowerblue', edgecolor='black')\n",
        "\n",
        "# This allows you to create a vertical line\n",
        "plt.axvline(median_rain, color='orange', linestyle='dashed', linewidth=2, label='Median')"
      ],
      "metadata": {
        "id": "Zf5uiKWIf-AK"
      },
      "execution_count": null,
      "outputs": []
    },
    {
      "cell_type": "markdown",
      "source": [
        "#### 🥳 Check your solution!"
      ],
      "metadata": {
        "id": "TFBifmzBgL0w"
      }
    },
    {
      "cell_type": "code",
      "source": [
        "# Import Libraries\n",
        "import numpy as np\n",
        "import matplotlib.pyplot as plt\n",
        "\n",
        "# Example daily rainfall amounts (in mm) over a month\n",
        "rainfall = np.array([0, 5, 12, 0, 20, 18, 0, 0,\n",
        "                     2, 25, 10, 0, 8, 15, 5, 0,\n",
        "                     30, 0, 0, 22, 14, 0, 0, 17,\n",
        "                     12, 0, 0, 9, 3, 0])\n",
        "\n",
        "# Characterize the data with mean and standard deviation\n",
        "mean_rain = np.mean(rainfall)\n",
        "std_rain = np.std(rainfall)\n",
        "\n",
        "print(f\"Mean daily rainfall: {mean_rain:.1f} mm\")\n",
        "print(f\"Standard deviation: {std_rain:.1f} mm\")\n",
        "\n",
        "# Identify thresholds using percentiles\n",
        "median_rain = np.percentile(rainfall, 50)\n",
        "top_10_threshold = np.percentile(rainfall, 90)\n",
        "\n",
        "print(f\"Median rainfall: {median_rain:.1f} mm\")\n",
        "print(f\"Top 10% threshold (90th percentile): {top_10_threshold:.1f} mm\")\n",
        "\n",
        "# Create a histogram\n",
        "plt.hist(rainfall, bins=8, color='cornflowerblue', edgecolor='black')\n",
        "plt.axvline(median_rain, color='orange', linestyle='dashed', linewidth=2, label='Median')\n",
        "plt.axvline(top_10_threshold, color='red', linestyle='dashed', linewidth=2, label='Top 10% threshold')\n",
        "plt.title(\"Distribution of Daily Rainfall (Month)\")\n",
        "plt.xlabel(\"Rainfall (mm)\")\n",
        "plt.ylabel(\"Number of Days\")\n",
        "plt.legend()\n",
        "plt.grid(True)\n",
        "plt.show()"
      ],
      "metadata": {
        "id": "J2gkLUklfPlB"
      },
      "execution_count": null,
      "outputs": []
    },
    {
      "cell_type": "markdown",
      "source": [
        "### 💪 Practice: Analyze Temperature in a City"
      ],
      "metadata": {
        "id": "sK4H4lKTb1j9"
      }
    },
    {
      "cell_type": "markdown",
      "source": [
        "The data below `temps` describes the daily high temperatures periodically recorded in a city throughout the year.\n",
        "* Use `np.mean()` and `np.std` to initially characterize the data.\n",
        "* Use `np.percentile()` (or `np.quantile()`) to identify performance thresholds, such as the median or top 10%, of the temperature data.\n",
        "* Create a histogram to visualize the distribution of temperature data for the city."
      ],
      "metadata": {
        "id": "7wLOSK27cV3I"
      }
    },
    {
      "cell_type": "code",
      "source": [
        "%reset -f\n",
        "\n",
        "import numpy as np\n",
        "import matplotlib.pyplot as plt\n",
        "\n",
        "# Daily high temperatures for a year\n",
        "temps = np.array([\n",
        "    # Winter\n",
        "    54, 56, 55, 53, 52, 55, 57, 58, 56, 54,\n",
        "    53, 55, 54, 56, 57, 55, 52, 53, 56, 54,\n",
        "    55, 54, 53, 52, 56, 57, 58, 56, 55, 54,\n",
        "\n",
        "    # Spring\n",
        "    65, 66, 68, 67, 69, 70, 68, 67, 66, 65,\n",
        "    69, 71, 72, 70, 68, 67, 66, 65, 69, 70,\n",
        "    71, 72, 73, 72, 71, 70, 69, 68, 67, 66,\n",
        "\n",
        "    # Summer\n",
        "    90, 92, 91, 93, 95, 96, 94, 93, 91, 90,\n",
        "    95, 97, 98, 96, 94, 93, 92, 91, 95, 96,\n",
        "    97, 98, 99, 108, 110, 97, 95, 94, 92, 91,\n",
        "\n",
        "    # Fall\n",
        "    85, 84, 83, 82, 81, 80, 79, 78, 77, 76,\n",
        "    75, 74, 76, 78, 79, 80, 81, 82, 83, 84,\n",
        "    85, 86, 85, 84, 83, 82, 81, 80, 79, 78,\n",
        "])\n",
        "\n",
        "# Continue your code here..."
      ],
      "metadata": {
        "id": "YlH81ZfncVLl"
      },
      "execution_count": null,
      "outputs": []
    },
    {
      "cell_type": "markdown",
      "source": [
        "## Random Number Generators & Distributions"
      ],
      "metadata": {
        "id": "KDJb4Bw4ZWrM"
      }
    },
    {
      "cell_type": "markdown",
      "source": [
        "You may encounter instances where it is useful to generate an array of random numbers (e.g., sensitivity/uncertainty analyses, Monte Carlo simulations, random sampling). NumPy has a built-in \"random number generator\" (`rng`) that allows you to set the bounds, define the distribution shape, and specify the number of random numbers you want.\n",
        "\n",
        "To introduce this concept, we'll start with a **uniform distribution**, meaning that any value within a range has an equal likelihood of being generated. To achieve this requires two steps: (1) creating a random number generator (`rng`) object and (2) applying that random number generator object to a specific distribution — in this case a uniform distribution:\n",
        "\n",
        "* `rng = np.random.default_rng()`: This defines `rng` as our random number generator object.\n",
        "* `rng_array = rng.uniform(lower,upper,n)`: This shapes `rng` into a uniform distribution with the lower bound `lower`, an upper bound `upper`, and `n` number of values in the array containing the randomly generated numbers (`rng_array`)."
      ],
      "metadata": {
        "id": "Pzxp2yZbquiG"
      }
    },
    {
      "cell_type": "code",
      "source": [
        "%reset -f\n",
        "\n",
        "# Import Libraries\n",
        "import numpy as np\n",
        "import matplotlib.pyplot as plt\n",
        "\n",
        "# Step 1: Create Random Number Generator Object\n",
        "rng = np.random.default_rng()\n",
        "# Step 2: Shape rng into a distribution\n",
        "rng_array = rng.uniform(0,1,5)  # lower = 0, upper = 1, n = 5\n",
        "\n",
        "# Print Result\n",
        "print(rng_array)"
      ],
      "metadata": {
        "id": "3mQIqFRNt13-"
      },
      "execution_count": null,
      "outputs": []
    },
    {
      "cell_type": "markdown",
      "source": [
        "If you run the above code cell multiple times, you'll see that you'll get different values each time you run the cell. However, sometimes it can be useful to have \"reproducible\" randomness. This means that we define a `seed` that our computer will use as a starting place to deterministically (or reproducibily) generate random numbers.\n",
        "* `rng = np.random.default_rng(seed=42)`: In this case, the `seed` is set to `42`, but this could be any integer.\n",
        "\n",
        "If this `seed` is not defined (like in the previous case), then NumPy uses a constantly changing value tied to your computer (i.e., the exact time/date on your computer) to achieve non-reproducibility, also known as non-deterministic.\n",
        "\n",
        "Note that if you are using the same `seed`, you should generate the same random numbers no matter which computer you are running on. This can be extremely useful if you are trying to compare results or debug your code."
      ],
      "metadata": {
        "id": "Y9gYtWLVurbt"
      }
    },
    {
      "cell_type": "code",
      "source": [
        "# Run this cell multiple times to see the difference between non-deterministic randomness\n",
        "# and deterministic (or reproducible) randomness.\n",
        "\n",
        "# Non-Deterministic Randomness\n",
        "rng_rand = np.random.default_rng()\n",
        "data_rand = rng_rand.uniform(0,1,10)\n",
        "\n",
        "# Reproducible Randomness\n",
        "rng_seed = np.random.default_rng(seed=42)\n",
        "data_seed = rng_seed.uniform(0,1,10)\n",
        "\n",
        "# Create Side-By-Side Histograms\n",
        "fig, axes = plt.subplots(1, 2, figsize=(8, 4), sharey=True)\n",
        "# Non-deterministic histogram\n",
        "axes[0].hist(data_rand, bins=10, edgecolor='black')\n",
        "axes[0].set_title('Non-Deterministic')\n",
        "axes[0].set_xlabel('Value')\n",
        "axes[0].set_ylabel('Frequency')\n",
        "# Reproducible histogram\n",
        "axes[1].hist(data_seed, bins=10, edgecolor='black')\n",
        "axes[1].set_title('Reproducible (Seed=42)')\n",
        "axes[1].set_xlabel('Value')\n",
        "\n",
        "plt.suptitle('Comparison of Uniform[0, 1] Random Numbers')\n",
        "plt.tight_layout()\n",
        "plt.show()\n",
        "\n",
        "# The plot on the left should change each time, whereas the plot on the right should remain unchanged."
      ],
      "metadata": {
        "id": "zuuFkD-ro7cA"
      },
      "execution_count": null,
      "outputs": []
    },
    {
      "cell_type": "markdown",
      "source": [
        "### Normal Distriubtions"
      ],
      "metadata": {
        "id": "pf_H2VA5w3Lg"
      }
    },
    {
      "cell_type": "markdown",
      "source": [
        "Another common distribution is is the **Normal Distribution** (also known as a Gaussian Distribution). Once you have defined your `rng` object, you can generate an array that is shaped like a normal distribution by doing the following:\n",
        "* `norm_array = rng_norm.normal(mean,std,n)`: This shapes `rng` into a normal distribution around the average value `mean` with a spread according to the standard deviation `std` with `n` number of values in the array containing the randomly generated numbers (`norm_array`)."
      ],
      "metadata": {
        "id": "1AeHoQNTw8fc"
      }
    },
    {
      "cell_type": "code",
      "source": [
        "# Normal Distribution\n",
        "rng_norm = np.random.default_rng(seed=25)\n",
        "norm_array = rng_norm.normal(0,1,500)\n",
        "\n",
        "# Plot Histogram\n",
        "plt.hist(norm_array, bins=10, edgecolor='black')\n",
        "plt.title('Normal Distribution')\n",
        "plt.xlabel('Value')\n",
        "plt.ylabel('Frequency')"
      ],
      "metadata": {
        "id": "OS35sqQ4yQKE"
      },
      "execution_count": null,
      "outputs": []
    },
    {
      "cell_type": "markdown",
      "source": [
        "We actually encounter Normal Distributions fairly often (hence the name \"Normal\"). If you are looking to interpret a normal distributions, it's helpuful to know the **68-95-99.7 Rule**:\n",
        "* 68% of all data falls within $\\pm 1$ standard deviation of the mean.\n",
        "* 95% of all data falls within $\\pm 2$ standard deviation of the mean.\n",
        "* 99.7% of all data falls within $\\pm 3$ standard deviation of the mean.\n",
        "\n",
        "Although we can cacluate the mean or standard deviation of any distribution, the 68-95-99.7 Rule only applies to Normal Distributions."
      ],
      "metadata": {
        "id": "eEBU7FaLyQfM"
      }
    },
    {
      "cell_type": "markdown",
      "source": [
        "### 🫵 Give it a try!\n",
        "\n",
        "You administered an exam to a class of 100 students. The average grade on this exam was 78.4 / 100 points and the standard deviation was 12.1 points. Create a normal distribution using the random number generator to simulate the grades of the class. Plot your result as a bar plot or histogram."
      ],
      "metadata": {
        "id": "pgDNJAM38eoa"
      }
    },
    {
      "cell_type": "code",
      "source": [],
      "metadata": {
        "id": "u25YFJRM8fAY"
      },
      "execution_count": null,
      "outputs": []
    },
    {
      "cell_type": "markdown",
      "source": [
        "### 👈 If you're stuck, click the 🔽 button on the left for hints."
      ],
      "metadata": {
        "id": "zftWiZjv-pdh"
      }
    },
    {
      "cell_type": "markdown",
      "source": [
        "#### 🤔 Hint #1"
      ],
      "metadata": {
        "id": "sHryszMd_TQf"
      }
    },
    {
      "cell_type": "code",
      "source": [
        "# Begin by initializing rng_exam\n",
        "rng_exam = np.random.default_rng(seed=42) # It's up to you if you want to define the seed\n",
        "                                          # or let your solution be non-deterministic."
      ],
      "metadata": {
        "id": "O82ELx5d_U9X"
      },
      "execution_count": null,
      "outputs": []
    },
    {
      "cell_type": "markdown",
      "source": [
        "#### 😅 Hint #2"
      ],
      "metadata": {
        "id": "pHbA-pM-_VVY"
      }
    },
    {
      "cell_type": "code",
      "source": [
        "# Use the information in the problem to create exam_array\n",
        "\n",
        "# Define parameters\n",
        "mean = 78.4\n",
        "std = 12.1\n",
        "n_students = 100\n",
        "\n",
        "# Remember we want a normal distribution\n",
        "exam_array = rng_exam.normal(mean,std,n_students)"
      ],
      "metadata": {
        "id": "oaTBJS3b_Ysc"
      },
      "execution_count": null,
      "outputs": []
    },
    {
      "cell_type": "markdown",
      "source": [
        "#### 🥲 Hint #3"
      ],
      "metadata": {
        "id": "Ri9HRkZC_ZEV"
      }
    },
    {
      "cell_type": "code",
      "source": [
        "# Plot the Results (Bar Plot so that we can define grades)\n",
        "\n",
        "# Define bins (cutoffs for F, D, C, B, A)\n",
        "bins = [0, 60, 70, 80, 90, 100]\n",
        "labels = ['F', 'D', 'C', 'B', 'A']\n",
        "\n",
        "# Get histogram counts\n",
        "counts, bin_edges = np.histogram(exam_array, bins=bins)\n",
        "\n",
        "# Plot the histogram\n",
        "plt.bar(labels, counts)\n",
        "plt.title('Class Grade Distribution')\n",
        "plt.xlabel('Letter Grade')\n",
        "plt.ylabel('Number of Students')\n",
        "plt.show()"
      ],
      "metadata": {
        "id": "eqN4tm5M_dZ9"
      },
      "execution_count": null,
      "outputs": []
    },
    {
      "cell_type": "markdown",
      "source": [
        "#### 🥳 Check your solution!"
      ],
      "metadata": {
        "id": "ELU_K_hn--1y"
      }
    },
    {
      "cell_type": "code",
      "source": [
        "# Initializing rng_exam\n",
        "rng_exam = np.random.default_rng(seed=42) # It's up to you if you want to define the seed\n",
        "                                          # or let your solution be non-deterministic.\n",
        "\n",
        "# Define Parameters\n",
        "mean = 78.4\n",
        "std = 12.1\n",
        "n_students = 100\n",
        "\n",
        "# Define Normal Distribution\n",
        "exam_array = rng_exam.normal(mean,std,n_students)\n",
        "\n",
        "# Define bins (cutoffs for F, D, C, B, A)\n",
        "bins = [0, 60, 70, 80, 90, 100]\n",
        "labels = ['F', 'D', 'C', 'B', 'A']\n",
        "\n",
        "# Get histogram counts\n",
        "counts, bin_edges = np.histogram(exam_array, bins=bins)\n",
        "\n",
        "# Plot the histogram\n",
        "plt.bar(labels, counts)\n",
        "plt.title('Class Grade Distribution')\n",
        "plt.xlabel('Letter Grade')\n",
        "plt.ylabel('Number of Students')\n",
        "plt.show()"
      ],
      "metadata": {
        "id": "_EcoVxu3_ilb"
      },
      "execution_count": null,
      "outputs": []
    },
    {
      "cell_type": "markdown",
      "source": [
        "### 💪 Extra Practice: Daily Water Consumption\n",
        "\n",
        "A group of 100 households was surveyed to measure daily water consumption per household. The average daily water consumption was 250 liters, with a standard deviation of 40 liters. Simulate this data using a normal distribution and plot it to visualize how household water usage is distributed."
      ],
      "metadata": {
        "id": "YUfq9oYWhfhZ"
      }
    },
    {
      "cell_type": "code",
      "source": [],
      "metadata": {
        "id": "oOOAkPZKiTPr"
      },
      "execution_count": null,
      "outputs": []
    },
    {
      "cell_type": "markdown",
      "source": [
        "### Other Distributions"
      ],
      "metadata": {
        "id": "LfpxJ92Ow5zF"
      }
    },
    {
      "cell_type": "markdown",
      "source": [
        "In addition to uniform and normal distributions, there are a variety of other distributions we can create once we define `rng`:\n",
        "* `int_array = rng_int.integers(lower,upper,n)`: Creates a uniform distribution, but with only integers.\n",
        "* `lognorm_array = rng_lognorm.lognormal(mean,std,n)`: Creates a lognormal distribution.\n",
        "* `exp_array = rng_exp.exponential(scale,n)`: Creates an exponential distribution where `scale` is the inverse of the exponential coefficeint that has units of events per unit time.\n",
        "* `bn_array = rng_bn.binomial(n_sim,p,n)`: Creates a binomial distribution (e.g., probability of getting heads when flipping a coin), where `n_sim` is the number of times the coin is flipped per simulation, `p` is the probability of getting heads, and `n` is the number of simulations run.\n",
        "* `mn_array = rng_mn.multinomial(n,pvals,size)`: Creates a multinomial distribution (e.g., probability of rolling a die), where `n_sim` is the number of times the die is rolled per simulation, `pvals` is the probability of rolling each side of the die, and `n` is the number of simulations run."
      ],
      "metadata": {
        "id": "3mTLp0FJ1dbm"
      }
    },
    {
      "cell_type": "code",
      "source": [
        "# Set up common parameters\n",
        "seed = 25\n",
        "n = 500  # Number of samples or simulations\n",
        "\n",
        "# Create RNGs\n",
        "rng_lognorm = np.random.default_rng(seed)\n",
        "rng_exp = np.random.default_rng(seed)\n",
        "rng_bn = np.random.default_rng(seed)\n",
        "rng_mn = np.random.default_rng(seed)\n",
        "\n",
        "# ----- Lognormal Distribution -----\n",
        "mean = 0     # Mean of the underlying normal distribution\n",
        "std = 0.5    # Standard deviation of the underlying normal distribution\n",
        "lognorm_array = rng_lognorm.lognormal(mean, std, n)\n",
        "\n",
        "# ----- Exponential Distribution -----\n",
        "scale = 1.0  # Scale = 1 / lambda (e.g., average time between events)\n",
        "exp_array = rng_exp.exponential(scale, n)\n",
        "\n",
        "# ----- Binomial Distribution -----\n",
        "n_sim = 10   # Number of coin flips per simulation\n",
        "p = 0.5      # Probability of heads\n",
        "bn_array = rng_bn.binomial(n_sim, p, n)\n",
        "\n",
        "# ----- Multinomial Distribution -----\n",
        "die_faces = 6\n",
        "pvals = [1/die_faces] * die_faces  # Fair 6-sided die\n",
        "n_rolls = 10                       # Number of dice rolls per simulation\n",
        "mn_array = rng_mn.multinomial(n_rolls, pvals, n)  # Shape: (n, 6)\n",
        "mn_totals = mn_array.sum(axis=0)  # Sum counts for each face across all simulations\n",
        "\n",
        "# Plot side-by-side histograms\n",
        "fig, axes = plt.subplots(2, 2, figsize=(12, 8))\n",
        "\n",
        "# Lognormal\n",
        "axes[0, 0].hist(lognorm_array, bins=10, edgecolor='black')\n",
        "axes[0, 0].set_title('Lognormal Distribution')\n",
        "axes[0, 0].set_xlabel('Value')\n",
        "axes[0, 0].set_ylabel('Frequency')\n",
        "\n",
        "# Exponential\n",
        "axes[0, 1].hist(exp_array, bins=10, edgecolor='black')\n",
        "axes[0, 1].set_title('Exponential Distribution')\n",
        "axes[0, 1].set_xlabel('Time Between Events')\n",
        "\n",
        "# Binomial\n",
        "axes[1, 0].hist(bn_array, bins=np.arange(n_sim + 2) - 0.5, edgecolor='black')\n",
        "axes[1, 0].set_title('Binomial Distribution')\n",
        "axes[1, 0].set_xlabel('Number of Heads in 10 Flips')\n",
        "\n",
        "# Multinomial (sum of face counts across simulations)\n",
        "axes[1, 1].bar(np.arange(1, 7), mn_totals, edgecolor='black')\n",
        "axes[1, 1].set_title('Multinomial Distribution (Die Rolls)')\n",
        "axes[1, 1].set_xlabel('Die Face')\n",
        "axes[1, 1].set_ylabel('Total Counts over 500 Sims')\n",
        "axes[1, 1].set_xticks(np.arange(1, 7))\n",
        "\n",
        "plt.suptitle('Histograms of Different Random Distributions', fontsize=14)\n",
        "plt.tight_layout(rect=[0, 0.03, 1, 0.95])\n",
        "plt.show()"
      ],
      "metadata": {
        "id": "GV9hf6ik6kFv"
      },
      "execution_count": null,
      "outputs": []
    }
  ],
  "metadata": {
    "hide_input": false,
    "kernelspec": {
      "display_name": "Python 3 (ipykernel)",
      "language": "python",
      "name": "python3"
    },
    "language_info": {
      "codemirror_mode": {
        "name": "ipython",
        "version": 3
      },
      "file_extension": ".py",
      "mimetype": "text/x-python",
      "name": "python",
      "nbconvert_exporter": "python",
      "pygments_lexer": "ipython3",
      "version": "3.12.8"
    },
    "latex_envs": {
      "LaTeX_envs_menu_present": true,
      "autoclose": false,
      "autocomplete": true,
      "bibliofile": "biblio.bib",
      "cite_by": "apalike",
      "current_citInitial": 1,
      "eqLabelWithNumbers": true,
      "eqNumInitial": 1,
      "hotkeys": {
        "equation": "Ctrl-E",
        "itemize": "Ctrl-I"
      },
      "labels_anchors": false,
      "latex_user_defs": false,
      "report_style_numbering": false,
      "user_envs_cfg": false
    },
    "toc": {
      "base_numbering": 1,
      "nav_menu": {},
      "number_sections": true,
      "sideBar": true,
      "skip_h1_title": false,
      "title_cell": "Table of Contents",
      "title_sidebar": "Contents",
      "toc_cell": false,
      "toc_position": {},
      "toc_section_display": true,
      "toc_window_display": false
    },
    "varInspector": {
      "cols": {
        "lenName": "40",
        "lenType": 16,
        "lenVar": "100"
      },
      "kernels_config": {
        "python": {
          "delete_cmd_postfix": "",
          "delete_cmd_prefix": "del ",
          "library": "var_list.py",
          "varRefreshCmd": "print(var_dic_list())"
        },
        "r": {
          "delete_cmd_postfix": ") ",
          "delete_cmd_prefix": "rm(",
          "library": "var_list.r",
          "varRefreshCmd": "cat(var_dic_list()) "
        }
      },
      "types_to_exclude": [
        "module",
        "function",
        "builtin_function_or_method",
        "instance",
        "_Feature"
      ],
      "window_display": false
    },
    "colab": {
      "provenance": [],
      "collapsed_sections": [
        "P8Poa0Ia8dLl",
        "XuIELRGC1BFV",
        "bwiz9qfZqWup",
        "2ppAAkYYqcpk",
        "1Ew0b8gsqjB8",
        "h5XGhvXOqmfU",
        "cmo6VgvCqpol",
        "kM1UnsQd8lEo",
        "2MfLCWL5zTD7",
        "xl941jLyzqNV",
        "_0ow8e_gzxT_",
        "67gAijhezzkh",
        "uT92PQd8zrL0",
        "DLWTvcfpCYJp",
        "wKcy_0LUZyls",
        "8BtdtuDiaVCx",
        "zT9rQXjmahR1",
        "gbqjSJTOalzy",
        "5i6yLonAapFD",
        "45rBldV_fze7",
        "4i8c4C2Xf0iq",
        "KmxIIIjMf84x",
        "HnCgBfrSf72k",
        "TFBifmzBgL0w",
        "zftWiZjv-pdh",
        "sHryszMd_TQf",
        "pHbA-pM-_VVY",
        "Ri9HRkZC_ZEV"
      ]
    }
  },
  "nbformat": 4,
  "nbformat_minor": 0
}