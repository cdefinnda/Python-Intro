{
  "cells": [
    {
      "cell_type": "markdown",
      "source": [
        "# 🤷 If-Else Statements"
      ],
      "metadata": {
        "id": "hvCzr09V8J9l"
      }
    },
    {
      "cell_type": "markdown",
      "source": [
        "In Python, **if-else statements** are used to make decisions in your code. They allow you to run certain blocks of code **only if specific conditions are true**. You use `if` to check a condition, `elif` (short for \"else if\") to check additional conditions, and `else` to define what happens when the condition is false. This is a fundamental tool for controlling the flow of a program based on logic."
      ],
      "metadata": {
        "id": "WOASjxlEstTM"
      }
    },
    {
      "cell_type": "markdown",
      "source": [
        "Syntax for an `if-else` statement:"
      ],
      "metadata": {
        "id": "zRi3mpbH0p_d"
      }
    },
    {
      "cell_type": "code",
      "source": [
        "# Basic structure\n",
        "if condition:\n",
        "    # Code block if the condition is True\n",
        "elif second_condition:\n",
        "    # Code block if the previous condition is False and this one is True\n",
        "elif another_condition:\n",
        "    # You can have multiple elif conditions.\n",
        "    # Code block if all previous conditions are False and this one is True\n",
        "else:\n",
        "    # Code block if none of the above conditions are True\n"
      ],
      "metadata": {
        "id": "HAUKmIOS0vrS"
      },
      "execution_count": null,
      "outputs": []
    },
    {
      "cell_type": "markdown",
      "source": [
        "Common Syntax Errors:\n",
        "* Forgetting the colon (`:`) after the if, elif, or else condition.\n",
        "* Not indenting after initiating an if, elif, or else condition.\n",
        "* Mixing tabs and spaces for indentation.\n",
        "* Using `=` (assignment) instead of `==` (comparison)."
      ],
      "metadata": {
        "id": "GPDteJPWxJPS"
      }
    },
    {
      "cell_type": "code",
      "source": [
        "# Basic example of an if-else statement\n",
        "age = 18\n",
        "if age < 18:\n",
        "    print(\"You are still a minor.\")\n",
        "elif age == 18:\n",
        "    print(\"You just became an adult!\")\n",
        "else:\n",
        "    print(\"You are an adult.\")"
      ],
      "metadata": {
        "id": "aRybOmydxoNl"
      },
      "execution_count": null,
      "outputs": []
    },
    {
      "cell_type": "markdown",
      "source": [
        "### Relational Operators"
      ],
      "metadata": {
        "id": "CR6lJFeZ0X62"
      }
    },
    {
      "cell_type": "markdown",
      "source": [
        "To determine whether a condition is met, we can use relational operators as a means of comparison:\n",
        "* Equal to: `==`\n",
        "* Not equal to: `!=`\n",
        "* Greater than: `>`\n",
        "* Less than: `<`\n",
        "* Greater than or equal to: `>=`\n",
        "* Less than or equal to: `<=`"
      ],
      "metadata": {
        "id": "3MZ1BwITxcVv"
      }
    },
    {
      "cell_type": "code",
      "source": [
        "# Example of Using Relational Operators\n",
        "a = 1\n",
        "b = 2\n",
        "\n",
        "# equal to: ==\n",
        "print(a == b)\t\t# Output: False\n",
        "print(a == a)\t\t# Output: True\n",
        "print(b == b)\t\t# Output: True\n",
        "\n",
        "# not equal to: !=\n",
        "print(a != b)\t\t# Output: True\n",
        "print(a != a)\t\t# Output: False\n",
        "print(b != b)\t\t# Output: False\n",
        "\n",
        "# greater than: >, less than: <\n",
        "print(a > b)\t\t# Output: False\n",
        "print(a < b)\t\t# Output: True\n",
        "\n",
        "# greater than or equal: >=, less than or equal: <=\n",
        "print(a >= b) \t# Output: False\n",
        "print(a >= a)\t\t# Output: True\n",
        "print(a <= b)\t\t# Output: True\n",
        "print(a <= a)\t\t# Output: False"
      ],
      "metadata": {
        "id": "zbMBi2xky0xq"
      },
      "execution_count": null,
      "outputs": []
    },
    {
      "cell_type": "markdown",
      "source": [
        "### Logical Operators"
      ],
      "metadata": {
        "id": "Nx0xexMjzeRL"
      }
    },
    {
      "cell_type": "markdown",
      "source": [
        "If analyzing a conditon or comparing multiple conditions, we can use logical operators:\n",
        "* Both conditions must be True: `and`, `&`\n",
        "* At least one condition must be True: `or`, `|`\n",
        "* Inverts the condition: `not`"
      ],
      "metadata": {
        "id": "DykW4fXKzox0"
      }
    },
    {
      "cell_type": "code",
      "source": [
        "# Example of Using Logical Operators\n",
        "a = True\n",
        "b = False\n",
        "\n",
        "# AND Statements - Both must be True\n",
        "print(a and b)\t# Output: False\n",
        "print(a & b)\t\t# Output: False\n",
        "\n",
        "# OR Statements - Either must be True\n",
        "print(a or b)\t\t# Output: True\n",
        "print(a | b)\t\t# Output: True\n",
        "\n",
        "# NOT Statements -\n",
        "print(not a) # Output: False\n",
        "print(not b) # Output: True\n",
        "# ^Technically ~ can indicate NOT, but this for bitwise (binary) operations, not logical operations."
      ],
      "metadata": {
        "id": "U7LtbVgA0dqN"
      },
      "execution_count": null,
      "outputs": []
    },
    {
      "cell_type": "markdown",
      "source": [
        "### 🫵 Give it a try!\n",
        "Create an `if-else` statement that takes a variable called `score` and assigns a final grade:\n",
        "* `A`: 90% - 100%\n",
        "* `B`: 80% - 89.9%\n",
        "* `C`: 70% - 79.9%\n",
        "* `D`: 60% - 69.9%\n",
        "* `F`: < 60%\n",
        "\n",
        "Check your `if-else` statement by printing the resulting grade."
      ],
      "metadata": {
        "id": "gU-iElF1uGZc"
      }
    },
    {
      "cell_type": "markdown",
      "source": [
        "### 👈 If you're stuck, click the 🔽 button on the left for hints."
      ],
      "metadata": {
        "id": "e-wQMks7wh0b"
      }
    },
    {
      "cell_type": "markdown",
      "source": [
        "#### 🤔 Hint #1"
      ],
      "metadata": {
        "id": "uzjoyNhdwsVy"
      }
    },
    {
      "cell_type": "code",
      "source": [
        "# Define a variable for your score\n",
        "score = 87      # This could be any number from 0 to 100.\n",
        "\n",
        "# To initiate your `if-else` statement, use the following format:\n",
        "if score > 90:    # Remember to include the colon (:)\n",
        "  grade = \"A\"     # Remember to indent"
      ],
      "metadata": {
        "id": "xZoZdP5zw3SX"
      },
      "execution_count": null,
      "outputs": []
    },
    {
      "cell_type": "markdown",
      "source": [
        "#### 😅 Hint #2"
      ],
      "metadata": {
        "id": "NbA6tAGkwtTj"
      }
    },
    {
      "cell_type": "code",
      "source": [
        "# To continue the `if-else` statement\n",
        "elif score > 80:  # `elif` is used for additional conditions\n",
        "  grade = \"B\"     # Note that our initial `if` gives us the upper bound of our condition\n",
        "                  # Although you could also do `score > 80 & score < 90` for your second condition"
      ],
      "metadata": {
        "id": "MUv4Gtsxw271"
      },
      "execution_count": null,
      "outputs": []
    },
    {
      "cell_type": "markdown",
      "source": [
        "#### 🥲 Hint #3"
      ],
      "metadata": {
        "id": "8dQXXR4XwwQt"
      }
    },
    {
      "cell_type": "code",
      "source": [
        "# To finish the `if-else` statement\n",
        "else:\n",
        "  grade = \"F\""
      ],
      "metadata": {
        "id": "RpPEPu53w2Hp"
      },
      "execution_count": null,
      "outputs": []
    },
    {
      "cell_type": "markdown",
      "source": [
        "#### 🥳 Check your solution!"
      ],
      "metadata": {
        "id": "9_2IiYktw0zP"
      }
    },
    {
      "cell_type": "code",
      "source": [
        "score = 87\n",
        "\n",
        "if score > 90:\n",
        "  grade = \"A\"\n",
        "elif score > 80:\n",
        "  grade = \"B\"\n",
        "elif score > 70:\n",
        "  grade = \"C\"\n",
        "elif score > 60:\n",
        "  grade = \"D\"\n",
        "else:\n",
        "  grade = \"F\"\n",
        "\n",
        "print(\"Grade:\",grade)"
      ],
      "metadata": {
        "id": "zHA1AnT5w2kI"
      },
      "execution_count": null,
      "outputs": []
    },
    {
      "cell_type": "markdown",
      "source": [
        "### 💪 Extra Practice: Create a Password Checker\n",
        "* Use an `if-else` that checks whether you have the correct password.\n",
        "* Imagine an external user is inputting `pw`.\n",
        "* The `if-else` statement should check if this `pw` is correct by matching it to `pw_verified` (e.g., `pw_verified = P@ssword`)\n",
        "* If the password is correct, print `\"Password is Correct.\"`\n",
        "* If the password is incorrect, print `\"Password is Incorrect.\"`"
      ],
      "metadata": {
        "id": "nM61aV293sRz"
      }
    },
    {
      "cell_type": "code",
      "source": [],
      "metadata": {
        "id": "dcTms0ub3tJl"
      },
      "execution_count": null,
      "outputs": []
    },
    {
      "cell_type": "markdown",
      "source": [
        "### 💪 Extra Practice: Determine whether someone can drive, vote, both, or neither\n",
        "* Use `age` as the `if-else` criteria.\n",
        "* The driving `age` is `16`.\n",
        "* The voting `age` is `18`."
      ],
      "metadata": {
        "id": "5tWGN9Tc1Vzo"
      }
    },
    {
      "cell_type": "code",
      "source": [],
      "metadata": {
        "id": "negnbAfW2v5i"
      },
      "execution_count": null,
      "outputs": []
    },
    {
      "cell_type": "markdown",
      "source": [
        "# 🔃 For Loops"
      ],
      "metadata": {
        "id": "eyBGi3Zw8MZE"
      }
    },
    {
      "cell_type": "markdown",
      "source": [
        "In Python, **loops** allow you to repeat a block of code multiple times without writing it over and over. The most common types are `for` loops, which iterate over items in a sequence (like a list or range), and `while` loops, which keep running as long as a condition is true. Loops are essential for automating repetitive tasks and processing collections of data efficiently."
      ],
      "metadata": {
        "id": "_YxgPOZZ08BI"
      }
    },
    {
      "cell_type": "markdown",
      "source": [
        "A `for` loop is used to iterate over a sequence (like a list, string, or range) — when you know how many times you want to repeat something."
      ],
      "metadata": {
        "id": "l9fRv1vl8HEH"
      }
    },
    {
      "cell_type": "code",
      "source": [
        "# Basic Structure of a For Loop\n",
        "for variable in iterable:\n",
        "    # Code block to execute"
      ],
      "metadata": {
        "id": "WNTOKsG_8Gc0"
      },
      "execution_count": null,
      "outputs": []
    },
    {
      "cell_type": "markdown",
      "source": [
        "* Note that \"variable\" doesn't need to be defined beforehand. In fact, the length (or number of times that the code block will be executed) of \"variable\" is defined by the length of \"iterable\".\n",
        "* Furthermore, \"iterable\" must be a list, array, or range() (can also be a string or dictionary, but less common for this course).\n"
      ],
      "metadata": {
        "id": "FTf24Lya8kSO"
      }
    },
    {
      "cell_type": "code",
      "source": [
        "# Examples of variables and iterables in For Loops\n",
        "\n",
        "# 1. Loop through a list\n",
        "numbers = [1, 2, 3, 4]\n",
        "for num in numbers:\n",
        "    print(num)\n",
        "# Output: 1 2 3 4\n",
        "\n",
        "\n",
        "print('\\n') # Space between outputs\n",
        "\n",
        "\n",
        "# 2. Loop through a range of numbers\n",
        "for i in range(5):\n",
        "    print(i)\n",
        "# Output: 0 1 2 3 4"
      ],
      "metadata": {
        "id": "VPk5OCGzz37U"
      },
      "execution_count": null,
      "outputs": []
    },
    {
      "cell_type": "markdown",
      "source": [
        "**Common Syntax Errors**\n",
        "* Forgetting the colon (:) after defining the for loop conditions. [Syntax Error]\n",
        "* Incorrect indentation after the for loop header. Note that everything within the loop should be indented, code that is not indented is considered to be outside of the loop. [IndentationError]\n",
        "* Using an invalid iterable (e.g., a number) instead of a list, tuple, string, range(), or dictionary. [TypeError]\n",
        "* Forgetting to use the same variable from the for loop header in the for loop. [NameError]\n",
        "* Forgetting to include “in” between the variable and the iterable. [SyntaxError]\n",
        "* Altering the iterable inside the loop. If this is the intention, use an unlinked copy of the list, tuple, string, or dictionary that you want to modify as the iterable.\n",
        "* Using range() incorrectly. Remember that range starts at 0 and stops before the end value.\n"
      ],
      "metadata": {
        "id": "3fDCQcBd9ZgZ"
      }
    },
    {
      "cell_type": "markdown",
      "source": [
        "### 🫵 Give it a try!\n",
        "Create a `for` loop that does element-wise multiplication for two 2x2 matricies. Recall how matrix multiplication works:\n",
        "\n",
        "$$\n",
        "A=\n",
        "\\begin{bmatrix}\n",
        "a_{11} & a_{12}\\\\\n",
        "a_{21} & a_{22}\n",
        "\\end{bmatrix}\n",
        ",\n",
        "\\ B=\n",
        "\\begin{bmatrix}\n",
        "b_{11} & b_{12}\\\\\n",
        "b_{21} & b_{22}\n",
        "\\end{bmatrix}\n",
        "$$\n",
        "\n",
        "\n",
        "$$\n",
        "A \\circ B = \\begin{bmatrix}\n",
        "(a_{11} \\cdot b_{11}) & (a_{12} \\cdot b_{12})\\\\\n",
        "(a_{21} \\cdot b_{21}) & (a_{22} \\cdot b_{22})\n",
        "\\end{bmatrix}\n",
        "$$"
      ],
      "metadata": {
        "id": "ynHt_K7x_fui"
      }
    },
    {
      "cell_type": "code",
      "source": [
        "A = [[1, 2],\n",
        "     [3, 4]]\n",
        "\n",
        "B = [[5, 6],\n",
        "     [7, 8]]\n",
        "\n",
        "# Initialize result matrix with zeros for the solution.\n",
        "C = [[0, 0],\n",
        "     [0, 0]]\n",
        "\n",
        "# Continue code here..."
      ],
      "metadata": {
        "id": "lZbb75_2DJY-"
      },
      "execution_count": null,
      "outputs": []
    },
    {
      "cell_type": "markdown",
      "source": [
        "### 👈 If you're stuck, click the 🔽 button on the left for hints."
      ],
      "metadata": {
        "id": "BXIQVBNRQYGd"
      }
    },
    {
      "cell_type": "markdown",
      "source": [
        "#### 🤔 Hint #1"
      ],
      "metadata": {
        "id": "4s00VmNjDGZc"
      }
    },
    {
      "cell_type": "code",
      "source": [
        "# Setting up for loop:\n",
        "for i in range(2):    # This iterates through the rows\n",
        "                      # `range(2)` allows us to iterate through indicies 0 and 1"
      ],
      "metadata": {
        "id": "xsyErDPaDG7x"
      },
      "execution_count": null,
      "outputs": []
    },
    {
      "cell_type": "markdown",
      "source": [
        "#### 😅 Hint #2"
      ],
      "metadata": {
        "id": "AeJhRcsnDCr4"
      }
    },
    {
      "cell_type": "code",
      "source": [
        "# Setting up nested for loop:\n",
        "for i in range(2):    # This iterates through the rows\n",
        "  for j in range(2):  # This iterates through the columns"
      ],
      "metadata": {
        "id": "889BQ3_8DDXT"
      },
      "execution_count": null,
      "outputs": []
    },
    {
      "cell_type": "markdown",
      "source": [
        "#### 🥲 Hint #3"
      ],
      "metadata": {
        "id": "v91qKdqFC_AI"
      }
    },
    {
      "cell_type": "code",
      "source": [
        "# Setting up for loop:\n",
        "for i in range(2):    # This iterates through the rows\n",
        "  for j in range(2):  # This iterates through the columns\n",
        "    C[i][j] = ...\n",
        "\n",
        "# Once the matrix complete, we can print it:\n",
        "print(C)"
      ],
      "metadata": {
        "id": "qYMliEUhDAAc"
      },
      "execution_count": null,
      "outputs": []
    },
    {
      "cell_type": "markdown",
      "source": [
        "#### 🥳 Check your solution!"
      ],
      "metadata": {
        "id": "bhQ3aXi-C3i9"
      }
    },
    {
      "cell_type": "code",
      "source": [
        "# Matricies for Element-Wise Multiplication\n",
        "A = [[1, 2],\n",
        "     [3, 4]]\n",
        "\n",
        "B = [[5, 6],\n",
        "     [7, 8]]\n",
        "\n",
        "# Initialize result matrix with zeros\n",
        "C = [[0, 0],\n",
        "     [0, 0]]\n",
        "\n",
        "# For Loops for Element-Wise Multiplication\n",
        "for i in range(2):\n",
        "    for j in range(2):\n",
        "        C[i][j] = A[i][j] * B[i][j]\n",
        "\n",
        "# Print Resulting Matrix\n",
        "print(C)"
      ],
      "metadata": {
        "id": "LqLjvk_b_ie2"
      },
      "execution_count": null,
      "outputs": []
    },
    {
      "cell_type": "markdown",
      "source": [
        "### 💪 Extra Practice: Personalized Greetings\n",
        "Write a personalized greeting to each person in the list of `names`. Each name listed should get their own greeting (i.e., \"Hello [name]! Nice to meet you!\"). Using the `for` loop will allow you to iterate through each name."
      ],
      "metadata": {
        "id": "3S7qESO851Ia"
      }
    },
    {
      "cell_type": "code",
      "source": [
        "names = [\"Alice\", \"Ben\", \"Carla\"]\n",
        "\n",
        "# Continue code here..."
      ],
      "metadata": {
        "id": "ExUdJ4V37jri"
      },
      "execution_count": null,
      "outputs": []
    },
    {
      "cell_type": "markdown",
      "source": [
        "### 💪 Extra Practice: Grading Students (P/NP)"
      ],
      "metadata": {
        "id": "f4Gf4j-a9oMX"
      }
    },
    {
      "cell_type": "code",
      "source": [
        "scores = [65, 71, 93, 83, 46, 95, 100, 61, 85, 77]\n",
        "\n",
        "# Continue code here..."
      ],
      "metadata": {
        "id": "-8o3Isp69zAz"
      },
      "execution_count": null,
      "outputs": []
    },
    {
      "cell_type": "markdown",
      "source": [
        "# 🌀 While Loops"
      ],
      "metadata": {
        "id": "q3_U1gFpz4KZ"
      }
    },
    {
      "cell_type": "markdown",
      "source": [
        "A `while` loop keeps running as long as a condition is True — use it when you don't know in advance how many times it should repeat."
      ],
      "metadata": {
        "id": "dXRdCL_R-CnF"
      }
    },
    {
      "cell_type": "code",
      "source": [
        "# Basic Structure of a While Loop\n",
        "while condition:\n",
        "    # Code block to execute\n",
        "    # Flag is updated to see if original condition still holds"
      ],
      "metadata": {
        "id": "gv6BUV7Iz6Uy"
      },
      "execution_count": null,
      "outputs": []
    },
    {
      "cell_type": "markdown",
      "source": [
        "* Unlike `for` loops, `while` loops will continue to run until a specific condition becomes False. Think about while loops running as long as the condition is True, and then stopping as soon as the condition becomes False.\n",
        "* As a result a \"flag\" or \"loop control variable\" is often modified within the while loop until it causes the while loop condition to become False.\n"
      ],
      "metadata": {
        "id": "K2NVO-wqGo0K"
      }
    },
    {
      "cell_type": "code",
      "source": [
        "# Example of a While Loop\n",
        "count = 0\n",
        "while count < 5:  # Loop until the condition is False\n",
        "    print(count)\n",
        "    count += 1    # The symbol \"+=\" redefines count to increase by +1.\n",
        "# Output: 0 1 2 3 4"
      ],
      "metadata": {
        "id": "G9HPs5IKHLp0"
      },
      "execution_count": null,
      "outputs": []
    },
    {
      "cell_type": "markdown",
      "source": [
        "**Common Syntax Errors**\n",
        "* Forgetting the colon (:) after defining the while loop conditions. [Syntax Error]\n",
        "* Incorrect indentation after the while loop header. Note that everything within the loop should be indented, code that is not indented is considered to be outside of the loop. [IndentationError]\n",
        "* Creating an infinite loop where the while loop condition never becomes False, either due to a logical error or forgetting to update the loop control.\n",
        "* Using assignment (=) instead of comparison (==) for the while loop condition. [SyntaxError]\n",
        "* Unlike for loops, the variable used as the flag in the while loop condition must be “initialized” (defined) prior to the while loop. [NameError]\n",
        "* Forgetting to update the flag—as mentioned previously—will cause an infinite loop.\n"
      ],
      "metadata": {
        "id": "rCWYEQDNHjbT"
      }
    },
    {
      "cell_type": "markdown",
      "source": [
        "**Breaking an Infinite Loop**\n",
        "\n",
        "When used with `if-else` statements, the `break` command can be used to prevent a loop that iterates endlessly."
      ],
      "metadata": {
        "id": "3tPiderIHvyd"
      }
    },
    {
      "cell_type": "code",
      "source": [
        "# Example of Breaking an infinite loop\n",
        "count = 0\n",
        "while count >= 0: # Under these conditions, this would always be true.\n",
        "    print(count)\n",
        "    count += 10\n",
        "    if count > 50: # This breaks the loop before count gets too big (> 50).\n",
        "        break\n",
        "# Output: 0 10 20 30 40 50"
      ],
      "metadata": {
        "id": "11HoVvxtIQTY"
      },
      "execution_count": null,
      "outputs": []
    },
    {
      "cell_type": "markdown",
      "source": [
        "**Nested Loops**\n",
        "\n",
        "Nested loops are just loops inside other loops. Both `for` and `while` loops can be nested within themselves or each other."
      ],
      "metadata": {
        "id": "LEbrWWdlSaKg"
      }
    },
    {
      "cell_type": "code",
      "source": [
        "# Example of a nested For Loop\n",
        "import numpy as np\n",
        "\n",
        "# Define original matrix\n",
        "M = np.array([[1, 2, 3],\n",
        "              [4, 5, 6],\n",
        "              [7, 8, 9]])\n",
        "\n",
        "# Print the original matrix\n",
        "print(\"Original Matrix M:\")\n",
        "print(M)\n",
        "\n",
        "# Create an empty matrix to store the results\n",
        "M_2 = np.zeros_like(M)  # np.zeros_like(M) creates a zeros matrix that is the\n",
        "                        # same shape as M. Alternatively, we could have used:\n",
        "                        # np.zeros(shape(M))\n",
        "\n",
        "# Loop through each element (by column in each row)\n",
        "for row in range(M.shape[0]):\n",
        "    for col in range(M.shape[1]):\n",
        "        M_2[row, col] = M[row, col] * 2 # Multiply element by 2 and store in M_2\n",
        "\n",
        "# Print the result\n",
        "print(\"\\nNew Matrix (Each element multiplied by 2):\")\n",
        "print(M_2)"
      ],
      "metadata": {
        "id": "qhg0T-Y9TjGD"
      },
      "execution_count": null,
      "outputs": []
    },
    {
      "cell_type": "markdown",
      "source": [
        "### 🫵 Give it a try!\n",
        "\n",
        "Create a countdown that counts down from any starting number `start` and counts down by `1` until the `counter` reaches `0`, at which point it says \"`Lift off!`\"."
      ],
      "metadata": {
        "id": "B5TpRgk6Q9Yl"
      }
    },
    {
      "cell_type": "code",
      "source": [],
      "metadata": {
        "id": "1KSbJg7yRFSK"
      },
      "execution_count": null,
      "outputs": []
    },
    {
      "cell_type": "markdown",
      "source": [
        "### 👈 If you're stuck, click the 🔽 button on the left for hints."
      ],
      "metadata": {
        "id": "1TBEBT6aRAxR"
      }
    },
    {
      "cell_type": "markdown",
      "source": [
        "#### 🤔 Hint #1"
      ],
      "metadata": {
        "id": "OeKxoye3aXUs"
      }
    },
    {
      "cell_type": "code",
      "source": [
        "# To get started, we'll need to define `start` and `counter`.\n",
        "start = 5  # You can set this to any starting number\n",
        "counter = start"
      ],
      "metadata": {
        "id": "cCPeKfLBaXB-"
      },
      "execution_count": null,
      "outputs": []
    },
    {
      "cell_type": "markdown",
      "source": [
        "#### 😅 Hint #2"
      ],
      "metadata": {
        "id": "S7LxmMI_aT96"
      }
    },
    {
      "cell_type": "code",
      "source": [
        "# Remember the format of a while loop\n",
        "while counter > 0:\n",
        "    print(counter)"
      ],
      "metadata": {
        "id": "WmSZ7qkoaTxK"
      },
      "execution_count": null,
      "outputs": []
    },
    {
      "cell_type": "markdown",
      "source": [
        "#### 🥲 Hint #3"
      ],
      "metadata": {
        "id": "VryKkxMQaPrB"
      }
    },
    {
      "cell_type": "code",
      "source": [
        "# In order for the while loop to work, we need to adjust the counter\n",
        "while counter > 0:\n",
        "    print(counter)\n",
        "    counter -= 1"
      ],
      "metadata": {
        "id": "Ncbw9x8GaPa1"
      },
      "execution_count": null,
      "outputs": []
    },
    {
      "cell_type": "markdown",
      "source": [
        "#### 🥳 Check your solution!"
      ],
      "metadata": {
        "id": "dkWeKiubaJxS"
      }
    },
    {
      "cell_type": "code",
      "source": [
        "start = 5  # You can set this to any starting number\n",
        "counter = start\n",
        "\n",
        "while counter > 0:\n",
        "    print(counter)\n",
        "    counter -= 1\n",
        "\n",
        "print(\"Lift off!\")"
      ],
      "metadata": {
        "id": "HzMOieB3aI6R"
      },
      "execution_count": null,
      "outputs": []
    },
    {
      "cell_type": "markdown",
      "source": [
        "### 💪 Extra Practice: Double a number until it exceeds a threshold\n",
        "\n",
        "Create a `while` loop to double an initial `number` until it reaches a threshold of `100`."
      ],
      "metadata": {
        "id": "9wiCuJB9bCUi"
      }
    },
    {
      "cell_type": "code",
      "source": [],
      "metadata": {
        "id": "fSCOCRQDbp1h"
      },
      "execution_count": null,
      "outputs": []
    },
    {
      "cell_type": "markdown",
      "source": [
        "### 💪 Extra Practice: Saving up for a Car\n",
        "\n",
        "You want to purchase a car that costs \\$2500 and you currently have \\$1200 saved up. Each month you spend \\$200 on food/rent, but you make \\$600 in income. Use a `while` loop to determine how many months until you have saved enough money."
      ],
      "metadata": {
        "id": "Qc-8S0VBbtqp"
      }
    },
    {
      "cell_type": "code",
      "source": [],
      "metadata": {
        "id": "e6DFAfnjbut5"
      },
      "execution_count": null,
      "outputs": []
    },
    {
      "cell_type": "markdown",
      "source": [
        "# 🛠️ Defining Your Own Functions"
      ],
      "metadata": {
        "id": "URnqkQme8OwS"
      }
    },
    {
      "cell_type": "markdown",
      "source": [
        "A function in Python is a reusable block of code that performs a specific task. Python and other libraries have their own pre-built functions (e.g., `print()`, `np.array()`), but you can define your own functions and call it whenever you need it (even if your inputs change)."
      ],
      "metadata": {
        "id": "qjhmEYRgiqFD"
      }
    },
    {
      "cell_type": "code",
      "source": [
        "# Basic Structure for a Function\n",
        "def function_name(parameters):\n",
        "    # Code block\n",
        "    return value  # Optional"
      ],
      "metadata": {
        "id": "CVGwj63kjmrt"
      },
      "execution_count": null,
      "outputs": []
    },
    {
      "cell_type": "markdown",
      "source": [
        "Functions are defined using the `def` keyword, followed by the function's name (must a continuous), parameters in parentheses (multiple inputs must be separated by commas), and a colon (`:`) to signify that the following indented code is part of the function.\n",
        "\n",
        "If you want your function to output anything from running the function, you'll need to specify the out with `return`"
      ],
      "metadata": {
        "id": "kNkHPLKJjmTu"
      }
    },
    {
      "cell_type": "code",
      "source": [
        "%reset -f\n",
        "\n",
        "# Example Function: Double a Number\n",
        "def double(a):\n",
        "    b = 2\n",
        "    return a*b"
      ],
      "metadata": {
        "id": "qEMwWiiMkY3u"
      },
      "execution_count": null,
      "outputs": []
    },
    {
      "cell_type": "code",
      "source": [
        "# Using double() function defined previously\n",
        "a = 3\n",
        "b = 10\n",
        "a2 = double(a)\n",
        "\n",
        "print(a2)\n",
        "print(b)"
      ],
      "metadata": {
        "id": "NQ6Ia1QxljnM"
      },
      "execution_count": null,
      "outputs": []
    },
    {
      "cell_type": "markdown",
      "source": [
        "The above function touches on a concept know \"Scope\". As we can see in the top code cell, we define `b=2` within the function. This variable has \"Local Scope\" meaning that b=2 only within the function. Meanwhile, in the bottom code cell, we define `b=10` outside the function. This variable has \"Global Scope\" meaning that this variable is saved and can be accessed in the global workspace (e.g., outside of functions). This is why our function `double()` still works as intended, even though we have defined `b=10` in the global workspace."
      ],
      "metadata": {
        "id": "Kk_YCNknllr-"
      }
    },
    {
      "cell_type": "code",
      "source": [
        "%reset -f\n",
        "\n",
        "def double(a):\n",
        "    b = 2\n",
        "    return a*b\n",
        "\n",
        "a = 3\n",
        "# Intentionally not defining b = 10\n",
        "a2 = double(a)\n",
        "\n",
        "print(a2)\n",
        "print(b)"
      ],
      "metadata": {
        "id": "tSlGn7hwnMSv"
      },
      "execution_count": null,
      "outputs": []
    },
    {
      "cell_type": "markdown",
      "source": [
        "Furthermore, if we were to clear all variables, re-define our `double()` function, and try to `print(b)` we get a \"NameError\" because `b` is only defined locally within the function and cannot be accessed in the global workspace."
      ],
      "metadata": {
        "id": "TU-DHQOekf_A"
      }
    },
    {
      "cell_type": "markdown",
      "source": [
        "**Catching Edge Cases**\n",
        "\n",
        "The `assert` command is oftentimes used for debugging, but can be used to catch certain cases that may cause your function to execute in a way that it isn't intended."
      ],
      "metadata": {
        "id": "DxkHpX2irQzc"
      }
    },
    {
      "cell_type": "code",
      "source": [
        "# Example function with assert\n",
        "\n",
        "def divide(a, b):\n",
        "    assert b != 0, \"Denominator must not be zero\"\n",
        "    return a / b"
      ],
      "metadata": {
        "id": "WTNgGogotQHX"
      },
      "execution_count": null,
      "outputs": []
    },
    {
      "cell_type": "markdown",
      "source": [
        "As seen above, the syntax for using `assert` involves:\n",
        "* The `assert` command followed by a condition.\n",
        "* A string (`\"\"`) describing the error that would occur that will be outputted with `AssertionError`.\n",
        "* A comma (`,`) is used to separate the condition and the `AssertionError` text."
      ],
      "metadata": {
        "id": "quQrF9vKtjEJ"
      }
    },
    {
      "cell_type": "code",
      "source": [
        "print(divide(10, 2))  # OK"
      ],
      "metadata": {
        "id": "piDaBV3Ttbl2"
      },
      "execution_count": null,
      "outputs": []
    },
    {
      "cell_type": "code",
      "source": [
        "print(divide(10, 0))  # Raises AssertionError"
      ],
      "metadata": {
        "id": "YAjJh84MtcmK"
      },
      "execution_count": null,
      "outputs": []
    },
    {
      "cell_type": "markdown",
      "source": [
        "It should be reiterated that `assert` is typically used for debugging purposes. If you are preparing packaged functions, it is more common to use `raise` is used in combination with `try` and `except` for full error handling."
      ],
      "metadata": {
        "id": "p-PnBkNOp8Wf"
      }
    },
    {
      "cell_type": "markdown",
      "source": [
        "There are many other nuances to writing functions in Python. For more comprehensive guides see [Python Functions (GeeksforGeeks)](https://www.geeksforgeeks.org/python-functions/) and [Python Exception Handling (GeeksforGeeks)](https://www.geeksforgeeks.org/python-exception-handling/)."
      ],
      "metadata": {
        "id": "_xn98P9hrCxh"
      }
    },
    {
      "cell_type": "markdown",
      "source": [
        "### 🫵 Give it a try!\n",
        "\n",
        "The factorial of a number $n!$ is defined as the product of all the positive numbers from $1$ to $n$:\n",
        "$$n! = n(n-1)(n-2)...(2)(1)$$\n",
        "\n",
        "Write a function to calculate the factorial of input $n$, and apply it for the case $n=5$."
      ],
      "metadata": {
        "id": "rxKN_khlnuch"
      }
    },
    {
      "cell_type": "code",
      "source": [],
      "metadata": {
        "id": "jjlZC87AdjCA"
      },
      "execution_count": null,
      "outputs": []
    },
    {
      "cell_type": "markdown",
      "source": [
        "### 👈 If you're stuck, click the 🔽 button on the left for hints."
      ],
      "metadata": {
        "id": "POAZzSBjn-oM"
      }
    },
    {
      "cell_type": "markdown",
      "source": [
        "#### 🤔 Hint #1"
      ],
      "metadata": {
        "id": "FxFR1elao2Tv"
      }
    },
    {
      "cell_type": "markdown",
      "source": [
        "Remember the structure of a the function."
      ],
      "metadata": {
        "id": "Cjhm3gbmwpnU"
      }
    },
    {
      "cell_type": "code",
      "source": [
        "def factorial(n):           # n is our input argument\n",
        "    # [Insert code here.]\n",
        "    return f                # f is our output"
      ],
      "metadata": {
        "id": "FntofTj5wuK3"
      },
      "execution_count": null,
      "outputs": []
    },
    {
      "cell_type": "markdown",
      "source": [
        "#### 😅 Hint #2"
      ],
      "metadata": {
        "id": "euNbuCXrpf9H"
      }
    },
    {
      "cell_type": "markdown",
      "source": [
        "Remember how we take a factorial:\n",
        "1. We start with a number ($n$).\n",
        "2. We subtract 1 ($n-1$) and multiply this by our original number.\n",
        "3. We $x$ number of times repeat this until $n-x=1$.\n",
        "\n",
        "Based on the above operation, this seems well-suited for a `while` loop."
      ],
      "metadata": {
        "id": "1AuifBinyMX3"
      }
    },
    {
      "cell_type": "code",
      "source": [
        "def factorial(n):\n",
        "    f = n\n",
        "    while n-1 > 0:\n",
        "      f = f * (n-1)\n",
        "      n = n-1\n",
        "    return f"
      ],
      "metadata": {
        "id": "Vx_ih76O2LY8"
      },
      "execution_count": null,
      "outputs": []
    },
    {
      "cell_type": "markdown",
      "source": [
        "#### 🥲 Hint #3"
      ],
      "metadata": {
        "id": "o8g3s11Lpin1"
      }
    },
    {
      "cell_type": "markdown",
      "source": [
        "Don't forget to handle inputs that would cause our function to breakdown:\n",
        "1. Input must be positive.\n",
        "2. Input must be an integer.\n",
        "3. If the input is $0$, we need an exception for $0! = 1$\n",
        "\n",
        "To handle these cases, we can use the `assert` command within our function to handling these cases."
      ],
      "metadata": {
        "id": "ze-vfQIKwaPW"
      }
    },
    {
      "cell_type": "code",
      "source": [
        "assert input >= 0, 'Error: n must be positive'\n",
        "\n",
        "assert type(input) == int, 'Error: n must be an integer'\n",
        "\n",
        "if f == 0:       # Catches the case where n = 0 so that 0! = 1\n",
        "  f=1"
      ],
      "metadata": {
        "id": "GY9nioPaxh-1"
      },
      "execution_count": null,
      "outputs": []
    },
    {
      "cell_type": "markdown",
      "source": [
        "#### 🥳 Check your solution!"
      ],
      "metadata": {
        "id": "4zVKT-Whot2Z"
      }
    },
    {
      "cell_type": "code",
      "execution_count": null,
      "metadata": {
        "id": "tPCYQKL9NXwU"
      },
      "outputs": [],
      "source": [
        "def factorial(n):\n",
        "\n",
        "    # input error checking: must be a positive integer\n",
        "    # syntax is \"assert (condition), (message if false)\"\n",
        "    assert n >= 0, 'Error: n must be positive'\n",
        "    assert type(n) == int, 'Error: n must be an integer'\n",
        "\n",
        "    f = n\n",
        "    while n-1 > 0:\n",
        "      f = f * (n-1)\n",
        "      n = n-1\n",
        "\n",
        "    if f == 0:       # Catches the case where n = 0 so that 0! = 1\n",
        "      f=1\n",
        "\n",
        "    return f"
      ]
    },
    {
      "cell_type": "code",
      "execution_count": null,
      "metadata": {
        "id": "lNqdCBQaNXwU"
      },
      "outputs": [],
      "source": [
        "print('5! = ', factorial(5))"
      ]
    },
    {
      "cell_type": "markdown",
      "source": [
        "### 💪 Extra Practice: Check Whether a Number is Odd\n",
        "Create a function that checks whether a `number` is odd."
      ],
      "metadata": {
        "id": "YLzb9Qife9v7"
      }
    },
    {
      "cell_type": "code",
      "source": [],
      "metadata": {
        "id": "6CoAd0SVe_DR"
      },
      "execution_count": null,
      "outputs": []
    },
    {
      "cell_type": "markdown",
      "source": [
        "### 💪 Extra Practice: Calculate the Area of a Circle\n",
        "Create a function that calculates the area of a circle with radius `r`. Recall that the area of a circle is:\n",
        "$$A_{circle} = \\pi r^2$$"
      ],
      "metadata": {
        "id": "HvxdkmDsfDWs"
      }
    },
    {
      "cell_type": "code",
      "source": [],
      "metadata": {
        "id": "yFHFauBmgfJR"
      },
      "execution_count": null,
      "outputs": []
    }
  ],
  "metadata": {
    "hide_input": false,
    "kernelspec": {
      "display_name": "Python 3 (ipykernel)",
      "language": "python",
      "name": "python3"
    },
    "language_info": {
      "codemirror_mode": {
        "name": "ipython",
        "version": 3
      },
      "file_extension": ".py",
      "mimetype": "text/x-python",
      "name": "python",
      "nbconvert_exporter": "python",
      "pygments_lexer": "ipython3",
      "version": "3.12.8"
    },
    "latex_envs": {
      "LaTeX_envs_menu_present": true,
      "autoclose": false,
      "autocomplete": true,
      "bibliofile": "biblio.bib",
      "cite_by": "apalike",
      "current_citInitial": 1,
      "eqLabelWithNumbers": true,
      "eqNumInitial": 1,
      "hotkeys": {
        "equation": "Ctrl-E",
        "itemize": "Ctrl-I"
      },
      "labels_anchors": false,
      "latex_user_defs": false,
      "report_style_numbering": false,
      "user_envs_cfg": false
    },
    "toc": {
      "base_numbering": 1,
      "nav_menu": {},
      "number_sections": true,
      "sideBar": true,
      "skip_h1_title": false,
      "title_cell": "Table of Contents",
      "title_sidebar": "Contents",
      "toc_cell": false,
      "toc_position": {},
      "toc_section_display": true,
      "toc_window_display": false
    },
    "varInspector": {
      "cols": {
        "lenName": "40",
        "lenType": 16,
        "lenVar": "100"
      },
      "kernels_config": {
        "python": {
          "delete_cmd_postfix": "",
          "delete_cmd_prefix": "del ",
          "library": "var_list.py",
          "varRefreshCmd": "print(var_dic_list())"
        },
        "r": {
          "delete_cmd_postfix": ") ",
          "delete_cmd_prefix": "rm(",
          "library": "var_list.r",
          "varRefreshCmd": "cat(var_dic_list()) "
        }
      },
      "types_to_exclude": [
        "module",
        "function",
        "builtin_function_or_method",
        "instance",
        "_Feature"
      ],
      "window_display": false
    },
    "colab": {
      "provenance": [],
      "collapsed_sections": [
        "hvCzr09V8J9l",
        "e-wQMks7wh0b",
        "uzjoyNhdwsVy",
        "NbA6tAGkwtTj",
        "8dQXXR4XwwQt",
        "9_2IiYktw0zP",
        "eyBGi3Zw8MZE",
        "BXIQVBNRQYGd",
        "4s00VmNjDGZc",
        "AeJhRcsnDCr4",
        "v91qKdqFC_AI",
        "bhQ3aXi-C3i9",
        "q3_U1gFpz4KZ",
        "1TBEBT6aRAxR",
        "OeKxoye3aXUs",
        "S7LxmMI_aT96",
        "VryKkxMQaPrB",
        "dkWeKiubaJxS",
        "URnqkQme8OwS",
        "POAZzSBjn-oM",
        "FxFR1elao2Tv",
        "euNbuCXrpf9H",
        "o8g3s11Lpin1",
        "4zVKT-Whot2Z"
      ]
    }
  },
  "nbformat": 4,
  "nbformat_minor": 0
}