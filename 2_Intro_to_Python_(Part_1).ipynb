{
  "cells": [
    {
      "cell_type": "markdown",
      "source": [
        "# ⌨️ Using the Code Cell"
      ],
      "metadata": {
        "id": "AOyT7k2t1ZTb"
      }
    },
    {
      "cell_type": "markdown",
      "source": [
        "As mentioned previously, you can add code cells by hovering between cells and clicking on the `+ Code` button that appears. These cells will allow you to write and execute code in Python and will be the primary medium that we use to solve problems throughout this course."
      ],
      "metadata": {
        "id": "GVJF6xIUwyDd"
      }
    },
    {
      "cell_type": "markdown",
      "source": [
        "Try running the following code cell by selecting it and pressing `Shift + Enter`."
      ],
      "metadata": {
        "id": "vFlg1T4_w7rR"
      }
    },
    {
      "cell_type": "code",
      "execution_count": null,
      "metadata": {
        "id": "q8M7fvMeNXwN"
      },
      "outputs": [],
      "source": [
        "# Comment\n",
        "#2*3\n",
        "print('Hello, World!')\n",
        "2*2"
      ]
    },
    {
      "cell_type": "markdown",
      "source": [
        "In addition to whatever is in the `print()` function, these code cells will output the last operation executed. You can test this by commenting out `2*2` (i.e., `#2*2`) and uncommenting `2*3`. When you run this code cell again, you will only see `Hello, World` as an output."
      ],
      "metadata": {
        "id": "JGU5ucjhz3y4"
      }
    },
    {
      "cell_type": "markdown",
      "source": [
        "## Commenting"
      ],
      "metadata": {
        "id": "0YMHp2NI2LKy"
      }
    },
    {
      "cell_type": "markdown",
      "source": [
        "Commenting (in Python, putting `#` before your text) is a very useful ability in any programming language. It allows you to annotate your code so that (ideally) anyone can read your code and have a sense of what you are trying to accomplish. Additionally, it can be useful to for troubleshooting your code, where you want to save a line of code while you try out a new line. Furthermore, you can comment out blocks of code by enclosing the code block with `\"\"\"`."
      ],
      "metadata": {
        "id": "95-NHr2o2JHw"
      }
    },
    {
      "cell_type": "code",
      "source": [
        "# Printing 'Hello, World!'\n",
        "\n",
        "print('Hello, World!') # Using the built-in Python function print()\n",
        "#print('Hi, Earth!') # Testing to see if I can modify text within the function"
      ],
      "metadata": {
        "id": "sOlQK64r2dCD"
      },
      "execution_count": null,
      "outputs": []
    },
    {
      "cell_type": "code",
      "source": [
        "# This code is a work in progress, commenting out so that I can still run the code block (see note on comment style below)\n",
        "\"\"\"\n",
        "print(Hello, World!) # This code gives me \"NameError\"\n",
        "print('Hello, World!) # This code gives me \"SyntaxError\"\n",
        "\"\"\"\n",
        "# ^The use of \"\"\" doesn't technically turn the enclosed text into a comment.\n",
        "# It turns the text into a an undefined string (as you will see in the output).\n",
        "# However, this still allows us to run the code and can be useful for debugging."
      ],
      "metadata": {
        "id": "H8jQQG1F0sfP"
      },
      "execution_count": null,
      "outputs": []
    },
    {
      "cell_type": "code",
      "source": [
        "# Style Note: Comments can become very long and extend beyond the viewable\n",
        "#             screen. Therefore, breaking your comments into multiple lines\n",
        "#             may be a good practice. This is especially true when you are\n",
        "#             printing you Notebook to PDF because code that extends beyond\n",
        "#             the viewable window may be cut off."
      ],
      "metadata": {
        "id": "Vry8t1YR0xDw"
      },
      "execution_count": null,
      "outputs": []
    },
    {
      "cell_type": "markdown",
      "source": [
        "For more guidance on commenting see [Writing Comments in Python (Real Python)](https://realpython.com/python-comments-guide/)"
      ],
      "metadata": {
        "id": "rO2CqJ6o6TZP"
      }
    },
    {
      "cell_type": "markdown",
      "source": [
        "## Defining Variables"
      ],
      "metadata": {
        "id": "sSiUoxwb8Cx3"
      }
    },
    {
      "cell_type": "code",
      "source": [
        "# Defining Variables\n",
        "A = 5\n",
        "B = 3.7"
      ],
      "metadata": {
        "id": "NT4FfdMs9h28"
      },
      "execution_count": null,
      "outputs": []
    },
    {
      "cell_type": "markdown",
      "source": [
        "Google Colab will store the values of the variables you define, allowing you to call these variables from cell to cell."
      ],
      "metadata": {
        "id": "RSt6cpS9-lgN"
      }
    },
    {
      "cell_type": "code",
      "source": [
        "# Operations with Variables\n",
        "C = A + B\n",
        "print(C)"
      ],
      "metadata": {
        "id": "725CsSpQ-c98"
      },
      "execution_count": null,
      "outputs": []
    },
    {
      "cell_type": "markdown",
      "source": [
        "Variable names should be descriptive and concise. Remember that capitalization matters when defining variables."
      ],
      "metadata": {
        "id": "0BrX69b9BtDD"
      }
    },
    {
      "cell_type": "code",
      "source": [
        "C_copy = C\n",
        "print(C_copy)\n",
        "\n",
        "C_Copy = 9    # The 'c' in copy is capitalized, meaning that this is a different variable from C_copy\n",
        "print(C_Copy)"
      ],
      "metadata": {
        "id": "agHa0guA-3jJ"
      },
      "execution_count": null,
      "outputs": []
    },
    {
      "cell_type": "markdown",
      "source": [
        "Variables will retain their values until their values are **deleted** (e.g. `del A`) or if all variables are **reset** (e.g., `%reset -f`). Variables can also be reset when your Google Colab session ends (e.g., Google Colab window remains idle for too long or you close your Google Colab window)."
      ],
      "metadata": {
        "id": "re-pCBLhCWIr"
      }
    },
    {
      "cell_type": "code",
      "source": [
        "# Example of a variable being overwritten\n",
        "print(A)\n",
        "A = 4\n",
        "print(A)"
      ],
      "metadata": {
        "id": "B_wHt4CfDkl9"
      },
      "execution_count": null,
      "outputs": []
    },
    {
      "cell_type": "code",
      "source": [
        "# Example of deleting a single variable\n",
        "del A\n",
        "print(A)"
      ],
      "metadata": {
        "id": "q5nrenkLC8jS"
      },
      "execution_count": null,
      "outputs": []
    },
    {
      "cell_type": "code",
      "source": [
        "# Example of resetting all variables (Note: don't put comments in the same line as '%reset -f')\n",
        "%reset -f\n",
        "print(B)\n",
        "print(C)"
      ],
      "metadata": {
        "id": "2-ol9U5cCZ0J"
      },
      "execution_count": null,
      "outputs": []
    },
    {
      "cell_type": "markdown",
      "source": [
        "## Printing with Variables"
      ],
      "metadata": {
        "id": "GggvML4JYdcO"
      }
    },
    {
      "cell_type": "markdown",
      "source": [
        "We've already covered the `print()` function, but there's a clever way to include and customize variables in your printed output."
      ],
      "metadata": {
        "id": "eSzX8sufYjyn"
      }
    },
    {
      "cell_type": "code",
      "source": [
        "pi = 3.141592653589793238462643383279\n",
        "\n",
        "print(f'The value of pi is {pi}')                           # Output: 3.141592653589793\n",
        "                                                            # ^Notice that Python's print()\n",
        "                                                            # function does its own rounding cutoff\n",
        "\n",
        "print(f'The value of pi to 4 decimal places is {pi:.4f}')   # Output: 3.1416 (notice the rounding)\n",
        "print(f'The value of pi to 0 decimal places is {pi:.0f}')   # Output: 3"
      ],
      "metadata": {
        "id": "XIGuqQKZZXtK"
      },
      "execution_count": null,
      "outputs": []
    },
    {
      "cell_type": "markdown",
      "source": [
        "In the example above, we are still using the `print()` function, but including and `f` within the function's parathesis, but before the `''` of the string to be printed. Inside the string, we can specify the variable we want to print with `{}` where we include the variable (`pi`) and specifics about how we want the variable printed (`:.4f`). For `.4f`, `f` stands for `float` and `.4` specifies that we want 4 digits after the decimal"
      ],
      "metadata": {
        "id": "Vl1upeDQbHO1"
      }
    },
    {
      "cell_type": "markdown",
      "source": [
        "## Variable Types"
      ],
      "metadata": {
        "id": "bNg9-B7--Fir"
      }
    },
    {
      "cell_type": "markdown",
      "source": [
        "Commone variable types include:\n",
        "* Integers (`int`) - Whole numbers.\n",
        "* Float (`float`) - Numbers with decimal points.\n",
        "* Complex Numbers (`complex`) - Numbers with imaginary components.\n",
        "* String (`str`) - Strings of characters in `\" \"` or `' '`\n",
        "* Boolean (`bool`) - True or False for logical operations"
      ],
      "metadata": {
        "id": "6TgyQG2_Dy--"
      }
    },
    {
      "cell_type": "code",
      "source": [
        "# Recall common variable types:\n",
        "A = 5 # int\n",
        "B = 3.7 # float\n",
        "C = 2 + 3j # complex\n",
        "D = \"text\" # str\n",
        "E = False #bool"
      ],
      "metadata": {
        "id": "_A2lZKr4-RyN"
      },
      "execution_count": null,
      "outputs": []
    },
    {
      "cell_type": "code",
      "source": [
        "# The type() function outputs the variable type.\n",
        "type(A) # Output: int\n",
        "type(B) # Output: float\n",
        "type(C) # Output: complex\n",
        "type(D) # Output: str\n",
        "type(E) # Output: bool\n",
        "\n",
        "# Example Output\n",
        "check = B\n",
        "print(check)\n",
        "print(type(check))"
      ],
      "metadata": {
        "id": "QZpt_-atDOZ5"
      },
      "execution_count": null,
      "outputs": []
    },
    {
      "cell_type": "markdown",
      "source": [
        "In addition to identifying types with the built-in function `type()`, we can also use other built-in functions to change the type/class of a variables:\n",
        "* Convert to Integer: `int()`\n",
        "* Convert to Float: `float()`\n",
        "* Convert to String: `str()`\n",
        "* Convert to Complex Number: `complex()`\n",
        "* Convert to Boolean: `bool()`"
      ],
      "metadata": {
        "id": "Htn8fWtSchR0"
      }
    },
    {
      "cell_type": "code",
      "source": [
        "# As previously mentioned, python will assume variable types.\n",
        "# However, sometimes this may result in variables not being the type you want them to be.\n",
        "\n",
        "A = 1 # int\n",
        "B = 1.0 # float\n",
        "C = '1' # str\n",
        "D = 1 + 0j # complex\n",
        "E = True # bool (Oftentimes, 1 is True and 0 is False)\n",
        "\n",
        "# Print Type of each variable\n",
        "print('type(B): ',type(B))\n",
        "print('type(A): ',type(A))\n",
        "print('type(C): ',type(C))\n",
        "print('type(D): ',type(D))\n",
        "print('type(E): ',type(E))\n"
      ],
      "metadata": {
        "id": "KlRTlhOydIVE"
      },
      "execution_count": null,
      "outputs": []
    },
    {
      "cell_type": "markdown",
      "source": [
        "## Example of Changing Variable Type: `int()`"
      ],
      "metadata": {
        "id": "sI1-hfmTGV29"
      }
    },
    {
      "cell_type": "code",
      "source": [
        "# int() - Converts input into an integer.\n",
        "int(A) # Output: 1\n",
        "int(B) # Output: 1\n",
        "int(C) # Output: 1 \t\tNote: int('one') = ValueError\n",
        "#int(D) # Output: TypeError\n",
        "int(E) # Output: 1\t\tNote: int(False) = 0\n",
        "\n",
        "# Print Type of each variable (Excluding Errors)\n",
        "print(int(A),type(int(A)))\n",
        "print(int(B),type(int(B)))\n",
        "print(int(C),type(int(C)))\n",
        "#print(int(D),type(int(D)))\n",
        "print(int(E),type(int(E)))"
      ],
      "metadata": {
        "id": "Ea4qHk5MdMQt"
      },
      "execution_count": null,
      "outputs": []
    },
    {
      "cell_type": "markdown",
      "source": [
        "## Additional Types: Float, String, Complex, Boolean"
      ],
      "metadata": {
        "id": "cJQ9gWu0GDYR"
      }
    },
    {
      "cell_type": "markdown",
      "source": [
        "### Float: `float()`"
      ],
      "metadata": {
        "id": "8sPfkf-sx6dR"
      }
    },
    {
      "cell_type": "code",
      "source": [
        "# float() - Converts input into a float.\n",
        "float(A) # Output: 1.0\n",
        "float(B) # Output: 1.0\n",
        "float(C) # Output: 1.0\tNote: float('one') = ValueError\n",
        "#float(D) # Output: TypeError\n",
        "float(E) # Output: 1.0\tNote: float(False) = 0.0\n",
        "\n",
        "# Print Type of each variable (Excluding Errors)\n",
        "print(float(A),type(float(A)))\n",
        "print(float(B),type(float(B)))\n",
        "print(float(C),type(float(C)))\n",
        "#print(float(D),type(float(D)))\n",
        "print(float(E),type(float(E)))"
      ],
      "metadata": {
        "id": "Xu45DtVxdNyZ"
      },
      "execution_count": null,
      "outputs": []
    },
    {
      "cell_type": "markdown",
      "source": [
        "### String: `str()`"
      ],
      "metadata": {
        "id": "Yck45kilyAFH"
      }
    },
    {
      "cell_type": "code",
      "source": [
        "# str() - Converts input into a string.\n",
        "str(A) # Output: '1'\n",
        "str(B) # Output: '1.0'\n",
        "str(C) # Output: '1'\n",
        "str(D) # Output: '(1+0j)'\n",
        "str(E) # Output: 'True'\n",
        "\n",
        "# Print Type of each variable (Excluding Errors)\n",
        "print(str(A),type(str(A)))\n",
        "print(str(B),type(str(B)))\n",
        "print(str(C),type(str(C)))\n",
        "print(str(D),type(str(D)))\n",
        "print(str(E),type(str(E)))"
      ],
      "metadata": {
        "id": "6IgoICM2dV1C"
      },
      "execution_count": null,
      "outputs": []
    },
    {
      "cell_type": "markdown",
      "source": [
        "### Complex: `complex()`"
      ],
      "metadata": {
        "id": "VJqNJ2h0yHlX"
      }
    },
    {
      "cell_type": "code",
      "source": [
        "# complex() - Converts input into a complex number.\n",
        "complex(A) # Output: (1+0j)\n",
        "complex(B) # Output: (1+0j)\n",
        "complex(C) # Output: (1+0j) Note: complex('one') = ValueError.\n",
        "complex(D) # Output: (1+0j)\n",
        "complex(E) # Output: (1+0j)\n",
        "\n",
        "# Print Type of each variable (Excluding Errors)\n",
        "print(complex(A),type(complex(A)))\n",
        "print(complex(B),type(complex(B)))\n",
        "print(complex(C),type(complex(C)))\n",
        "print(complex(D),type(complex(D)))\n",
        "print(complex(E),type(complex(E)))"
      ],
      "metadata": {
        "id": "9OzBx1q-dXcK"
      },
      "execution_count": null,
      "outputs": []
    },
    {
      "cell_type": "markdown",
      "source": [
        "### Boolean: `bool()`"
      ],
      "metadata": {
        "id": "K6Zn6nr-yLGe"
      }
    },
    {
      "cell_type": "code",
      "source": [
        "# bool() - Converts input into a boolean (True or False).\n",
        "bool(A) # Output: True\tNote: Only bool(0) = False. bool(2) = True\n",
        "bool(B) # Output: True\tNote: Only bool(0.0) = False. bool(-2.0) = True\n",
        "bool(C) # Output: True\tNote: All string inputs into bool() = True.\n",
        "bool(D) # Output: True\tNote: Only bool(0+0j) = False. bool(1+1j) = True\n",
        "bool(E) # Output: True\tNote: bool(False) = False\n",
        "\n",
        "# Print Type of each variable (Excluding Errors)\n",
        "print(bool(A),type(bool(A)))\n",
        "print(bool(B),type(bool(B)))\n",
        "print(bool(C),type(bool(C)))\n",
        "print(bool(D),type(bool(D)))\n",
        "print(bool(E),type(bool(E)))"
      ],
      "metadata": {
        "id": "UtEAPv39da_v"
      },
      "execution_count": null,
      "outputs": []
    },
    {
      "cell_type": "markdown",
      "source": [
        "# 📋 Lists: [ ]"
      ],
      "metadata": {
        "id": "UfmSsKxXFJQg"
      }
    },
    {
      "cell_type": "markdown",
      "source": [
        "Variables that contain multiple values are known as lists. We define lists by separating the variables with commas (`,`) and enclosing the list with brackets (e.g., `[ ]`). Lists satisfy the following criteria:\n",
        "* ✅ Ordered (maintains inserted order)\n",
        "* ✅ Mutable (elements can be changed, added, or removed)\n",
        "* ✅ Can hold mixed data types\n",
        "* ❌ Elements don't have to be unique"
      ],
      "metadata": {
        "id": "q_VnaX6gHTHW"
      }
    },
    {
      "cell_type": "code",
      "source": [
        "%reset -f\n",
        "\n",
        "# Define list\n",
        "x = [0, 1, 2, 3, 4]\n",
        "print(x)"
      ],
      "metadata": {
        "id": "ay0mMkKYINqU"
      },
      "execution_count": null,
      "outputs": []
    },
    {
      "cell_type": "markdown",
      "source": [
        "## Indexing of Lists 😵‍💫"
      ],
      "metadata": {
        "id": "NTwe0xEXPY-j"
      }
    },
    {
      "cell_type": "markdown",
      "source": [
        "In general, Python is designed to be as intuitive as possible. One aspect where Python isn't as intuitive is with indexing in lists (hence the 😵‍💫)\n",
        "\n",
        "Indexing is the way we access individual elements from a list. We can access these elements by using brackets next to the list variable: `x[i]` (where `x` is our list variable, and `i` is the index number).\n",
        "\n",
        "**IMPORTANT NOTE**: Python starts counting at 0, not 1. Therefore, if we want the first value in the list, we will need to run `x[0]`"
      ],
      "metadata": {
        "id": "260iHcOdJGAI"
      }
    },
    {
      "cell_type": "code",
      "source": [
        "# Forward counting in Python starts at 0:\n",
        "print(x)\n",
        "print('x[0] = ', x[0])  # This is the first element in the list.\n",
        "print('x[1] = ', x[1])  # This is the second element in the list."
      ],
      "metadata": {
        "id": "gyg_EOEUJ9-v"
      },
      "execution_count": null,
      "outputs": []
    },
    {
      "cell_type": "markdown",
      "source": [
        "Python also supports negative counting, or counting from the last item in the list backwards. For example `x[-1]` will give the last value in the list, x[-2] will give the second to last value in the list, and so on."
      ],
      "metadata": {
        "id": "0oaUWVfiKsNd"
      }
    },
    {
      "cell_type": "code",
      "source": [
        "# Backwards counting in Python starts at -1:\n",
        "print(x)\n",
        "print('x[-1] = ', x[-1])\n",
        "print('x[-2] = ', x[-2])"
      ],
      "metadata": {
        "id": "PFCaqD-7K0r-"
      },
      "execution_count": null,
      "outputs": []
    },
    {
      "cell_type": "markdown",
      "source": [
        "If you try to index a value that exceeds the length of your list, you will get an IndexError."
      ],
      "metadata": {
        "id": "J1bnI_ycLeTq"
      }
    },
    {
      "cell_type": "code",
      "source": [
        "# Example of IndexError\n",
        "print(x[7])"
      ],
      "metadata": {
        "id": "4v2dlPavLfVq"
      },
      "execution_count": null,
      "outputs": []
    },
    {
      "cell_type": "markdown",
      "source": [
        "This is a common error when using the built-in function `len(x)` that will output the length of list `x`.\n",
        "\n",
        "Unlike Python, `len()` starts counting at 1."
      ],
      "metadata": {
        "id": "QGkZTreFI6G3"
      }
    },
    {
      "cell_type": "code",
      "source": [
        "# Example of using len()\n",
        "n = len(x)\n",
        "print(n)"
      ],
      "metadata": {
        "id": "-abMFCA8I_7x"
      },
      "execution_count": null,
      "outputs": []
    },
    {
      "cell_type": "markdown",
      "source": [
        "If we want to use `len(x)` to access the final value in our list `x`, we need to remember that Python counting starts at 0."
      ],
      "metadata": {
        "id": "vpoHDFnNMwhZ"
      }
    },
    {
      "cell_type": "code",
      "source": [
        "# Common error using len()\n",
        "n = len(x)\n",
        "print(x[n]) # B/c Python counting starts at 0, x[len(x)] exceeds the length of indexed values by 1."
      ],
      "metadata": {
        "id": "RKTK4_4IMTa4"
      },
      "execution_count": null,
      "outputs": []
    },
    {
      "cell_type": "markdown",
      "source": [
        "Therefore, to access the final value in our list `x`, we need to use `len(x)-1` instead"
      ],
      "metadata": {
        "id": "h4Gex77uNDZ2"
      }
    },
    {
      "cell_type": "code",
      "source": [
        "# Correcting common error using len()\n",
        "print(x[n-1])       # This will output the final value in list x\n",
        "\n",
        "#print(x[len(x)-1])  # You could also insert len(x) directly"
      ],
      "metadata": {
        "id": "510HwhuUNnFN"
      },
      "execution_count": null,
      "outputs": []
    },
    {
      "cell_type": "markdown",
      "source": [
        "## Slicing a List 😵‍💫"
      ],
      "metadata": {
        "id": "djYnimX2W3JE"
      }
    },
    {
      "cell_type": "markdown",
      "source": [
        "We can use `:` to take a slice of a list. Slicing follows takes the following notation: `x[start:stop:step]`\n",
        "\n",
        "If unspecified, the default values are:\n",
        "* `start = 0`\n",
        "* `stop = -1`\n",
        "* `step = 1`"
      ],
      "metadata": {
        "id": "dJ57gpVxTu5X"
      }
    },
    {
      "cell_type": "markdown",
      "source": [
        "Note that slicing will **include** the value associated with index = `start`, but **exclude** the value associated with index = `stop`.\n",
        "\n",
        "This is another less-intuitive aspects of Python (😵‍💫) that is good to be aware of."
      ],
      "metadata": {
        "id": "dMRCPqCKe1cd"
      }
    },
    {
      "cell_type": "code",
      "source": [
        "# Basic Example of Slicing\n",
        "print(x[1:4])     # From index 1 to index 3"
      ],
      "metadata": {
        "id": "B6fw_EnqUQDV"
      },
      "execution_count": null,
      "outputs": []
    },
    {
      "cell_type": "markdown",
      "source": [
        "Being able to control the start, stop, and step gives you a lot of control over how to navigate your list."
      ],
      "metadata": {
        "id": "VtfgaBakWpfZ"
      }
    },
    {
      "cell_type": "code",
      "source": [
        "# Advanced Examples of Slicing\n",
        "print(x[:-2:])    # From beginning to second-to-last item\n",
        "print(x[::2])     # Every other item\n",
        "print(x[::-1])    # Reversed order"
      ],
      "metadata": {
        "id": "eo4sZc2JeRfA"
      },
      "execution_count": null,
      "outputs": []
    },
    {
      "cell_type": "markdown",
      "source": [
        "Slicing also provides an efficient way to copy your list and avoid mutability issues of lists (see next section \"Direct Modification of Lists\")."
      ],
      "metadata": {
        "id": "UqL8nEJnetbb"
      }
    },
    {
      "cell_type": "code",
      "source": [
        "x_copy = x[:]     # Copy all\n",
        "print(x_copy)"
      ],
      "metadata": {
        "id": "jS-y8InhebxO"
      },
      "execution_count": null,
      "outputs": []
    },
    {
      "cell_type": "markdown",
      "source": [
        "## Direction Modification of Lists 😵‍💫"
      ],
      "metadata": {
        "id": "GR17cpPaPlQW"
      }
    },
    {
      "cell_type": "markdown",
      "source": [
        "A final less-intuitive aspect of Python (😵‍💫) has to do with direct modification of lists.\n",
        "\n",
        "Just like with variables, we can redefine elements in a list."
      ],
      "metadata": {
        "id": "fcK366nwQcyU"
      }
    },
    {
      "cell_type": "code",
      "source": [
        "# Printing original list x\n",
        "print('Old list:', x)\n",
        "\n",
        "# Redefine the third element in list x\n",
        "x[2] = 8\n",
        "\n",
        "# Printing revised list x\n",
        "print('New list', x)"
      ],
      "metadata": {
        "id": "9LDpfeUbQssa"
      },
      "execution_count": null,
      "outputs": []
    },
    {
      "cell_type": "markdown",
      "source": [
        "Taking this a step further, we can also define variables to be equal to other lists."
      ],
      "metadata": {
        "id": "HPICw44BRSh4"
      }
    },
    {
      "cell_type": "code",
      "source": [
        "# Defining y to be equal to x\n",
        "y=x\n",
        "\n",
        "# Printing list y\n",
        "print('y list:', y)"
      ],
      "metadata": {
        "id": "W65IQM8HRZxW"
      },
      "execution_count": null,
      "outputs": []
    },
    {
      "cell_type": "markdown",
      "source": [
        "However, if we modify `x`, this will also modify `y` because `y` is defined to be whatever `x` (even if it changes). This is called 'Direct Modification'."
      ],
      "metadata": {
        "id": "8NFRJJutRqpu"
      }
    },
    {
      "cell_type": "code",
      "source": [
        "# Modify list x\n",
        "x[2] = 9\n",
        "\n",
        "# Compare lists x and y\n",
        "print('x list:', x)\n",
        "print('y list:', y)"
      ],
      "metadata": {
        "id": "HLzB9oQTRyRB"
      },
      "execution_count": null,
      "outputs": []
    },
    {
      "cell_type": "markdown",
      "source": [
        "To avoid this, there are a number of ways to variable to be copies of list `x` as opposed to the same as list `x`:"
      ],
      "metadata": {
        "id": "ftHcavH0SYDw"
      }
    },
    {
      "cell_type": "code",
      "source": [
        "# Method 1: Use built-in function .copy() to create a copy of x.\n",
        "a = x.copy()\n",
        "\n",
        "# Method 2: Set the variable to a (complete) \"slice\" of x.\n",
        "b = x[:]\n",
        "\n",
        "#Modify list x\n",
        "x[2] = 10\n",
        "print('x list:', x)\n",
        "print('y list:', y) # Will be affected by modification\n",
        "print('a list:', a) # Should be unaffected by modification\n",
        "print('b list:', b) # Should be unaffected by modification"
      ],
      "metadata": {
        "id": "IPCL7hFvSpRI"
      },
      "execution_count": null,
      "outputs": []
    },
    {
      "cell_type": "markdown",
      "source": [
        "## 🫵 Give it a try!\n",
        "Create a list called `numbers` that starts at 0 and goes to 100 by tens (i.e., 0, 10, 20, 30,...), then print a slice of `numbers` so that you start at 90 and count backwards by 20s until you get to 30."
      ],
      "metadata": {
        "id": "zyzMN1zVgYkP"
      }
    },
    {
      "cell_type": "code",
      "source": [],
      "metadata": {
        "id": "rU5OiI02kkrF"
      },
      "execution_count": null,
      "outputs": []
    },
    {
      "cell_type": "markdown",
      "source": [
        "## 👈 If you're stuck, click the 🔽 button on the left for hints."
      ],
      "metadata": {
        "id": "M3ppfO-TmHVd"
      }
    },
    {
      "cell_type": "markdown",
      "source": [
        "### 🤔 Hint #1"
      ],
      "metadata": {
        "id": "GP7XevYujXQC"
      }
    },
    {
      "cell_type": "code",
      "source": [
        "# Start by defining your list called numbers.\n",
        "# Remember that we can create lists by using brackets [] and separating items with commas.\n",
        "numbers = [0,10,20,30,...] # Be sure to complete this list all the way to 100"
      ],
      "metadata": {
        "id": "Sch0pk1pj5jS"
      },
      "execution_count": null,
      "outputs": []
    },
    {
      "cell_type": "markdown",
      "source": [
        "### 😅 Hint #2"
      ],
      "metadata": {
        "id": "Rwv5q0kTjcEW"
      }
    },
    {
      "cell_type": "code",
      "source": [
        "# Now that we've defined the list called numbers, we can slice it by specifying indicies that we want to reference.\n",
        "print(numbers[0])      # This will call the first item in the list\n",
        "print(numbers[1])      # This will call the second item in the list\n",
        "print(numbers[-1])     # This will call the last item in the list\n",
        "\n",
        "# Remember that slicing coventions follows: numbers[start:stop:step]"
      ],
      "metadata": {
        "id": "MMk43eLmhEcY"
      },
      "execution_count": null,
      "outputs": []
    },
    {
      "cell_type": "markdown",
      "source": [
        "### 🥲 Hint #3"
      ],
      "metadata": {
        "id": "SEB-XYcGj0xA"
      }
    },
    {
      "cell_type": "code",
      "source": [
        "# Remember that slicing coventions follows numbers[start:stop:step]\n",
        "    # Where `start` is the index that the slice starts with\n",
        "    # Where `stop` is the index that the slice will go up to (but not include)\n",
        "    # Where `step` is the step taken starting at the `start` up to the `end` number\n",
        "\n",
        "# Here are some examples:\n",
        "print(numbers[0:-1:2])   # Start at the first index, go up to (but not including) the first index in a step size of 2.\n",
        "print(numbers[-1:0:-2])  # Start at the final index, go up to (but not including) the final index in a step size of -2."
      ],
      "metadata": {
        "id": "zrGVgm2Mj4os"
      },
      "execution_count": null,
      "outputs": []
    },
    {
      "cell_type": "markdown",
      "source": [
        "### 🥳 Check your solution!"
      ],
      "metadata": {
        "id": "AHHQOHj0j6cO"
      }
    },
    {
      "cell_type": "code",
      "source": [
        "numbers = [0,10,20,30,40,50,60,70,80,90,100]\n",
        "\n",
        "print(numbers[-2:2:-2])"
      ],
      "metadata": {
        "id": "cd4r_qqKj_Nr"
      },
      "execution_count": null,
      "outputs": []
    },
    {
      "cell_type": "markdown",
      "source": [
        "## 💪 Extra Practice: Spell Your Name\n",
        "Slice the list `alphabet` so that it spells your name in as few slices as possilbe (i.e., you want to call the variable `alphabet` as few times as possible)."
      ],
      "metadata": {
        "id": "aXVzMZF_8YgG"
      }
    },
    {
      "cell_type": "code",
      "source": [
        "alphabet = ['A','B','C','D','E','F','G','H','I','J','K','L','M','N','O','P','Q','R','S','T','U','V','W','X','Y','Z']\n",
        "\n",
        "# Example that spells CASEY\n",
        "print(alphabet[2::-2],alphabet[18::-14],alphabet[24])"
      ],
      "metadata": {
        "id": "oJZLxMUj9Af4"
      },
      "execution_count": null,
      "outputs": []
    },
    {
      "cell_type": "markdown",
      "source": [
        "# 📖 Dictionary: {`\"key\"`:`value`}"
      ],
      "metadata": {
        "id": "vSExsARrA77o"
      }
    },
    {
      "cell_type": "markdown",
      "source": [
        "Variables that contain multiple values can also store those values as a dictionary. We define dictionaries by using **key-value pairs**, where each **key** is followed by a colon (`:`) and the pair is separated by commas (`,`), all enclosed in braces (e.g., `{\"key\":value}`). Dictionaries satisfy the following criteria:\n",
        "* ✅ Ordered (maintains inserted order)\n",
        "* ✅ Mutable (elements can be changed, added, or removed)\n",
        "* ✅ Can hold mixed data types\n",
        "* ❌ Keys must be unique (values do not have to be unique)\n",
        "\n",
        "This can be useful when you need to fix data, like coordinates or dictionary keys."
      ],
      "metadata": {
        "id": "Ax9Rucx3O8CE"
      }
    },
    {
      "cell_type": "code",
      "source": [
        "# Define a dictionary where each key is a student name and the value is their grade\n",
        "grades = {\n",
        "    \"Alice\": 90,\n",
        "    \"Bob\": 85,\n",
        "    \"Charlie\": 95\n",
        "}\n",
        "\n",
        "# Access a specific student's grade\n",
        "print(\"Alice's Grade:\", grades[\"Alice\"])"
      ],
      "metadata": {
        "id": "tLpv8IE3QCiE"
      },
      "execution_count": null,
      "outputs": []
    },
    {
      "cell_type": "code",
      "source": [
        "# Add an Element\n",
        "grades[\"Dawn\"] = 88\n",
        "print(grades)"
      ],
      "metadata": {
        "id": "L_wmkzEZQboX"
      },
      "execution_count": null,
      "outputs": []
    },
    {
      "cell_type": "code",
      "source": [
        "# Modify an Element\n",
        "grades[\"Bob\"] = 87\n",
        "print(grades)"
      ],
      "metadata": {
        "id": "h2AKurh6Q6z8"
      },
      "execution_count": null,
      "outputs": []
    },
    {
      "cell_type": "code",
      "source": [
        "# Delete an Element\n",
        "del grades[\"Dawn\"]\n",
        "print(grades)"
      ],
      "metadata": {
        "id": "YxTqPUA3RP-T"
      },
      "execution_count": null,
      "outputs": []
    },
    {
      "cell_type": "markdown",
      "source": [
        "## Nested Dictionaries"
      ],
      "metadata": {
        "id": "gk7-xnmcR8GO"
      }
    },
    {
      "cell_type": "markdown",
      "source": [
        "You can also have dictionaries within dictionaries, which is also called \"nested dictionaries\". This allows you to create more complex data structures."
      ],
      "metadata": {
        "id": "ArFh4r7dSCfr"
      }
    },
    {
      "cell_type": "code",
      "source": [
        "# Define a dictionary where each student maps to another dictionary\n",
        "students = {\n",
        "    \"Alice\": {\n",
        "        \"age\": 20,\n",
        "        \"major\": \"Environmental Engineering\",\n",
        "        \"GPA\": 3.8\n",
        "    },\n",
        "    \"Bob\": {\n",
        "        \"age\": 21,\n",
        "        \"major\": \"Civil Engineering\",\n",
        "        \"GPA\": 3.5\n",
        "    },\n",
        "    \"Charlie\": {\n",
        "        \"age\": 22,\n",
        "        \"major\": \"Mechanical Engineering\",\n",
        "        \"GPA\": 3.9\n",
        "    }\n",
        "}\n",
        "\n",
        "# Access the major of a specific student\n",
        "print(\"Alice's Major:\", students[\"Alice\"][\"major\"])"
      ],
      "metadata": {
        "id": "jDNwf1o1R-hz"
      },
      "execution_count": null,
      "outputs": []
    },
    {
      "cell_type": "markdown",
      "source": [
        "## 🫵 Give it a try!\n",
        "Try accessing the following from the `students` dictionary:\n",
        "* Charlie's GPA\n",
        "* Bob's Full Record"
      ],
      "metadata": {
        "id": "YXR1mXWCSrcN"
      }
    },
    {
      "cell_type": "code",
      "source": [],
      "metadata": {
        "id": "BPlEqrdXTMYk"
      },
      "execution_count": null,
      "outputs": []
    },
    {
      "cell_type": "markdown",
      "source": [
        "## 👈 If you're stuck, click the 🔽 button on the left for hints."
      ],
      "metadata": {
        "id": "L7FFEcaCTV9B"
      }
    },
    {
      "cell_type": "markdown",
      "source": [
        "### 🤔 Hint #1"
      ],
      "metadata": {
        "id": "MunnWCSLTnjH"
      }
    },
    {
      "cell_type": "code",
      "source": [
        "# If you want to output something, you'll want to use the print() function\n",
        "# Additionally, remember that the entire dictionary is stored in the variable students\n",
        "\n",
        "print(students)"
      ],
      "metadata": {
        "id": "gUetEyeIU3Bz"
      },
      "execution_count": null,
      "outputs": []
    },
    {
      "cell_type": "markdown",
      "source": [
        "### 😅 Hint #2"
      ],
      "metadata": {
        "id": "Sd0qtU1sUm0x"
      }
    },
    {
      "cell_type": "code",
      "source": [
        "# To call a specific element in the dictionary, we need to use brackets.\n",
        "# See how this was done in the previous example:\n",
        "print(\"Alice's Major:\", students[\"Alice\"][\"major\"])\n",
        "\n",
        "# Remember that our keys are strings, so they need to be enclosed with \" \".\n",
        "# Note that order matters, for example students[\"major\"][\"Alice\"] would get us a KeyError.\n",
        "\n",
        "# Try adjusting the above code to get Charlie's GPA"
      ],
      "metadata": {
        "id": "1A1na092VgYI"
      },
      "execution_count": null,
      "outputs": []
    },
    {
      "cell_type": "markdown",
      "source": [
        "### 🥲 Hint #3"
      ],
      "metadata": {
        "id": "wi3aoP5DUquI"
      }
    },
    {
      "cell_type": "code",
      "source": [
        "# Similar to when we printed the whole dictionary (i.e., print(students)) we got the entire record of everyone.\n",
        "# We can call only one key to obtain all the values under that key.\n",
        "print(students[\"Alice\"])\n",
        "\n",
        "# Try modifying the above code to obtain Bob's full record."
      ],
      "metadata": {
        "id": "gWpoWfyvWV1d"
      },
      "execution_count": null,
      "outputs": []
    },
    {
      "cell_type": "markdown",
      "source": [
        "### 🥳 Check your solution!"
      ],
      "metadata": {
        "id": "36UBulAzUs5N"
      }
    },
    {
      "cell_type": "code",
      "source": [
        "# Charlie's GPA\n",
        "print(\"Charlie's GPA:\", students[\"Charlie\"][\"GPA\"])\n",
        "\n",
        "# Bob's Full Record\n",
        "print(\"Bob's Full Record:\", students[\"Bob\"])"
      ],
      "metadata": {
        "id": "fHN81lVmW5GN"
      },
      "execution_count": null,
      "outputs": []
    },
    {
      "cell_type": "code",
      "source": [],
      "metadata": {
        "id": "zBktkEFgWya5"
      },
      "execution_count": null,
      "outputs": []
    },
    {
      "cell_type": "markdown",
      "source": [
        "## 💪 Extra Practice: Make your own Dictionary\n",
        "What's something that you could organize into a dictionary? Maybe its NBA player statistics (e.g. team, position, points, steals, rebounds) or Naruto characters (e.g., village, jutsu, rank, chakra_nature, signature_move)."
      ],
      "metadata": {
        "id": "_7Ec6JUpXpGm"
      }
    },
    {
      "cell_type": "code",
      "source": [],
      "metadata": {
        "id": "3LZMHrg3Xu2E"
      },
      "execution_count": null,
      "outputs": []
    },
    {
      "cell_type": "markdown",
      "source": [
        "# 🗂️ Other Data Structures"
      ],
      "metadata": {
        "id": "tc73KfdlA5s6"
      }
    },
    {
      "cell_type": "markdown",
      "source": [
        "## Tuple: ( )"
      ],
      "metadata": {
        "id": "Ky_9Pc15Bt-0"
      }
    },
    {
      "cell_type": "markdown",
      "source": [
        "Variables that contain multiple values can also store those values as a tuple. We define tuples by separating the variables with commas (`,`) and enclosing the tuple with parentheses (e.g., `( )`). Tuples satisfy the following criteria:\n",
        "* ✅ Ordered (maintains inserted order)\n",
        "* ❌ Immutable (elements cannot be changed, added, or removed)\n",
        "* ✅ Can hold mixed data types\n",
        "* ❌ Elements don't have to be unique\n",
        "\n",
        "This can be useful when you need to fix data, like coordinates or dictionary keys."
      ],
      "metadata": {
        "id": "1u5qd1YxDLXq"
      }
    },
    {
      "cell_type": "code",
      "source": [
        "%reset -f\n",
        "\n",
        "# Define tuple\n",
        "y = (1, 2, 3, 4, 5)\n",
        "print(y)"
      ],
      "metadata": {
        "id": "vkAGNbQODx5H"
      },
      "execution_count": null,
      "outputs": []
    },
    {
      "cell_type": "code",
      "source": [
        "# Indexing for tuples is the same as lists.\n",
        "print(y[2])"
      ],
      "metadata": {
        "id": "jiWc6m_sE20n"
      },
      "execution_count": null,
      "outputs": []
    },
    {
      "cell_type": "code",
      "source": [
        "# However, the main difference is that tuples are not mutable. Therefore we cannot reassign, add, or remove values.\n",
        "y[2]=6  # Output: TypeError"
      ],
      "metadata": {
        "id": "v-ykbB3wFKeN"
      },
      "execution_count": null,
      "outputs": []
    },
    {
      "cell_type": "markdown",
      "source": [
        "## Set: { }"
      ],
      "metadata": {
        "id": "O0mGK2PNBJdH"
      }
    },
    {
      "cell_type": "markdown",
      "source": [
        "Variables that contain multiple values can also store those values as a set. We define sets by separating the variables with commas (`,`) and enclosing the set with braces (e.g., `{ }`). Sets satisfy the following criteria:\n",
        "* ❌ Unordered (does not maintain inserted order)\n",
        "* ✅ Mutable (elements can be changed, added, or removed)\n",
        "* ✅ Can hold mixed data types\n",
        "* ✅ Elements must be unique\n",
        "\n",
        "\n",
        "Sets can be useful when you need to remove duplicates or test membership of elements in multiple sets (e.g., compare, filter)."
      ],
      "metadata": {
        "id": "_tZvCb46FmFz"
      }
    },
    {
      "cell_type": "code",
      "source": [
        "%reset -f\n",
        "\n",
        "# Sets Automatically Remove Duplicates\n",
        "set_A = {'a','b','c','a','d','e','c','a','b','e','d','a'} # Set containing letters a - e\n",
        "print(set_A) # Output will be an unordered set."
      ],
      "metadata": {
        "id": "ObJ86p9QJpBG"
      },
      "execution_count": null,
      "outputs": []
    },
    {
      "cell_type": "code",
      "source": [
        "# Creating Another Set to Test Membership\n",
        "set_B = {'c','d','g','e','f','d','g','c','d','f','g','e'} # Set containing letters c - g\n",
        "print(set_B)\n",
        "\n",
        "# Testing Membership\n",
        "# Intersection\n",
        "print('Intersection: ', set_A & set_B)\n",
        "\n",
        "# Difference\n",
        "print('Difference of A from B: ', set_A - set_B)\n",
        "print('Difference of B from A: ', set_B - set_A)"
      ],
      "metadata": {
        "id": "brahHjFjKaJ5"
      },
      "execution_count": null,
      "outputs": []
    },
    {
      "cell_type": "markdown",
      "source": [
        "## Array: `np.array([ ])` & Data Frame: `pd.DataFrame( )`"
      ],
      "metadata": {
        "id": "7Ctdpk_rByJG"
      }
    },
    {
      "cell_type": "markdown",
      "source": [
        "There are two other important data structures that we will go into detail later on. These include NumPy Arrays and Pandas DataFrames.\n",
        "* NumPy Arrays are similar to lists, but requires all elements to have the same type\n",
        "* Pandas DataFrames are similar to dictionaries, but designed for data analysis and manipulation\n",
        "* As a result conducting operations using NumPy Arrays or Pandas DataFrames is usually faster than using Python lists or dictionaries."
      ],
      "metadata": {
        "id": "EBoZo3k-MCml"
      }
    }
  ],
  "metadata": {
    "hide_input": false,
    "kernelspec": {
      "display_name": "Python 3 (ipykernel)",
      "language": "python",
      "name": "python3"
    },
    "language_info": {
      "codemirror_mode": {
        "name": "ipython",
        "version": 3
      },
      "file_extension": ".py",
      "mimetype": "text/x-python",
      "name": "python",
      "nbconvert_exporter": "python",
      "pygments_lexer": "ipython3",
      "version": "3.12.8"
    },
    "latex_envs": {
      "LaTeX_envs_menu_present": true,
      "autoclose": false,
      "autocomplete": true,
      "bibliofile": "biblio.bib",
      "cite_by": "apalike",
      "current_citInitial": 1,
      "eqLabelWithNumbers": true,
      "eqNumInitial": 1,
      "hotkeys": {
        "equation": "Ctrl-E",
        "itemize": "Ctrl-I"
      },
      "labels_anchors": false,
      "latex_user_defs": false,
      "report_style_numbering": false,
      "user_envs_cfg": false
    },
    "toc": {
      "base_numbering": 1,
      "nav_menu": {},
      "number_sections": true,
      "sideBar": true,
      "skip_h1_title": false,
      "title_cell": "Table of Contents",
      "title_sidebar": "Contents",
      "toc_cell": false,
      "toc_position": {},
      "toc_section_display": true,
      "toc_window_display": false
    },
    "varInspector": {
      "cols": {
        "lenName": "40",
        "lenType": 16,
        "lenVar": "100"
      },
      "kernels_config": {
        "python": {
          "delete_cmd_postfix": "",
          "delete_cmd_prefix": "del ",
          "library": "var_list.py",
          "varRefreshCmd": "print(var_dic_list())"
        },
        "r": {
          "delete_cmd_postfix": ") ",
          "delete_cmd_prefix": "rm(",
          "library": "var_list.r",
          "varRefreshCmd": "cat(var_dic_list()) "
        }
      },
      "types_to_exclude": [
        "module",
        "function",
        "builtin_function_or_method",
        "instance",
        "_Feature"
      ],
      "window_display": false
    },
    "colab": {
      "provenance": [],
      "collapsed_sections": [
        "AOyT7k2t1ZTb",
        "cJQ9gWu0GDYR",
        "CLfBISnQACdW",
        "M3ppfO-TmHVd",
        "GP7XevYujXQC",
        "Rwv5q0kTjcEW",
        "SEB-XYcGj0xA",
        "AHHQOHj0j6cO",
        "L7FFEcaCTV9B",
        "MunnWCSLTnjH",
        "Sd0qtU1sUm0x",
        "wi3aoP5DUquI",
        "36UBulAzUs5N",
        "tc73KfdlA5s6",
        "hvCzr09V8J9l",
        "FxFR1elao2Tv",
        "euNbuCXrpf9H",
        "o8g3s11Lpin1"
      ]
    }
  },
  "nbformat": 4,
  "nbformat_minor": 0
}